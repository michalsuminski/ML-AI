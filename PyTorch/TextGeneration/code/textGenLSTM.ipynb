{
 "cells": [
  {
   "cell_type": "markdown",
   "metadata": {},
   "source": [
    "<font size='5'>Dla uproszczenia zakładamy, że długość zapytania odpowiada długości sekwencji przetwarzanej przez model. Nie uwzględniamy zatem uzupełniania sekwencji pustymi elementami (padding). Długość sekwencji wyrażona jest liczbą elementów (tokens), na które dzielony jest tekst. \n",
    "<br> - O co chodzi z \"Nie uwzględniamy zatem uzupełniania sekwencji pustymi elementami (padding)\"??\n",
    "<br> - Więc rozumiem to tak, że jak ustalamy, że wejście ma x elementów, to możemy dać zapytania tylko 10 elementowe. A jeden element(token) to jeden znak, czyli input = x znaków.\n",
    "<br> - Skoro na wyjściu dostajemy jeden element i potem doklejamy go nawejście usuwając pierwszy, to w którym momencie przerywamy ten proces, np. na wejście dajemy \"ala ma kota, a kot ma\" i oczekujemy wyjścia \"ale\". Ale w innym przypadku możemy oczekiwać słowa o innej długości. To bardziej do tego jak model ma być wykorzystany, bo jeśli dobrze rozumiem w trenowaniu jest łatwiej bo oczekujemy tylko kolejnego jednego znaku.\n",
    "<br> - Czym jest wymiar przetwarzanego osadzenia w LSTM?\n",
    "<br> - Czym wgl są osadzenia wejściowe> \"Do utworzenia osadzeń wejściowych należy wykorzystać moduł Embedding dostępny w bibliotece PyTorch\"\n",
    "<br> - Każdy element dostaje unikalny identyfikator - liczbę, czyli, np. 'a' = 1. 'b' = 2, 'c' = 3, itp. CO ZE ZNAKAMI SPECJALNYMI, np. kropka, przecinek, spacja.\n",
    "<br> - Czyli na wejście modelu dajemy sekwencje tych identyfikatorów np. 1 5 7 8 3 1 5 7 i na wyjściu też będzie identyfikator\n",
    "<br> - Skoro na wyjściu z LSTM mamy oczekiwać sekwencjo elementów o takiej samej długości jak wejściowa tylko, np. przesuniętej o 1 element to po co jeszcze daje się warstwę liniową z prawdopodobieństwem danych elementów skoro wiadomo jaki element oczekujemy. EDIT: OKEJ CHYBA WIEM BO DO UCZENIA MODELU INFORMACJA O DOBRYM LUB ZŁYM SŁOWIE NIC NAM NIE POWIE A JAK BĘDZIEMY MIELI WARSTWĘ LINIOWĄ Z OCZEKIWANYM WYJŚCIEM TO TO NAM SIĘ POZWOLI SIĘ UCZYĆ</size>"
   ]
  },
  {
   "cell_type": "markdown",
   "metadata": {},
   "source": [
    "Czytamy tekst i generujemy pary wejście (sekwencja znaków) -> wyjście (pojedynczy znak). Następnie, aby za każdym razem nie generować."
   ]
  },
  {
   "cell_type": "code",
   "execution_count": 29,
   "metadata": {},
   "outputs": [],
   "source": [
    "# Open the file in read mode\n",
    "with open('pantadeusz.txt', 'r', encoding='utf-8') as file:\n",
    "    # Read the entire content as a single string\n",
    "    content_string = file.read().lower()"
   ]
  },
  {
   "cell_type": "code",
   "execution_count": 30,
   "metadata": {},
   "outputs": [
    {
     "data": {
      "text/plain": [
       "(445640, 'księga pierwsza\\n\\n\\n\\ng')"
      ]
     },
     "execution_count": 30,
     "metadata": {},
     "output_type": "execute_result"
    }
   ],
   "source": [
    "len(content_string), content_string[:20]"
   ]
  },
  {
   "cell_type": "code",
   "execution_count": 31,
   "metadata": {},
   "outputs": [],
   "source": [
    "N = 100 # długość sekwencji wejściowej"
   ]
  },
  {
   "cell_type": "code",
   "execution_count": 32,
   "metadata": {},
   "outputs": [],
   "source": [
    "list_of_pairs_input_output = []\n",
    "\n",
    "for i in range(len(content_string) - N - 1):  # przechodzimy po wszytskich elementach, ale ostatni element zaczyna się na -N pozycji i -1 element na output\n",
    "    one_pair = []\n",
    "    one_pair.append([char for char in content_string[i:i + N]]) # N elementowa sekwencja wejściowa, np. znaki 0-49\n",
    "    one_pair.append(content_string[i + N]) # wyjście z modelu, czyli jeden znak po sekwencji wejściowej, np znak 50\n",
    "    list_of_pairs_input_output.append(one_pair)"
   ]
  },
  {
   "cell_type": "code",
   "execution_count": 33,
   "metadata": {},
   "outputs": [],
   "source": [
    "# Open the file in write mode\n",
    "with open(f'input_output_pairs_{N}.txt', 'w', encoding='utf-8') as file:\n",
    "    # Write each element on a new line\n",
    "    for item in list_of_pairs_input_output:\n",
    "        file.write(str(item) + '\\n')"
   ]
  },
  {
   "cell_type": "code",
   "execution_count": 34,
   "metadata": {},
   "outputs": [],
   "source": [
    "import json\n",
    "\n",
    "def read_dict_from_file(file_path):\n",
    "    with open(file_path, 'r', encoding='utf-8') as file:\n",
    "        loaded_dict = json.load(file)\n",
    "    return loaded_dict"
   ]
  },
  {
   "cell_type": "code",
   "execution_count": 35,
   "metadata": {},
   "outputs": [],
   "source": [
    "dict = read_dict_from_file('dict.txt')"
   ]
  },
  {
   "cell_type": "code",
   "execution_count": 36,
   "metadata": {},
   "outputs": [],
   "source": [
    "# placeholder funkcja do kodowania znaków na identyfikatory ze słownika\n",
    "def encodeCharacter(character):\n",
    "    return dict[character]"
   ]
  },
  {
   "cell_type": "code",
   "execution_count": 37,
   "metadata": {},
   "outputs": [],
   "source": [
    "list_of_pairs_input_output_coded = []\n",
    "\n",
    "for elem in list_of_pairs_input_output:\n",
    "    one_pair =[]\n",
    "    one_pair.append([encodeCharacter(char) for char in elem[0]])\n",
    "    one_pair.append(encodeCharacter(elem[1]))\n",
    "    list_of_pairs_input_output_coded.append(one_pair)"
   ]
  },
  {
   "cell_type": "code",
   "execution_count": 38,
   "metadata": {},
   "outputs": [],
   "source": [
    "# Open the file in write mode\n",
    "with open(f'input_output_pairs_encoded_{N}.txt', 'w', encoding='utf-8') as file:\n",
    "    # Write each element on a new line\n",
    "    for item in list_of_pairs_input_output_coded:\n",
    "        file.write(str(item) + '\\n')"
   ]
  },
  {
   "cell_type": "code",
   "execution_count": 39,
   "metadata": {},
   "outputs": [],
   "source": [
    "lenDataset = len(list_of_pairs_input_output_coded)"
   ]
  },
  {
   "cell_type": "code",
   "execution_count": 40,
   "metadata": {},
   "outputs": [
    {
     "ename": "NameError",
     "evalue": "name 'split_data' is not defined",
     "output_type": "error",
     "traceback": [
      "\u001b[0;31m---------------------------------------------------------------------------\u001b[0m",
      "\u001b[0;31mNameError\u001b[0m                                 Traceback (most recent call last)",
      "Cell \u001b[0;32mIn[40], line 1\u001b[0m\n\u001b[0;32m----> 1\u001b[0m train, valid, test \u001b[38;5;241m=\u001b[39m \u001b[43msplit_data\u001b[49m(list_of_pairs_input_output_coded)\n",
      "\u001b[0;31mNameError\u001b[0m: name 'split_data' is not defined"
     ]
    }
   ],
   "source": [
    "train, valid, test = split_data(list_of_pairs_input_output_coded)"
   ]
  },
  {
   "cell_type": "code",
   "execution_count": null,
   "metadata": {},
   "outputs": [],
   "source": [
    "len(train), len(train[0][0]), train[0][1]"
   ]
  },
  {
   "cell_type": "code",
   "execution_count": null,
   "metadata": {},
   "outputs": [],
   "source": [
    "import torch\n",
    "import torch.nn as nn\n",
    "import torch.nn.functional as F\n",
    "import torch.optim as optim\n",
    "from torch.utils.data import DataLoader, TensorDataset\n",
    "import json\n",
    "import random\n",
    "\n",
    "torch.manual_seed(1)"
   ]
  },
  {
   "cell_type": "code",
   "execution_count": null,
   "metadata": {},
   "outputs": [],
   "source": [
    "device = \"cuda\" if torch.cuda.is_available() else \"cpu\"\n",
    "\n",
    "device"
   ]
  },
  {
   "cell_type": "code",
   "execution_count": null,
   "metadata": {},
   "outputs": [],
   "source": [
    "class LSTMTextGenerator(nn.Module):\n",
    "    def __init__(self, embedding_dim, hidden_dim, n_layers, vocab_size=len(dict)):\n",
    "        super(LSTMTextGenerator, self).__init__()\n",
    "        self.n_layers = n_layers\n",
    "        self.hidden_dim = hidden_dim\n",
    "\n",
    "        self.word_embedding = nn.Embedding(vocab_size, embedding_dim)\n",
    "        self.lstm = nn.LSTM(embedding_dim, hidden_dim, n_layers, batch_first=True)\n",
    "        self.linear = nn.Linear(hidden_dim, vocab_size)\n",
    "\n",
    "    def forward(self, X_batch):\n",
    "        embeddings = self.word_embedding(X_batch)\n",
    "\n",
    "        hidden, carry = torch.randn(self.n_layers, len(X_batch), self.hidden_dim).to(device), torch.randn(self.n_layers, len(X_batch), self.hidden_dim).to(device)\n",
    "        output, (hidden, carry) = self.lstm(embeddings, (hidden, carry))\n",
    "        return self.linear(output[:,-1])"
   ]
  },
  {
   "cell_type": "code",
   "execution_count": null,
   "metadata": {},
   "outputs": [],
   "source": [
    "def TrainModel(model, loss_fn, optimizer, train_loader, epochs=10):\n",
    "    losses = []\n",
    "    for i in range(epochs):\n",
    "        for X, Y in train_loader:\n",
    "            Y_preds = model(X.to(device))\n",
    "\n",
    "            loss = loss_fn(Y_preds, Y.to(device))\n",
    "\n",
    "            optimizer.zero_grad()\n",
    "            loss.backward()\n",
    "            optimizer.step()\n",
    "        losses.append(loss.item())\n",
    "    return losses"
   ]
  },
  {
   "cell_type": "code",
   "execution_count": null,
   "metadata": {},
   "outputs": [],
   "source": [
    "def TestModel(model, test_loader, device):\n",
    "    model.eval()\n",
    "    correct = 0\n",
    "    with torch.no_grad():\n",
    "        for X, Y in test_loader:\n",
    "            X, Y = X.to(device), Y.to(device)  # Move both input and target to the same device\n",
    "            output = model(X)\n",
    "            pred = output.argmax(dim=1, keepdim=True)\n",
    "            correct += pred.eq(Y.view_as(pred)).sum().item()\n",
    "    accuracy = 100. * correct / len(test_loader.dataset)\n",
    "    return accuracy"
   ]
  },
  {
   "cell_type": "code",
   "execution_count": null,
   "metadata": {},
   "outputs": [],
   "source": [
    "def read_list_of_lists_from_file(file_path):\n",
    "    with open(file_path, 'r') as file:\n",
    "        lines = file.readlines()\n",
    "    list_of_lists = []\n",
    "    for line in lines:\n",
    "        line = line.strip()\n",
    "        list_with_count = eval(line)\n",
    "        list_of_lists.append(list_with_count)\n",
    " \n",
    "    return list_of_lists"
   ]
  },
  {
   "cell_type": "code",
   "execution_count": null,
   "metadata": {},
   "outputs": [],
   "source": [
    "def split_data(data, train_ratio=0.75, test_ratio=0.25):     \n",
    "    total_size = len(data)     \n",
    "    train_size = int(total_size * train_ratio)              \n",
    "    random.shuffle(data)          \n",
    "    train_data = data[:train_size]     \n",
    "    test_data = data[train_size:]              \n",
    "    return train_data, test_data"
   ]
  },
  {
   "cell_type": "code",
   "execution_count": null,
   "metadata": {},
   "outputs": [],
   "source": [
    "EMBEDDING_DIM = [50, 100]\n",
    "HIDDEN_DIM = [128, 256]\n",
    "LSTM_LAYERS = [1, 2]\n",
    "EPOCHS = [10, 50]\n",
    "SEQUENCE_LENGTH = [50, 100]"
   ]
  },
  {
   "cell_type": "code",
   "execution_count": 24,
   "metadata": {},
   "outputs": [],
   "source": [
    "def prepareData(data):\n",
    "    X_train = [elem[0] for elem in data]\n",
    "    Y_train = [elem[1] for elem in data]\n",
    "    X_train, Y_train = torch.tensor(X_train, dtype=torch.int32), torch.tensor(Y_train)\n",
    "    vectorized_train_dataset = TensorDataset(X_train, Y_train)\n",
    "    return DataLoader(vectorized_train_dataset, batch_size=64, shuffle=False)"
   ]
  },
  {
   "cell_type": "code",
   "execution_count": 37,
   "metadata": {
    "scrolled": true
   },
   "outputs": [
    {
     "name": "stdout",
     "output_type": "stream",
     "text": [
      "EMBEDDING_DIM': 50, 'SEQUENCE_LENGTH': 50, 'HIDDEN_DIM': 128, 'LSTM_LAYERS': 1, 'EPOCHS': 10\n",
      "40.90109337690084\n",
      "EMBEDDING_DIM': 50, 'SEQUENCE_LENGTH': 50, 'HIDDEN_DIM': 128, 'LSTM_LAYERS': 1, 'EPOCHS': 50\n",
      "46.72256234402772\n",
      "EMBEDDING_DIM': 50, 'SEQUENCE_LENGTH': 50, 'HIDDEN_DIM': 128, 'LSTM_LAYERS': 2, 'EPOCHS': 10\n",
      "41.59051329467315\n",
      "EMBEDDING_DIM': 50, 'SEQUENCE_LENGTH': 50, 'HIDDEN_DIM': 128, 'LSTM_LAYERS': 2, 'EPOCHS': 50\n",
      "48.226180003231654\n",
      "EMBEDDING_DIM': 50, 'SEQUENCE_LENGTH': 50, 'HIDDEN_DIM': 256, 'LSTM_LAYERS': 1, 'EPOCHS': 10\n",
      "43.54566509273057\n",
      "EMBEDDING_DIM': 50, 'SEQUENCE_LENGTH': 50, 'HIDDEN_DIM': 256, 'LSTM_LAYERS': 1, 'EPOCHS': 50\n",
      "47.90121905240669\n",
      "EMBEDDING_DIM': 50, 'SEQUENCE_LENGTH': 50, 'HIDDEN_DIM': 256, 'LSTM_LAYERS': 2, 'EPOCHS': 10\n",
      "46.15971561428392\n",
      "EMBEDDING_DIM': 50, 'SEQUENCE_LENGTH': 50, 'HIDDEN_DIM': 256, 'LSTM_LAYERS': 2, 'EPOCHS': 50\n",
      "45.334745686637106\n",
      "EMBEDDING_DIM': 100, 'SEQUENCE_LENGTH': 50, 'HIDDEN_DIM': 128, 'LSTM_LAYERS': 1, 'EPOCHS': 10\n",
      "42.446004416596345\n",
      "EMBEDDING_DIM': 100, 'SEQUENCE_LENGTH': 50, 'HIDDEN_DIM': 128, 'LSTM_LAYERS': 1, 'EPOCHS': 50\n",
      "47.58703028779691\n",
      "EMBEDDING_DIM': 100, 'SEQUENCE_LENGTH': 50, 'HIDDEN_DIM': 128, 'LSTM_LAYERS': 2, 'EPOCHS': 10\n",
      "43.410115082856066\n",
      "EMBEDDING_DIM': 100, 'SEQUENCE_LENGTH': 50, 'HIDDEN_DIM': 128, 'LSTM_LAYERS': 2, 'EPOCHS': 50\n",
      "48.49817770516526\n",
      "EMBEDDING_DIM': 100, 'SEQUENCE_LENGTH': 50, 'HIDDEN_DIM': 256, 'LSTM_LAYERS': 1, 'EPOCHS': 10\n",
      "45.53672417817196\n",
      "EMBEDDING_DIM': 100, 'SEQUENCE_LENGTH': 50, 'HIDDEN_DIM': 256, 'LSTM_LAYERS': 1, 'EPOCHS': 50\n",
      "47.55740677570513\n",
      "EMBEDDING_DIM': 100, 'SEQUENCE_LENGTH': 50, 'HIDDEN_DIM': 256, 'LSTM_LAYERS': 2, 'EPOCHS': 10\n",
      "46.69922260722814\n",
      "EMBEDDING_DIM': 100, 'SEQUENCE_LENGTH': 50, 'HIDDEN_DIM': 256, 'LSTM_LAYERS': 2, 'EPOCHS': 50\n",
      "45.432593044758434\n",
      "EMBEDDING_DIM': 50, 'SEQUENCE_LENGTH': 100, 'HIDDEN_DIM': 128, 'LSTM_LAYERS': 1, 'EPOCHS': 10\n",
      "40.8098038335503\n",
      "EMBEDDING_DIM': 50, 'SEQUENCE_LENGTH': 100, 'HIDDEN_DIM': 128, 'LSTM_LAYERS': 1, 'EPOCHS': 50\n",
      "47.75149257081295\n",
      "EMBEDDING_DIM': 50, 'SEQUENCE_LENGTH': 100, 'HIDDEN_DIM': 128, 'LSTM_LAYERS': 2, 'EPOCHS': 10\n",
      "40.74695874668941\n",
      "EMBEDDING_DIM': 50, 'SEQUENCE_LENGTH': 100, 'HIDDEN_DIM': 128, 'LSTM_LAYERS': 2, 'EPOCHS': 50\n",
      "48.46792656102707\n",
      "EMBEDDING_DIM': 50, 'SEQUENCE_LENGTH': 100, 'HIDDEN_DIM': 256, 'LSTM_LAYERS': 1, 'EPOCHS': 10\n",
      "44.39466714548637\n",
      "EMBEDDING_DIM': 50, 'SEQUENCE_LENGTH': 100, 'HIDDEN_DIM': 256, 'LSTM_LAYERS': 1, 'EPOCHS': 50\n",
      "48.02801095300085\n",
      "EMBEDDING_DIM': 50, 'SEQUENCE_LENGTH': 100, 'HIDDEN_DIM': 256, 'LSTM_LAYERS': 2, 'EPOCHS': 10\n",
      "46.048390716882885\n",
      "EMBEDDING_DIM': 50, 'SEQUENCE_LENGTH': 100, 'HIDDEN_DIM': 256, 'LSTM_LAYERS': 2, 'EPOCHS': 50\n",
      "45.92539390402658\n",
      "EMBEDDING_DIM': 100, 'SEQUENCE_LENGTH': 100, 'HIDDEN_DIM': 128, 'LSTM_LAYERS': 1, 'EPOCHS': 10\n",
      "41.73183103649504\n",
      "EMBEDDING_DIM': 100, 'SEQUENCE_LENGTH': 100, 'HIDDEN_DIM': 128, 'LSTM_LAYERS': 1, 'EPOCHS': 50\n",
      "47.80625757507743\n",
      "EMBEDDING_DIM': 100, 'SEQUENCE_LENGTH': 100, 'HIDDEN_DIM': 128, 'LSTM_LAYERS': 2, 'EPOCHS': 10\n",
      "43.16829016474391\n",
      "EMBEDDING_DIM': 100, 'SEQUENCE_LENGTH': 100, 'HIDDEN_DIM': 128, 'LSTM_LAYERS': 2, 'EPOCHS': 50\n",
      "48.68159985635409\n",
      "EMBEDDING_DIM': 100, 'SEQUENCE_LENGTH': 100, 'HIDDEN_DIM': 256, 'LSTM_LAYERS': 1, 'EPOCHS': 10\n",
      "45.583337074112315\n",
      "EMBEDDING_DIM': 100, 'SEQUENCE_LENGTH': 100, 'HIDDEN_DIM': 256, 'LSTM_LAYERS': 1, 'EPOCHS': 50\n",
      "48.16986129191543\n",
      "EMBEDDING_DIM': 100, 'SEQUENCE_LENGTH': 100, 'HIDDEN_DIM': 256, 'LSTM_LAYERS': 2, 'EPOCHS': 10\n",
      "46.98478251111011\n",
      "EMBEDDING_DIM': 100, 'SEQUENCE_LENGTH': 100, 'HIDDEN_DIM': 256, 'LSTM_LAYERS': 2, 'EPOCHS': 50\n",
      "46.24231269919648\n"
     ]
    }
   ],
   "source": [
    "results = []\n",
    "for n in SEQUENCE_LENGTH:\n",
    "    list_of_pairs_input_output_coded = read_list_of_lists_from_file(f'input_output_pairs_encoded_{n}.txt')\n",
    "    train, test = split_data(list_of_pairs_input_output_coded)\n",
    "    with open(f'train_{n}.txt', 'w', encoding='utf-8') as file:\n",
    "        for item in train:\n",
    "            file.write(str(item) + '\\n')\n",
    "    \n",
    "    with open(f'test_{n}.txt', 'w', encoding='utf-8') as file:\n",
    "        for item in test:\n",
    "            file.write(str(item) + '\\n')\n",
    "            \n",
    "    train_loader = prepareData(train)\n",
    "    test_loader = prepareData(test)\n",
    "    for e_d in EMBEDDING_DIM:\n",
    "        for h_d in HIDDEN_DIM:\n",
    "            for lstm_l in LSTM_LAYERS:\n",
    "                for epoch in EPOCHS:\n",
    "                    print(f\"EMBEDDING_DIM': {e_d}, 'SEQUENCE_LENGTH': {n}, 'HIDDEN_DIM': {h_d}, 'LSTM_LAYERS': {lstm_l}, 'EPOCHS': {epoch}\")\n",
    "                    model = LSTMTextGenerator(e_d, h_d, lstm_l).to(device)\n",
    "                    optimizer = torch.optim.Adam(model.parameters(), lr=0.0001)\n",
    "                    loss_list = TrainModel(model, loss_function, optimizer, train_loader, epoch)\n",
    "                    accuracy = TestModel(model, test_loader, device)\n",
    "                    print(accuracy)\n",
    "                    param_grid = {\n",
    "                        'EMBEDDING_DIM': e_d,\n",
    "                        'SEQUENCE_LENGTH': n,\n",
    "                        'HIDDEN_DIM': h_d,\n",
    "                        'LSTM_LAYERS': lstm_l,\n",
    "                        'EPOCHS': epoch,\n",
    "                        'LOSS_LIST': loss_list,\n",
    "                        'ACCURACY': accuracy\n",
    "                    }\n",
    "                    torch.save(model.state_dict(), f'text_gen_lstm_n{n}_emDim{e_d}_hidDim{h_d}_lay{lstm_l}_ep{epoch}.pth')\n",
    "                    results.append(param_grid)\n",
    "with open('results.txt', 'w', encoding='utf-8') as file:\n",
    "    for item in results:\n",
    "        file.write(str(item) + '\\n')\n"
   ]
  },
  {
   "cell_type": "code",
   "execution_count": 197,
   "metadata": {},
   "outputs": [],
   "source": [
    "model = LSTMTextGenerator(EMBEDDING_DIM, HIDDEN_DIM, LSTM_LAYERS).to(device)\n",
    "if torch.cuda.is_available():\n",
    "    model.cuda()\n",
    "loss_function = torch.nn.CrossEntropyLoss().to(device)\n",
    "optimizer = torch.optim.Adam(model.parameters(), lr=0.0001)\n",
    "epochs = 5"
   ]
  },
  {
   "cell_type": "code",
   "execution_count": 41,
   "metadata": {},
   "outputs": [],
   "source": [
    "# dekoduje sekewncje kodów na tekst\n",
    "def decode(dictionary, target_value):\n",
    "    for key, value in dictionary.items():         \n",
    "        if value == target_value:             \n",
    "            return key     \n",
    "    # return None  # Return None if the value is not found "
   ]
  },
  {
   "cell_type": "code",
   "execution_count": 42,
   "metadata": {},
   "outputs": [
    {
     "ename": "AttributeError",
     "evalue": "'list' object has no attribute 'numpy'",
     "output_type": "error",
     "traceback": [
      "\u001b[0;31m---------------------------------------------------------------------------\u001b[0m",
      "\u001b[0;31mAttributeError\u001b[0m                            Traceback (most recent call last)",
      "Cell \u001b[0;32mIn[42], line 3\u001b[0m\n\u001b[1;32m      1\u001b[0m random\u001b[38;5;241m.\u001b[39mseed(\u001b[38;5;241m123\u001b[39m)\n\u001b[1;32m      2\u001b[0m idx \u001b[38;5;241m=\u001b[39m random\u001b[38;5;241m.\u001b[39mrandint(\u001b[38;5;241m0\u001b[39m, \u001b[38;5;28mlen\u001b[39m(X_train))\n\u001b[0;32m----> 3\u001b[0m pattern \u001b[38;5;241m=\u001b[39m \u001b[43mX_train\u001b[49m\u001b[43m[\u001b[49m\u001b[38;5;241;43m12\u001b[39;49m\u001b[43m]\u001b[49m\u001b[38;5;241;43m.\u001b[39;49m\u001b[43mnumpy\u001b[49m()\u001b[38;5;241m.\u001b[39mastype(\u001b[38;5;28mint\u001b[39m)\u001b[38;5;241m.\u001b[39mflatten()\u001b[38;5;241m.\u001b[39mtolist()\n\u001b[1;32m      5\u001b[0m input_text \u001b[38;5;241m=\u001b[39m \u001b[38;5;124m\"\u001b[39m\u001b[38;5;124m\"\u001b[39m\u001b[38;5;241m.\u001b[39mjoin([decode(\u001b[38;5;28mdict\u001b[39m, value) \u001b[38;5;28;01mfor\u001b[39;00m value \u001b[38;5;129;01min\u001b[39;00m pattern])\n\u001b[1;32m      7\u001b[0m \u001b[38;5;28mprint\u001b[39m(\u001b[38;5;124m\"\u001b[39m\u001b[38;5;124mInput : \u001b[39m\u001b[38;5;132;01m{}\u001b[39;00m\u001b[38;5;124m\"\u001b[39m\u001b[38;5;241m.\u001b[39mformat(input_text))\n",
      "\u001b[0;31mAttributeError\u001b[0m: 'list' object has no attribute 'numpy'"
     ]
    }
   ],
   "source": [
    "random.seed(123)\n",
    "idx = random.randint(0, len(X_train))\n",
    "pattern = X_train[12].numpy().astype(int).flatten().tolist()\n",
    "\n",
    "input_text = \"\".join([decode(dict, value) for value in pattern])\n",
    "\n",
    "print(\"Input : {}\".format(input_text))\n",
    "\n",
    "generated_text = []\n",
    "for i in range(10):\n",
    "    X_batch = torch.tensor(pattern, dtype=torch.int32).reshape(1, N) ## Design Batch\n",
    "    preds = model(X_batch.to(device)) ## Make Prediction\n",
    "    predicted_index = preds.argmax(dim=-1).cpu().numpy()[0] ## Retrieve token index\n",
    "    generated_text.append(predicted_index) ## Add token index to result\n",
    "    pattern.append(predicted_index) ## Add token index to original pattern\n",
    "    pattern = pattern[1:] ## Resize pattern to bring again to seq_length length.\n",
    "\n",
    "output_text = \"\".join([decode(dict, value) for value in generated_text])\n",
    "print(\"Generated Text : {}\".format(output_text))"
   ]
  },
  {
   "cell_type": "code",
   "execution_count": 1,
   "metadata": {},
   "outputs": [],
   "source": [
    "loss = [2.3427491188049316, 2.1163644790649414, 2.025970458984375, 1.9677507877349854, 1.9241502285003662, 1.8917900323867798, 1.8706796169281006, 1.85259211063385, 1.822340965270996, 1.800827980041504, 1.785904884338379, 1.773327112197876, 1.7619396448135376, 1.7586133480072021, 1.7434463500976562, 1.736501932144165, 1.7229843139648438, 1.707581877708435, 1.696311593055725, 1.684746503829956, 1.671386957168579, 1.6637136936187744, 1.6482652425765991, 1.6323105096817017, 1.62392258644104, 1.6080700159072876, 1.5931646823883057, 1.570953369140625, 1.5479106903076172, 1.5226476192474365, 1.515092134475708, 1.4866410493850708, 1.4745091199874878, 1.4520461559295654, 1.440665364265442, 1.4248965978622437, 1.4094384908676147, 1.4045100212097168, 1.391408920288086, 1.3870904445648193, 1.3774282932281494, 1.3670915365219116, 1.3607975244522095, 1.3533804416656494, 1.3451573848724365, 1.3355484008789062, 1.3207018375396729, 1.3116521835327148, 1.3069690465927124, 1.295594573020935]"
   ]
  },
  {
   "cell_type": "code",
   "execution_count": 5,
   "metadata": {},
   "outputs": [
    {
     "data": {
      "image/png": "[encoded data removed]",
      "text/plain": [
       "<Figure size 640x480 with 1 Axes>"
      ]
     },
     "metadata": {},
     "output_type": "display_data"
    }
   ],
   "source": [
    "import matplotlib.pyplot as plt\n",
    "# Generating x-axis values for epochs (assuming you have 50 epochs)\n",
    "epochs = list(range(50))  # Adjust the range according to your actual number of epochs\n",
    "\n",
    "# Plotting the loss values\n",
    "plt.plot(epochs, loss, label='Training Loss')\n",
    "plt.title('Training Loss over Epochs')\n",
    "plt.xlabel('Epochs')\n",
    "plt.ylabel('Loss')\n",
    "plt.legend()\n",
    "plt.grid(True)\n",
    "plt.show()"
   ]
  },
  {
   "cell_type": "code",
   "execution_count": 9,
   "metadata": {
    "scrolled": true
   },
   "outputs": [
    {
     "ename": "SyntaxError",
     "evalue": "invalid syntax (<unknown>, line 2)",
     "output_type": "error",
     "traceback": [
      "Traceback \u001b[0;36m(most recent call last)\u001b[0m:\n",
      "\u001b[0m  File \u001b[1;32m/usr/local/lib/python3.10/dist-packages/IPython/core/interactiveshell.py:3505\u001b[0m in \u001b[1;35mrun_code\u001b[0m\n    exec(code_obj, self.user_global_ns, self.user_ns)\u001b[0m\n",
      "\u001b[0m  Cell \u001b[1;32mIn[9], line 9\u001b[0m\n    data_list = ast.literal_eval(file_contents)\u001b[0m\n",
      "\u001b[0m  File \u001b[1;32m/usr/lib/python3.10/ast.py:64\u001b[0m in \u001b[1;35mliteral_eval\u001b[0m\n    node_or_string = parse(node_or_string.lstrip(\" \\t\"), mode='eval')\u001b[0m\n",
      "\u001b[0;36m  File \u001b[0;32m/usr/lib/python3.10/ast.py:50\u001b[0;36m in \u001b[0;35mparse\u001b[0;36m\n\u001b[0;31m    return compile(source, filename, mode, flags,\u001b[0;36m\n",
      "\u001b[0;36m  File \u001b[0;32m<unknown>:2\u001b[0;36m\u001b[0m\n\u001b[0;31m    {'EMBEDDING_DIM': 50, 'SEQUENCE_LENGTH': 50, 'HIDDEN_DIM': 128, 'LSTM_LAYERS': 1, 'EPOCHS': 50, 'LOSS_LIST': [2.2177419662475586, 1.9400326013565063, 1.7763694524765015, 1.7040818929672241, 1.66599440574646, 1.6374268531799316, 1.6133723258972168, 1.5915292501449585, 1.569817066192627, 1.5466355085372925, 1.52593994140625, 1.5095986127853394, 1.491228461265564, 1.4766030311584473, 1.4742298126220703, 1.4358806610107422, 1.4308778047561646, 1.4100300073623657, 1.391133189201355, 1.373943567276001, 1.3679108619689941, 1.3714663982391357, 1.3668102025985718, 1.3382269144058228, 1.3191291093826294, 1.2992067337036133, 1.2934707403182983, 1.282280445098877, 1.2849440574645996, 1.2537494897842407, 1.2634574174880981, 1.2360111474990845, 1.2272673845291138, 1.2184268236160278, 1.212881326675415, 1.2056324481964111, 1.1961365938186646, 1.1832449436187744, 1.1776759624481201, 1.171079158782959, 1.16716468334198, 1.1593739986419678, 1.1500660181045532, 1.1599764823913574, 1.144094467163086, 1.1366997957229614, 1.13617742061615, 1.1284425258636475, 1.1225571632385254, 1.1198493242263794], 'ACCURACY': 46.72256234402772}\u001b[0m\n\u001b[0m    ^\u001b[0m\n\u001b[0;31mSyntaxError\u001b[0m\u001b[0;31m:\u001b[0m invalid syntax\n"
     ]
    }
   ],
   "source": [
    "import ast\n",
    "\n",
    "# Read the contents of the file\n",
    "file_path = 'results.txt'  # Replace with the actual file path\n",
    "with open(file_path, 'r') as file:\n",
    "    file_contents = file.read()\n",
    "\n",
    "# Safely evaluate the contents using ast.literal_eval\n",
    "data_list = ast.literal_eval(file_contents)\n",
    "\n",
    "# Now, data_list contains the list of dictionaries\n",
    "for data in data_list:\n",
    "    print(data)"
   ]
  },
  {
   "cell_type": "code",
   "execution_count": 99,
   "metadata": {},
   "outputs": [],
   "source": [
    "test_data = read_list_of_lists_from_file('test_100.txt')\n",
    "\n",
    " = [elem[0] for elem in test_data]\n",
    "Y_train = [elem[1] for elem in test_data]"
   ]
  },
  {
   "cell_type": "code",
   "execution_count": 129,
   "metadata": {},
   "outputs": [
    {
     "data": {
      "text/plain": [
       "<All keys matched successfully>"
      ]
     },
     "execution_count": 129,
     "metadata": {},
     "output_type": "execute_result"
    }
   ],
   "source": [
    "model = LSTMTextGenerator(50, 128, 2)\n",
    "model.load_state_dict(torch.load('text_gen_lstm_n100_emDim50_hidDim128_lay2_ep50.pth'))\n",
    "\n"
   ]
  },
  {
   "cell_type": "code",
   "execution_count": 131,
   "metadata": {},
   "outputs": [
    {
     "data": {
      "text/plain": [
       "<All keys matched successfully>"
      ]
     },
     "execution_count": 131,
     "metadata": {},
     "output_type": "execute_result"
    }
   ],
   "source": [
    "model = LSTMTextGenerator(100, 128, 2)\n",
    "model.load_state_dict(torch.load('text_gen_lstm_n100_emDim100_hidDim128_lay2_ep50.pth'))"
   ]
  },
  {
   "cell_type": "code",
   "execution_count": 132,
   "metadata": {},
   "outputs": [
    {
     "name": "stdout",
     "output_type": "stream",
     "text": [
      "Input :  zostaniesz przez resztę żywota\n",
      "bardzo samotny, stary, wdowiec i sierota!\n",
      "powiedz, czym ci ten drogi\n",
      "Generated Text :  z pole starego szabał,\n",
      "i w polskie stary podkomorzy w stole podkomu,\n",
      "i z polak wielkie stary pod st\n"
     ]
    }
   ],
   "source": [
    "if torch.cuda.is_available():\n",
    "    model.cuda()\n",
    "import copy\n",
    "\n",
    "random.seed(123)\n",
    "idx = random.randint(0, len(X_train))\n",
    "deep_copy_list = copy.deepcopy(X_train[1])\n",
    "pattern = deep_copy_list\n",
    "\n",
    "input_text = \"\".join([decode(dict, value) for value in pattern])\n",
    "\n",
    "print(\"Input : {}\".format(input_text))\n",
    "\n",
    "generated_text = []\n",
    "for i in range(100):\n",
    "\n",
    "    X_batch = torch.tensor(pattern, dtype=torch.int32).reshape(1, N) ## Design Batch\n",
    "    preds = model(X_batch.to('cuda')) ## Make Prediction\n",
    "    predicted_index = preds.argmax(dim=-1)[0] ## Retrieve token index\n",
    "    generated_text.append(predicted_index) ## Add token index to result\n",
    "    pattern.append(predicted_index) ## Add token index to original pattern\n",
    "    pattern = pattern[1:] ## Resize pattern to bring again to seq_length length.\n",
    "\n",
    "output_text = \"\".join([decode(dict, value) for value in generated_text])\n",
    "print(\"Generated Text : {}\".format(output_text))"
   ]
  },
  {
   "cell_type": "code",
   "execution_count": 133,
   "metadata": {},
   "outputs": [
    {
     "name": "stdout",
     "output_type": "stream",
     "text": [
      "Input :  zostaniesz przez resztę żywota\n",
      "bardzo samotny, stary, wdowiec i sierota!\n",
      "powiedz, czym ci ten drogi\n",
      "Generated Text :  serwis potem —\n",
      "rzekł sędzia — ja przeproszą wojskiego soplicy!\n",
      "koło już minni! jesteś to mi serca n\n"
     ]
    }
   ],
   "source": [
    "if torch.cuda.is_available():\n",
    "    model1.cuda()\n",
    "\n",
    "\n",
    "random.seed(123)\n",
    "idx = random.randint(0, len(X_train))\n",
    "deep_copy_list = copy.deepcopy(X_train[1])\n",
    "pattern = deep_copy_list\n",
    "\n",
    "input_text = \"\".join([decode(dict, value) for value in pattern])\n",
    "\n",
    "print(\"Input : {}\".format(input_text))\n",
    "\n",
    "generated_text = []\n",
    "for i in range(100):\n",
    "\n",
    "    X_batch = torch.tensor(pattern, dtype=torch.int32).reshape(1, N) ## Design Batch\n",
    "    preds = model1(X_batch.to('cuda')) ## Make Prediction\n",
    "    predicted_index = preds.argmax(dim=-1)[0] ## Retrieve token index\n",
    "    generated_text.append(predicted_index) ## Add token index to result\n",
    "    pattern.append(predicted_index) ## Add token index to original pattern\n",
    "    pattern = pattern[1:] ## Resize pattern to bring again to seq_length length.\n",
    "\n",
    "output_text = \"\".join([decode(dict, value) for value in generated_text])\n",
    "print(\"Generated Text : {}\".format(output_text))"
   ]
  },
  {
   "cell_type": "code",
   "execution_count": null,
   "metadata": {},
   "outputs": [],
   "source": []
  },
  {
   "cell_type": "code",
   "execution_count": null,
   "metadata": {},
   "outputs": [],
   "source": []
  }
 ],
 "metadata": {
  "kernelspec": {
   "display_name": "Python 3 (ipykernel)",
   "language": "python",
   "name": "python3"
  },
  "language_info": {
   "codemirror_mode": {
    "name": "ipython",
    "version": 3
   },
   "file_extension": ".py",
   "mimetype": "text/x-python",
   "name": "python",
   "nbconvert_exporter": "python",
   "pygments_lexer": "ipython3",
   "version": "3.10.12"
  }
 },
 "nbformat": 4,
 "nbformat_minor": 2
}
