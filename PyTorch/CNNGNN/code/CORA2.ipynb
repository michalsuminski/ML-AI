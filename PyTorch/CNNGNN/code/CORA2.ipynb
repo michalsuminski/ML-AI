{
 "cells": [
  {
   "cell_type": "code",
   "execution_count": 15,
   "id": "f93238e4",
   "metadata": {},
   "outputs": [],
   "source": [
    "from torch_geometric.datasets import Planetoid\n",
    "import torch\n",
    "import torch.nn.functional as F\n",
    "from torch_geometric.nn import GCNConv,ChebConv, SAGEConv, GATConv, GINConv\n",
    "from torch.nn import Linear"
   ]
  },
  {
   "cell_type": "code",
   "execution_count": 3,
   "id": "51e6cf89",
   "metadata": {},
   "outputs": [],
   "source": [
    "dataset = Planetoid(root='/tmp/Cora', name='Cora')\n",
    "data = dataset[0] "
   ]
  },
  {
   "cell_type": "code",
   "execution_count": 4,
   "id": "c463c7f2",
   "metadata": {},
   "outputs": [],
   "source": [
    "class GCN(torch.nn.Module):\n",
    "    def __init__(self, hidden_channels, activationGNN, activationOut):\n",
    "        super(GCN, self).__init__()\n",
    "        torch.manual_seed(42)\n",
    "        \n",
    "        # Initialize the layers\n",
    "        self.conv1 = GCNConv(dataset.num_features, hidden_channels)\n",
    "        self.conv2 = GCNConv(hidden_channels, hidden_channels)\n",
    "        self.fullyConnected = Linear(hidden_channels, dataset.num_classes)\n",
    "        self.activationGNN = activationGNN\n",
    "        self.activationOut = activationOut\n",
    "\n",
    "    def forward(self, x, edge_index):\n",
    "        x = self.conv1(x, edge_index)\n",
    "        x = self.activationGNN(x)\n",
    "        x = F.dropout(x, p=0.5, training=self.training)\n",
    "\n",
    "        x = self.conv2(x, edge_index)\n",
    "        x = self.activationGNN(x)\n",
    "        x = F.dropout(x, p=0.5, training=self.training)\n",
    "\n",
    "        if self.activationOut == torch.softmax:\n",
    "            x = self.activationOut(self.fullyConnected(x), dim=1)\n",
    "        else:\n",
    "            x = self.activationOut(self.fullyConnected(x))\n",
    "        return x"
   ]
  },
  {
   "cell_type": "code",
   "execution_count": 10,
   "id": "ef4538b9",
   "metadata": {},
   "outputs": [],
   "source": [
    "class Sage(torch.nn.Module):\n",
    "    def __init__(self, hidden_channels, activationGNN, activationOut):\n",
    "        super(Sage, self).__init__()\n",
    "        torch.manual_seed(42)\n",
    "        \n",
    "        self.conv1 = SAGEConv(dataset.num_features, hidden_channels)\n",
    "        self.conv2 = SAGEConv(hidden_channels, hidden_channels)\n",
    "        self.fullyConnected = Linear(hidden_channels, dataset.num_classes)\n",
    "        self.activationGNN = activationGNN\n",
    "        self.activationOut = activationOut\n",
    "\n",
    "    def forward(self, x, edge_index):\n",
    "        x = self.conv1(x, edge_index)\n",
    "        x = self.activationGNN(x)\n",
    "        x = F.dropout(x, p=0.5, training=self.training)\n",
    "\n",
    "        x = self.conv2(x, edge_index)\n",
    "        x = self.activationGNN(x)\n",
    "        x = F.dropout(x, p=0.5, training=self.training)\n",
    "\n",
    "        # Fully Connected Output layer \n",
    "        if self.activationOut == torch.softmax:\n",
    "            x = self.activationOut(self.fullyConnected(x), dim=1)\n",
    "        else:\n",
    "            x = self.activationOut(self.fullyConnected(x))\n",
    "        return x"
   ]
  },
  {
   "cell_type": "code",
   "execution_count": 17,
   "id": "8fa7694e",
   "metadata": {},
   "outputs": [],
   "source": [
    "class Cheb(torch.nn.Module):\n",
    "    def __init__(self, hidden_channels, activationGNN, activationOut):\n",
    "        super(Cheb, self).__init__()\n",
    "        torch.manual_seed(42)\n",
    "        \n",
    "        self.conv1 = ChebConv(dataset.num_features, hidden_channels, K=2)\n",
    "        self.conv2 = ChebConv(hidden_channels, hidden_channels, K=2)\n",
    "        self.fullyConnected = Linear(hidden_channels, dataset.num_classes)\n",
    "        self.activationGNN = activationGNN\n",
    "        self.activationOut = activationOut\n",
    "\n",
    "    def forward(self, x, edge_index):\n",
    "        x = self.conv1(x, edge_index)\n",
    "        x = self.activationGNN(x)\n",
    "        x = F.dropout(x, p=0.5, training=self.training)\n",
    "\n",
    "        x = self.conv2(x, edge_index)\n",
    "        x = self.activationGNN(x)\n",
    "        x = F.dropout(x, p=0.5, training=self.training)\n",
    "\n",
    "        if self.activationOut == torch.softmax:\n",
    "            x = self.activationOut(self.fullyConnected(x), dim=1)\n",
    "        else:\n",
    "            x = self.activationOut(self.fullyConnected(x))\n",
    "        return x"
   ]
  },
  {
   "cell_type": "code",
   "execution_count": 12,
   "id": "bb399d5a",
   "metadata": {},
   "outputs": [],
   "source": [
    "class GAT(torch.nn.Module):\n",
    "    def __init__(self, hidden_channels, activationGNN, activationOut):\n",
    "        super(GAT, self).__init__()\n",
    "        torch.manual_seed(42)\n",
    "        \n",
    "        self.conv1 = GATConv(dataset.num_features, hidden_channels)\n",
    "        self.conv2 = GATConv(hidden_channels, hidden_channels)\n",
    "        self.fullyConnected = Linear(hidden_channels, dataset.num_classes)\n",
    "        self.activationGNN = activationGNN\n",
    "        self.activationOut = activationOut\n",
    "\n",
    "    def forward(self, x, edge_index):\n",
    "        x = self.conv1(x, edge_index)\n",
    "        x = self.activationGNN(x)\n",
    "        x = F.dropout(x, p=0.5, training=self.training)\n",
    "\n",
    "        x = self.conv2(x, edge_index)\n",
    "        x = self.activationGNN(x)\n",
    "        x = F.dropout(x, p=0.5, training=self.training)\n",
    "\n",
    "        if self.activationOut == torch.softmax:\n",
    "            x = self.activationOut(self.fullyConnected(x), dim=1)\n",
    "        else:\n",
    "            x = self.activationOut(self.fullyConnected(x))\n",
    "        return x"
   ]
  },
  {
   "cell_type": "code",
   "execution_count": 18,
   "id": "db9127ef",
   "metadata": {},
   "outputs": [],
   "source": [
    "gcn = GCN(hidden_channels=16, activationGNN=torch.relu, activationOut=torch.softmax)\n",
    "cheb = Cheb(hidden_channels=16, activationGNN=torch.relu, activationOut=torch.softmax)\n",
    "sage = Sage(hidden_channels=16, activationGNN=torch.relu, activationOut=torch.softmax)\n",
    "gat = GAT(hidden_channels=16, activationGNN=torch.relu, activationOut=torch.softmax)\n",
    "\n",
    "optimizer1 = torch.optim.Adam(gcn.parameters())\n",
    "optimizer2 = torch.optim.Adam(cheb.parameters())\n",
    "optimizer3 = torch.optim.Adam(sage.parameters())\n",
    "optimizer4 = torch.optim.Adam(gat.parameters())"
   ]
  },
  {
   "cell_type": "code",
   "execution_count": 4,
   "id": "b9b1c42e",
   "metadata": {},
   "outputs": [],
   "source": [
    "model = GCN(hidden_channels=16, activationGNN=torch.relu, activationOut=torch.softmax)\n",
    "\n",
    "device = torch.device(\"cuda:0\" if torch.cuda.is_available() else \"cpu\")\n",
    "model = model.to(device)\n",
    "data = data.to(device)"
   ]
  },
  {
   "cell_type": "code",
   "execution_count": 5,
   "id": "43596073",
   "metadata": {},
   "outputs": [
    {
     "data": {
      "text/plain": [
       "False"
      ]
     },
     "execution_count": 5,
     "metadata": {},
     "output_type": "execute_result"
    }
   ],
   "source": [
    "torch.cuda.is_available()"
   ]
  },
  {
   "cell_type": "code",
   "execution_count": 21,
   "id": "11d45c3c",
   "metadata": {},
   "outputs": [],
   "source": [
    "# Wskazówka z zadania \"Podczas treningu modeli klasyfikujących zazwyczaj rozważa się funkcję entropii krzyżowej jako funkcję straty.\"\"\n",
    "criterion = torch.nn.CrossEntropyLoss()"
   ]
  },
  {
   "cell_type": "markdown",
   "id": "639096a0",
   "metadata": {},
   "source": [
    "<font size='5'>Poniższa część jest uniwersalna dla wszystkich modeli ponieważ są to tylko funkcje trenujące i testujące </font>"
   ]
  },
  {
   "cell_type": "code",
   "execution_count": 113,
   "id": "6a016bcc",
   "metadata": {},
   "outputs": [],
   "source": [
    "def train():\n",
    "      model.train()\n",
    "      optimizer.zero_grad() \n",
    "      out = model(data.x, data.edge_index)  \n",
    "      # Używamy tylko nodów z labelkami do obliczenia funkcji straty\n",
    "      loss = criterion(out[data.train_mask], data.y[data.train_mask])  \n",
    "      loss.backward() \n",
    "      optimizer.step()\n",
    "      return loss"
   ]
  },
  {
   "cell_type": "code",
   "execution_count": 121,
   "id": "6b349620",
   "metadata": {},
   "outputs": [],
   "source": [
    "def test():\n",
    "      model.eval()\n",
    "      out = model(data.x, data.edge_index)\n",
    "      pred = out.argmax(dim=1)  \n",
    "      test_correct = pred[data.test_mask] == data.y[data.test_mask]  \n",
    "      test_acc = int(test_correct.sum()) / int(data.test_mask.sum())  \n",
    "      return test_acc, pred"
   ]
  },
  {
   "cell_type": "markdown",
   "id": "4feeb091",
   "metadata": {},
   "source": [
    "<font size='5'>Sprawdzenie różnych rodzajow warstw </font>"
   ]
  },
  {
   "cell_type": "code",
   "execution_count": 28,
   "id": "b13879bc",
   "metadata": {},
   "outputs": [],
   "source": [
    "def trainTMP(model, optimizer):\n",
    "      model.train()\n",
    "      optimizer.zero_grad() \n",
    "      out = model(data.x, data.edge_index)  \n",
    "      loss = criterion(out[data.train_mask], data.y[data.train_mask])  \n",
    "      loss.backward() \n",
    "      optimizer.step()\n",
    "      return loss"
   ]
  },
  {
   "cell_type": "code",
   "execution_count": 26,
   "id": "bd7b630c",
   "metadata": {},
   "outputs": [],
   "source": [
    "def testTMP(model):\n",
    "      model.eval()\n",
    "      out = model(data.x, data.edge_index)\n",
    "      pred = out.argmax(dim=1)  \n",
    "      test_correct = pred[data.test_mask] == data.y[data.test_mask]  \n",
    "      test_acc = int(test_correct.sum()) / int(data.test_mask.sum())  \n",
    "      return test_acc"
   ]
  },
  {
   "cell_type": "code",
   "execution_count": 33,
   "id": "88227a7b",
   "metadata": {},
   "outputs": [],
   "source": [
    "# Funckja do trenowania modelu przez zadaną liczbę epok\n",
    "def final_trainTMP(epochs, model, optimizer):\n",
    "    for epoch in range(0, epochs):\n",
    "        loss = trainTMP(model, optimizer)\n",
    "    return loss"
   ]
  },
  {
   "cell_type": "code",
   "execution_count": 34,
   "id": "45f52582",
   "metadata": {},
   "outputs": [
    {
     "name": "stdout",
     "output_type": "stream",
     "text": [
      "0.769\n"
     ]
    }
   ],
   "source": [
    "loss1 = final_trainTMP(1000, gcn, optimizer1)\n",
    "print(testTMP(gcn))"
   ]
  },
  {
   "cell_type": "code",
   "execution_count": 36,
   "id": "2eed0591",
   "metadata": {},
   "outputs": [
    {
     "name": "stdout",
     "output_type": "stream",
     "text": [
      "0.741\n"
     ]
    }
   ],
   "source": [
    "loss2 = final_trainTMP(1000, cheb, optimizer2)\n",
    "print(testTMP(cheb))"
   ]
  },
  {
   "cell_type": "code",
   "execution_count": 37,
   "id": "786b9d22",
   "metadata": {},
   "outputs": [
    {
     "name": "stdout",
     "output_type": "stream",
     "text": [
      "0.726\n"
     ]
    }
   ],
   "source": [
    "loss3 = final_trainTMP(1000, sage, optimizer3)\n",
    "print(testTMP(sage))"
   ]
  },
  {
   "cell_type": "code",
   "execution_count": 38,
   "id": "3ed550b4",
   "metadata": {},
   "outputs": [
    {
     "name": "stdout",
     "output_type": "stream",
     "text": [
      "0.7\n"
     ]
    }
   ],
   "source": [
    "loss4 = final_trainTMP(1000, gat, optimizer4)\n",
    "print(testTMP(gat))"
   ]
  },
  {
   "cell_type": "markdown",
   "id": "a7f914e8",
   "metadata": {},
   "source": [
    "<font size='5'>Sprawdzenie flattena </font>"
   ]
  },
  {
   "cell_type": "code",
   "execution_count": 55,
   "id": "4b958c37",
   "metadata": {},
   "outputs": [],
   "source": [
    "class GCNFlatten(torch.nn.Module):\n",
    "    def __init__(self, hidden_channels, activationGNN, activationOut):\n",
    "        super(GCNFlatten, self).__init__()\n",
    "        torch.manual_seed(42)\n",
    "        \n",
    "        self.conv1 = GCNConv(dataset.num_features, hidden_channels)\n",
    "        self.conv2 = GCNConv(hidden_channels, hidden_channels)\n",
    "        self.fullyConnected = Linear(hidden_channels, dataset.num_classes)\n",
    "        self.activationGNN = activationGNN\n",
    "        self.activationOut = activationOut\n",
    "\n",
    "    def forward(self, x, edge_index):\n",
    "        print(\"przed 1 warstwa: \" + str(x.shape))\n",
    "        x = self.conv1(x, edge_index)\n",
    "        x = self.activationGNN(x)\n",
    "        x = F.dropout(x, p=0.5, training=self.training)\n",
    "        print(\"po 1 warstwie: \" + str(x.shape))\n",
    "\n",
    "        x = self.conv2(x, edge_index)\n",
    "        x = self.activationGNN(x)\n",
    "        x = F.dropout(x, p=0.5, training=self.training)\n",
    "        \n",
    "        print(\"przed flatten: \" + str(x.shape))\n",
    "        \n",
    "        x = x.flatten()\n",
    "        \n",
    "        print(\"po flatten: \" + str(x.shape))\n",
    " \n",
    "        if self.activationOut == torch.softmax:\n",
    "            x = self.activationOut(self.fullyConnected(x), dim=1)\n",
    "        else:\n",
    "            x = self.activationOut(self.fullyConnected(x))\n",
    "        return x"
   ]
  },
  {
   "cell_type": "code",
   "execution_count": 56,
   "id": "7e9cf7ac",
   "metadata": {},
   "outputs": [
    {
     "name": "stdout",
     "output_type": "stream",
     "text": [
      "przed 1 warstwa: torch.Size([2708, 1433])\n",
      "po 1 warstwie: torch.Size([2708, 16])\n",
      "przed flatten: torch.Size([2708, 16])\n",
      "po flatten: torch.Size([43328])\n"
     ]
    },
    {
     "ename": "RuntimeError",
     "evalue": "mat1 and mat2 shapes cannot be multiplied (1x43328 and 16x7)",
     "output_type": "error",
     "traceback": [
      "\u001b[1;31m---------------------------------------------------------------------------\u001b[0m",
      "\u001b[1;31mRuntimeError\u001b[0m                              Traceback (most recent call last)",
      "\u001b[1;32m<ipython-input-56-b8ea068fb90e>\u001b[0m in \u001b[0;36m<module>\u001b[1;34m\u001b[0m\n\u001b[0;32m      1\u001b[0m \u001b[0mgcnFlatten\u001b[0m \u001b[1;33m=\u001b[0m \u001b[0mGCNFlatten\u001b[0m\u001b[1;33m(\u001b[0m\u001b[0mhidden_channels\u001b[0m\u001b[1;33m=\u001b[0m\u001b[1;36m16\u001b[0m\u001b[1;33m,\u001b[0m \u001b[0mactivationGNN\u001b[0m\u001b[1;33m=\u001b[0m\u001b[0mtorch\u001b[0m\u001b[1;33m.\u001b[0m\u001b[0mrelu\u001b[0m\u001b[1;33m,\u001b[0m \u001b[0mactivationOut\u001b[0m\u001b[1;33m=\u001b[0m\u001b[0mtorch\u001b[0m\u001b[1;33m.\u001b[0m\u001b[0msoftmax\u001b[0m\u001b[1;33m)\u001b[0m\u001b[1;33m\u001b[0m\u001b[1;33m\u001b[0m\u001b[0m\n\u001b[0;32m      2\u001b[0m \u001b[0moptimizer\u001b[0m \u001b[1;33m=\u001b[0m \u001b[0mtorch\u001b[0m\u001b[1;33m.\u001b[0m\u001b[0moptim\u001b[0m\u001b[1;33m.\u001b[0m\u001b[0mAdam\u001b[0m\u001b[1;33m(\u001b[0m\u001b[0mgcnFlatten\u001b[0m\u001b[1;33m.\u001b[0m\u001b[0mparameters\u001b[0m\u001b[1;33m(\u001b[0m\u001b[1;33m)\u001b[0m\u001b[1;33m)\u001b[0m\u001b[1;33m\u001b[0m\u001b[1;33m\u001b[0m\u001b[0m\n\u001b[1;32m----> 3\u001b[1;33m \u001b[0mloss1\u001b[0m \u001b[1;33m=\u001b[0m \u001b[0mfinal_trainTMP\u001b[0m\u001b[1;33m(\u001b[0m\u001b[1;36m1000\u001b[0m\u001b[1;33m,\u001b[0m \u001b[0mgcnFlatten\u001b[0m\u001b[1;33m,\u001b[0m \u001b[0moptimizer\u001b[0m\u001b[1;33m)\u001b[0m\u001b[1;33m\u001b[0m\u001b[1;33m\u001b[0m\u001b[0m\n\u001b[0m\u001b[0;32m      4\u001b[0m \u001b[0mprint\u001b[0m\u001b[1;33m(\u001b[0m\u001b[0mtestTMP\u001b[0m\u001b[1;33m(\u001b[0m\u001b[0mgcnFlatten\u001b[0m\u001b[1;33m)\u001b[0m\u001b[1;33m)\u001b[0m\u001b[1;33m\u001b[0m\u001b[1;33m\u001b[0m\u001b[0m\n",
      "\u001b[1;32m<ipython-input-33-d4d372784edf>\u001b[0m in \u001b[0;36mfinal_trainTMP\u001b[1;34m(epochs, model, optimizer)\u001b[0m\n\u001b[0;32m      2\u001b[0m \u001b[1;32mdef\u001b[0m \u001b[0mfinal_trainTMP\u001b[0m\u001b[1;33m(\u001b[0m\u001b[0mepochs\u001b[0m\u001b[1;33m,\u001b[0m \u001b[0mmodel\u001b[0m\u001b[1;33m,\u001b[0m \u001b[0moptimizer\u001b[0m\u001b[1;33m)\u001b[0m\u001b[1;33m:\u001b[0m\u001b[1;33m\u001b[0m\u001b[1;33m\u001b[0m\u001b[0m\n\u001b[0;32m      3\u001b[0m     \u001b[1;32mfor\u001b[0m \u001b[0mepoch\u001b[0m \u001b[1;32min\u001b[0m \u001b[0mrange\u001b[0m\u001b[1;33m(\u001b[0m\u001b[1;36m0\u001b[0m\u001b[1;33m,\u001b[0m \u001b[0mepochs\u001b[0m\u001b[1;33m)\u001b[0m\u001b[1;33m:\u001b[0m\u001b[1;33m\u001b[0m\u001b[1;33m\u001b[0m\u001b[0m\n\u001b[1;32m----> 4\u001b[1;33m         \u001b[0mloss\u001b[0m \u001b[1;33m=\u001b[0m \u001b[0mtrainTMP\u001b[0m\u001b[1;33m(\u001b[0m\u001b[0mmodel\u001b[0m\u001b[1;33m,\u001b[0m \u001b[0moptimizer\u001b[0m\u001b[1;33m)\u001b[0m\u001b[1;33m\u001b[0m\u001b[1;33m\u001b[0m\u001b[0m\n\u001b[0m\u001b[0;32m      5\u001b[0m     \u001b[1;32mreturn\u001b[0m \u001b[0mloss\u001b[0m\u001b[1;33m\u001b[0m\u001b[1;33m\u001b[0m\u001b[0m\n",
      "\u001b[1;32m<ipython-input-28-a316ed636439>\u001b[0m in \u001b[0;36mtrainTMP\u001b[1;34m(model, optimizer)\u001b[0m\n\u001b[0;32m      3\u001b[0m       \u001b[0moptimizer\u001b[0m\u001b[1;33m.\u001b[0m\u001b[0mzero_grad\u001b[0m\u001b[1;33m(\u001b[0m\u001b[1;33m)\u001b[0m\u001b[1;33m\u001b[0m\u001b[1;33m\u001b[0m\u001b[0m\n\u001b[0;32m      4\u001b[0m       \u001b[1;31m# Use all data as input, because all nodes have node features\u001b[0m\u001b[1;33m\u001b[0m\u001b[1;33m\u001b[0m\u001b[1;33m\u001b[0m\u001b[0m\n\u001b[1;32m----> 5\u001b[1;33m       \u001b[0mout\u001b[0m \u001b[1;33m=\u001b[0m \u001b[0mmodel\u001b[0m\u001b[1;33m(\u001b[0m\u001b[0mdata\u001b[0m\u001b[1;33m.\u001b[0m\u001b[0mx\u001b[0m\u001b[1;33m,\u001b[0m \u001b[0mdata\u001b[0m\u001b[1;33m.\u001b[0m\u001b[0medge_index\u001b[0m\u001b[1;33m)\u001b[0m\u001b[1;33m\u001b[0m\u001b[1;33m\u001b[0m\u001b[0m\n\u001b[0m\u001b[0;32m      6\u001b[0m       \u001b[1;31m# Only use nodes with labels available for loss calculation --> mask\u001b[0m\u001b[1;33m\u001b[0m\u001b[1;33m\u001b[0m\u001b[1;33m\u001b[0m\u001b[0m\n\u001b[0;32m      7\u001b[0m       \u001b[0mloss\u001b[0m \u001b[1;33m=\u001b[0m \u001b[0mcriterion\u001b[0m\u001b[1;33m(\u001b[0m\u001b[0mout\u001b[0m\u001b[1;33m[\u001b[0m\u001b[0mdata\u001b[0m\u001b[1;33m.\u001b[0m\u001b[0mtrain_mask\u001b[0m\u001b[1;33m]\u001b[0m\u001b[1;33m,\u001b[0m \u001b[0mdata\u001b[0m\u001b[1;33m.\u001b[0m\u001b[0my\u001b[0m\u001b[1;33m[\u001b[0m\u001b[0mdata\u001b[0m\u001b[1;33m.\u001b[0m\u001b[0mtrain_mask\u001b[0m\u001b[1;33m]\u001b[0m\u001b[1;33m)\u001b[0m\u001b[1;33m\u001b[0m\u001b[1;33m\u001b[0m\u001b[0m\n",
      "\u001b[1;32m~\\anaconda3\\lib\\site-packages\\torch\\nn\\modules\\module.py\u001b[0m in \u001b[0;36m_call_impl\u001b[1;34m(self, *input, **kwargs)\u001b[0m\n\u001b[0;32m   1128\u001b[0m         if not (self._backward_hooks or self._forward_hooks or self._forward_pre_hooks or _global_backward_hooks\n\u001b[0;32m   1129\u001b[0m                 or _global_forward_hooks or _global_forward_pre_hooks):\n\u001b[1;32m-> 1130\u001b[1;33m             \u001b[1;32mreturn\u001b[0m \u001b[0mforward_call\u001b[0m\u001b[1;33m(\u001b[0m\u001b[1;33m*\u001b[0m\u001b[0minput\u001b[0m\u001b[1;33m,\u001b[0m \u001b[1;33m**\u001b[0m\u001b[0mkwargs\u001b[0m\u001b[1;33m)\u001b[0m\u001b[1;33m\u001b[0m\u001b[1;33m\u001b[0m\u001b[0m\n\u001b[0m\u001b[0;32m   1131\u001b[0m         \u001b[1;31m# Do not call functions when jit is used\u001b[0m\u001b[1;33m\u001b[0m\u001b[1;33m\u001b[0m\u001b[1;33m\u001b[0m\u001b[0m\n\u001b[0;32m   1132\u001b[0m         \u001b[0mfull_backward_hooks\u001b[0m\u001b[1;33m,\u001b[0m \u001b[0mnon_full_backward_hooks\u001b[0m \u001b[1;33m=\u001b[0m \u001b[1;33m[\u001b[0m\u001b[1;33m]\u001b[0m\u001b[1;33m,\u001b[0m \u001b[1;33m[\u001b[0m\u001b[1;33m]\u001b[0m\u001b[1;33m\u001b[0m\u001b[1;33m\u001b[0m\u001b[0m\n",
      "\u001b[1;32m<ipython-input-55-5eda852d7bfd>\u001b[0m in \u001b[0;36mforward\u001b[1;34m(self, x, edge_index)\u001b[0m\n\u001b[0;32m     32\u001b[0m         \u001b[1;31m# Fully Connected Output layer\u001b[0m\u001b[1;33m\u001b[0m\u001b[1;33m\u001b[0m\u001b[1;33m\u001b[0m\u001b[0m\n\u001b[0;32m     33\u001b[0m         \u001b[1;32mif\u001b[0m \u001b[0mself\u001b[0m\u001b[1;33m.\u001b[0m\u001b[0mactivationOut\u001b[0m \u001b[1;33m==\u001b[0m \u001b[0mtorch\u001b[0m\u001b[1;33m.\u001b[0m\u001b[0msoftmax\u001b[0m\u001b[1;33m:\u001b[0m\u001b[1;33m\u001b[0m\u001b[1;33m\u001b[0m\u001b[0m\n\u001b[1;32m---> 34\u001b[1;33m             \u001b[0mx\u001b[0m \u001b[1;33m=\u001b[0m \u001b[0mself\u001b[0m\u001b[1;33m.\u001b[0m\u001b[0mactivationOut\u001b[0m\u001b[1;33m(\u001b[0m\u001b[0mself\u001b[0m\u001b[1;33m.\u001b[0m\u001b[0mfullyConnected\u001b[0m\u001b[1;33m(\u001b[0m\u001b[0mx\u001b[0m\u001b[1;33m)\u001b[0m\u001b[1;33m,\u001b[0m \u001b[0mdim\u001b[0m\u001b[1;33m=\u001b[0m\u001b[1;36m1\u001b[0m\u001b[1;33m)\u001b[0m\u001b[1;33m\u001b[0m\u001b[1;33m\u001b[0m\u001b[0m\n\u001b[0m\u001b[0;32m     35\u001b[0m         \u001b[1;32melse\u001b[0m\u001b[1;33m:\u001b[0m\u001b[1;33m\u001b[0m\u001b[1;33m\u001b[0m\u001b[0m\n\u001b[0;32m     36\u001b[0m             \u001b[0mx\u001b[0m \u001b[1;33m=\u001b[0m \u001b[0mself\u001b[0m\u001b[1;33m.\u001b[0m\u001b[0mactivationOut\u001b[0m\u001b[1;33m(\u001b[0m\u001b[0mself\u001b[0m\u001b[1;33m.\u001b[0m\u001b[0mfullyConnected\u001b[0m\u001b[1;33m(\u001b[0m\u001b[0mx\u001b[0m\u001b[1;33m)\u001b[0m\u001b[1;33m)\u001b[0m\u001b[1;33m\u001b[0m\u001b[1;33m\u001b[0m\u001b[0m\n",
      "\u001b[1;32m~\\anaconda3\\lib\\site-packages\\torch\\nn\\modules\\module.py\u001b[0m in \u001b[0;36m_call_impl\u001b[1;34m(self, *input, **kwargs)\u001b[0m\n\u001b[0;32m   1128\u001b[0m         if not (self._backward_hooks or self._forward_hooks or self._forward_pre_hooks or _global_backward_hooks\n\u001b[0;32m   1129\u001b[0m                 or _global_forward_hooks or _global_forward_pre_hooks):\n\u001b[1;32m-> 1130\u001b[1;33m             \u001b[1;32mreturn\u001b[0m \u001b[0mforward_call\u001b[0m\u001b[1;33m(\u001b[0m\u001b[1;33m*\u001b[0m\u001b[0minput\u001b[0m\u001b[1;33m,\u001b[0m \u001b[1;33m**\u001b[0m\u001b[0mkwargs\u001b[0m\u001b[1;33m)\u001b[0m\u001b[1;33m\u001b[0m\u001b[1;33m\u001b[0m\u001b[0m\n\u001b[0m\u001b[0;32m   1131\u001b[0m         \u001b[1;31m# Do not call functions when jit is used\u001b[0m\u001b[1;33m\u001b[0m\u001b[1;33m\u001b[0m\u001b[1;33m\u001b[0m\u001b[0m\n\u001b[0;32m   1132\u001b[0m         \u001b[0mfull_backward_hooks\u001b[0m\u001b[1;33m,\u001b[0m \u001b[0mnon_full_backward_hooks\u001b[0m \u001b[1;33m=\u001b[0m \u001b[1;33m[\u001b[0m\u001b[1;33m]\u001b[0m\u001b[1;33m,\u001b[0m \u001b[1;33m[\u001b[0m\u001b[1;33m]\u001b[0m\u001b[1;33m\u001b[0m\u001b[1;33m\u001b[0m\u001b[0m\n",
      "\u001b[1;32m~\\anaconda3\\lib\\site-packages\\torch\\nn\\modules\\linear.py\u001b[0m in \u001b[0;36mforward\u001b[1;34m(self, input)\u001b[0m\n\u001b[0;32m    112\u001b[0m \u001b[1;33m\u001b[0m\u001b[0m\n\u001b[0;32m    113\u001b[0m     \u001b[1;32mdef\u001b[0m \u001b[0mforward\u001b[0m\u001b[1;33m(\u001b[0m\u001b[0mself\u001b[0m\u001b[1;33m,\u001b[0m \u001b[0minput\u001b[0m\u001b[1;33m:\u001b[0m \u001b[0mTensor\u001b[0m\u001b[1;33m)\u001b[0m \u001b[1;33m->\u001b[0m \u001b[0mTensor\u001b[0m\u001b[1;33m:\u001b[0m\u001b[1;33m\u001b[0m\u001b[1;33m\u001b[0m\u001b[0m\n\u001b[1;32m--> 114\u001b[1;33m         \u001b[1;32mreturn\u001b[0m \u001b[0mF\u001b[0m\u001b[1;33m.\u001b[0m\u001b[0mlinear\u001b[0m\u001b[1;33m(\u001b[0m\u001b[0minput\u001b[0m\u001b[1;33m,\u001b[0m \u001b[0mself\u001b[0m\u001b[1;33m.\u001b[0m\u001b[0mweight\u001b[0m\u001b[1;33m,\u001b[0m \u001b[0mself\u001b[0m\u001b[1;33m.\u001b[0m\u001b[0mbias\u001b[0m\u001b[1;33m)\u001b[0m\u001b[1;33m\u001b[0m\u001b[1;33m\u001b[0m\u001b[0m\n\u001b[0m\u001b[0;32m    115\u001b[0m \u001b[1;33m\u001b[0m\u001b[0m\n\u001b[0;32m    116\u001b[0m     \u001b[1;32mdef\u001b[0m \u001b[0mextra_repr\u001b[0m\u001b[1;33m(\u001b[0m\u001b[0mself\u001b[0m\u001b[1;33m)\u001b[0m \u001b[1;33m->\u001b[0m \u001b[0mstr\u001b[0m\u001b[1;33m:\u001b[0m\u001b[1;33m\u001b[0m\u001b[1;33m\u001b[0m\u001b[0m\n",
      "\u001b[1;31mRuntimeError\u001b[0m: mat1 and mat2 shapes cannot be multiplied (1x43328 and 16x7)"
     ]
    }
   ],
   "source": [
    "# EDIT: nie ma sensu poolowac ani stosować flattena bo to i tak jest przekazywany sam wektor jednowymiarowy, nie graf jako struktura\n",
    "\n",
    "gcnFlatten = GCNFlatten(hidden_channels=16, activationGNN=torch.relu, activationOut=torch.softmax)\n",
    "optimizer = torch.optim.Adam(gcnFlatten.parameters())\n",
    "loss1 = final_trainTMP(1000, gcnFlatten, optimizer)\n",
    "print(testTMP(gcnFlatten))"
   ]
  },
  {
   "cell_type": "code",
   "execution_count": 40,
   "id": "cc6fd154",
   "metadata": {},
   "outputs": [
    {
     "ename": "NameError",
     "evalue": "name 'model' is not defined",
     "output_type": "error",
     "traceback": [
      "\u001b[1;31m---------------------------------------------------------------------------\u001b[0m",
      "\u001b[1;31mNameError\u001b[0m                                 Traceback (most recent call last)",
      "\u001b[1;32m<ipython-input-40-dad63f95a61b>\u001b[0m in \u001b[0;36m<module>\u001b[1;34m\u001b[0m\n\u001b[0;32m      1\u001b[0m \u001b[0mlosses\u001b[0m \u001b[1;33m=\u001b[0m \u001b[1;33m[\u001b[0m\u001b[1;33m]\u001b[0m\u001b[1;33m\u001b[0m\u001b[1;33m\u001b[0m\u001b[0m\n\u001b[0;32m      2\u001b[0m \u001b[1;32mfor\u001b[0m \u001b[0mepoch\u001b[0m \u001b[1;32min\u001b[0m \u001b[0mrange\u001b[0m\u001b[1;33m(\u001b[0m\u001b[1;36m0\u001b[0m\u001b[1;33m,\u001b[0m \u001b[1;36m1001\u001b[0m\u001b[1;33m)\u001b[0m\u001b[1;33m:\u001b[0m\u001b[1;33m\u001b[0m\u001b[1;33m\u001b[0m\u001b[0m\n\u001b[1;32m----> 3\u001b[1;33m     \u001b[0mloss\u001b[0m \u001b[1;33m=\u001b[0m \u001b[0mtrain\u001b[0m\u001b[1;33m(\u001b[0m\u001b[1;33m)\u001b[0m\u001b[1;33m\u001b[0m\u001b[1;33m\u001b[0m\u001b[0m\n\u001b[0m\u001b[0;32m      4\u001b[0m     \u001b[0mlosses\u001b[0m\u001b[1;33m.\u001b[0m\u001b[0mappend\u001b[0m\u001b[1;33m(\u001b[0m\u001b[0mloss\u001b[0m\u001b[1;33m)\u001b[0m\u001b[1;33m\u001b[0m\u001b[1;33m\u001b[0m\u001b[0m\n\u001b[0;32m      5\u001b[0m     \u001b[1;32mif\u001b[0m \u001b[0mepoch\u001b[0m \u001b[1;33m%\u001b[0m \u001b[1;36m100\u001b[0m \u001b[1;33m==\u001b[0m \u001b[1;36m0\u001b[0m\u001b[1;33m:\u001b[0m\u001b[1;33m\u001b[0m\u001b[1;33m\u001b[0m\u001b[0m\n",
      "\u001b[1;32m<ipython-input-22-59e077e1dab3>\u001b[0m in \u001b[0;36mtrain\u001b[1;34m()\u001b[0m\n\u001b[0;32m      1\u001b[0m \u001b[1;32mdef\u001b[0m \u001b[0mtrain\u001b[0m\u001b[1;33m(\u001b[0m\u001b[1;33m)\u001b[0m\u001b[1;33m:\u001b[0m\u001b[1;33m\u001b[0m\u001b[1;33m\u001b[0m\u001b[0m\n\u001b[1;32m----> 2\u001b[1;33m       \u001b[0mmodel\u001b[0m\u001b[1;33m.\u001b[0m\u001b[0mtrain\u001b[0m\u001b[1;33m(\u001b[0m\u001b[1;33m)\u001b[0m\u001b[1;33m\u001b[0m\u001b[1;33m\u001b[0m\u001b[0m\n\u001b[0m\u001b[0;32m      3\u001b[0m       \u001b[0moptimizer\u001b[0m\u001b[1;33m.\u001b[0m\u001b[0mzero_grad\u001b[0m\u001b[1;33m(\u001b[0m\u001b[1;33m)\u001b[0m\u001b[1;33m\u001b[0m\u001b[1;33m\u001b[0m\u001b[0m\n\u001b[0;32m      4\u001b[0m       \u001b[1;31m# Use all data as input, because all nodes have node features\u001b[0m\u001b[1;33m\u001b[0m\u001b[1;33m\u001b[0m\u001b[1;33m\u001b[0m\u001b[0m\n\u001b[0;32m      5\u001b[0m       \u001b[0mout\u001b[0m \u001b[1;33m=\u001b[0m \u001b[0mmodel\u001b[0m\u001b[1;33m(\u001b[0m\u001b[0mdata\u001b[0m\u001b[1;33m.\u001b[0m\u001b[0mx\u001b[0m\u001b[1;33m,\u001b[0m \u001b[0mdata\u001b[0m\u001b[1;33m.\u001b[0m\u001b[0medge_index\u001b[0m\u001b[1;33m)\u001b[0m\u001b[1;33m\u001b[0m\u001b[1;33m\u001b[0m\u001b[0m\n",
      "\u001b[1;31mNameError\u001b[0m: name 'model' is not defined"
     ]
    }
   ],
   "source": [
    "losses = []\n",
    "for epoch in range(0, 1001):\n",
    "    loss = train()\n",
    "    losses.append(loss)\n",
    "    if epoch % 100 == 0:\n",
    "      print(f'Epoch: {epoch:03d}, Loss: {loss:.4f}')"
   ]
  },
  {
   "cell_type": "code",
   "execution_count": 11,
   "id": "52e57e27",
   "metadata": {},
   "outputs": [
    {
     "name": "stderr",
     "output_type": "stream",
     "text": [
      "C:\\Users\\MICHU13\\anaconda3\\lib\\site-packages\\seaborn\\_decorators.py:36: FutureWarning: Pass the following variables as keyword args: x, y. From version 0.12, the only valid positional argument will be `data`, and passing other arguments without an explicit keyword will result in an error or misinterpretation.\n",
      "  warnings.warn(\n"
     ]
    },
    {
     "data": {
      "text/plain": [
       "<AxesSubplot:>"
      ]
     },
     "execution_count": 11,
     "metadata": {},
     "output_type": "execute_result"
    },
    {
     "data": {
      "image/png": "[encoded data removed]",
      "text/plain": [
       "<Figure size 432x288 with 1 Axes>"
      ]
     },
     "metadata": {
      "needs_background": "light"
     },
     "output_type": "display_data"
    }
   ],
   "source": [
    "import seaborn as sns\n",
    "losses_float = [float(loss.cpu().detach().numpy()) for loss in losses] \n",
    "loss_indices = [i for i,l in enumerate(losses_float)] \n",
    "plt = sns.lineplot(loss_indices, losses_float)\n",
    "plt"
   ]
  },
  {
   "cell_type": "markdown",
   "id": "a1b2a17d",
   "metadata": {},
   "source": [
    "<font size='5'>Część na testowanie hiperparametrów, najlepszą kombinację wybierzemy po mierze Accuracy </font>"
   ]
  },
  {
   "cell_type": "code",
   "execution_count": 41,
   "id": "ba43d617",
   "metadata": {},
   "outputs": [],
   "source": [
    "# Tablica do przechowywania wartości accuracy z poszczególnych modeli\n",
    "accuracies = []\n",
    "# Tablica do przechowywania hiperparametrów danego modelu\n",
    "params = []"
   ]
  },
  {
   "cell_type": "code",
   "execution_count": 146,
   "id": "edbf92bb",
   "metadata": {},
   "outputs": [],
   "source": [
    "# Funckja do trenowania modelu przez zadaną liczbę epok\n",
    "def final_train(epochs):\n",
    "    losses = []\n",
    "    for epoch in range(0, epochs):\n",
    "        loss = train()\n",
    "        losses.append(loss)\n",
    "    return losses"
   ]
  },
  {
   "cell_type": "code",
   "execution_count": 43,
   "id": "c792878e",
   "metadata": {},
   "outputs": [],
   "source": [
    "# Funkcja stworzona dlatego, że optimizer trzeba stworzyć po modelu(przyjmiuje model.parameters() jako parametr) więc nie możemy zadeklarować tablicy optimizerów, dlatego stworzymy tablice, \n",
    "# która zawiera tylko nazwy, a potem po stworzeniu modelu użyjemy tej funkcji żeby stworzyć odpowiedni optimizer\n",
    "def assign_optimizer(model, optimizer_name):\n",
    "    if optimizer_name == 'Adam':\n",
    "        return torch.optim.Adam(model.parameters(), lr=0.01)\n",
    "    elif optimizer_name == 'SGD':\n",
    "        return torch.optim.SGD(model.parameters(), lr=0.01)\n",
    "    elif optimizer_name == 'Adagrad':\n",
    "        return torch.optim.Adagrad(model.parameters(), lr=0.01)\n",
    "    else:\n",
    "        return -1"
   ]
  },
  {
   "cell_type": "code",
   "execution_count": 44,
   "id": "70e5906d",
   "metadata": {},
   "outputs": [],
   "source": [
    "# Definiujemy tablice hiperparametrów, które będziemy testować\n",
    "hidden_channels_tab = [16, 32, 64]\n",
    "activationGNN_tab = [torch.relu, torch.tanh, F.leaky_relu]\n",
    "activationOut_tab = [torch.softmax, torch.sigmoid]\n",
    "optimizers_tab = ['SGD', 'Adam', 'Adagrad']"
   ]
  },
  {
   "cell_type": "code",
   "execution_count": 57,
   "id": "3deaa056",
   "metadata": {},
   "outputs": [
    {
     "name": "stdout",
     "output_type": "stream",
     "text": [
      "0.129\n",
      "0.712\n",
      "0.779\n",
      "0.144\n",
      "0.7\n",
      "0.771\n",
      "0.245\n",
      "0.735\n",
      "0.741\n",
      "0.272\n",
      "0.745\n",
      "0.744\n",
      "0.129\n",
      "0.75\n",
      "0.782\n",
      "0.146\n",
      "0.684\n",
      "0.772\n",
      "0.149\n",
      "0.774\n",
      "0.772\n",
      "0.149\n",
      "0.769\n",
      "0.771\n",
      "0.159\n",
      "0.759\n",
      "0.767\n",
      "0.2\n",
      "0.772\n",
      "0.764\n",
      "0.149\n",
      "0.759\n",
      "0.769\n",
      "0.149\n",
      "0.776\n",
      "0.77\n",
      "0.121\n",
      "0.759\n",
      "0.784\n",
      "0.14\n",
      "0.78\n",
      "0.785\n",
      "0.221\n",
      "0.771\n",
      "0.776\n",
      "0.296\n",
      "0.776\n",
      "0.773\n",
      "0.12\n",
      "0.792\n",
      "0.788\n",
      "0.141\n",
      "0.773\n",
      "0.786\n"
     ]
    }
   ],
   "source": [
    "for h_c in hidden_channels_tab:\n",
    "    for aGNN in activationGNN_tab:\n",
    "        for aOut in activationOut_tab:\n",
    "            for opt in optimizers_tab:\n",
    "                model = GCN(hidden_channels=h_c, activationGNN=aGNN, activationOut=aOut)\n",
    "                optimizer = assign_optimizer(model, opt)\n",
    "                loss = final_train(1000)\n",
    "                accuracies.append(test())\n",
    "                params.append(['hidden_chanels: ' + str(h_c), 'activationGNN: ' + str(aGNN), 'activationOut: ' + str(aOut), 'optimizer: ' + opt,])\n",
    "                print(accuracies[-1])"
   ]
  },
  {
   "cell_type": "code",
   "execution_count": 58,
   "id": "70eeb8ed",
   "metadata": {},
   "outputs": [
    {
     "name": "stdout",
     "output_type": "stream",
     "text": [
      "[0.129, 0.129, 0.129, 0.712, 0.779, 0.144, 0.7, 0.771, 0.245, 0.735, 0.741, 0.272, 0.745, 0.744, 0.129, 0.75, 0.782, 0.146, 0.684, 0.772, 0.149, 0.774, 0.772, 0.149, 0.769, 0.771, 0.159, 0.759, 0.767, 0.2, 0.772, 0.764, 0.149, 0.759, 0.769, 0.149, 0.776, 0.77, 0.121, 0.759, 0.784, 0.14, 0.78, 0.785, 0.221, 0.771, 0.776, 0.296, 0.776, 0.773, 0.12, 0.792, 0.788, 0.141, 0.773, 0.786]\n",
      "['hidden_chanels: 16', 'activationGNN: <built-in method relu of type object at 0x00007FFC68436F40>', 'activationOut: <built-in method softmax of type object at 0x00007FFC68436F40>', 'optimizer: SGD']\n",
      "['hidden_chanels: 16', 'activationGNN: <built-in method relu of type object at 0x00007FFC68436F40>', 'activationOut: <built-in method softmax of type object at 0x00007FFC68436F40>', 'optimizer: SGD']\n",
      "['hidden_chanels: 16', 'activationGNN: <built-in method relu of type object at 0x00007FFC68436F40>', 'activationOut: <built-in method softmax of type object at 0x00007FFC68436F40>', 'optimizer: SGD']\n",
      "['hidden_chanels: 16', 'activationGNN: <built-in method relu of type object at 0x00007FFC68436F40>', 'activationOut: <built-in method softmax of type object at 0x00007FFC68436F40>', 'optimizer: Adam']\n",
      "['hidden_chanels: 16', 'activationGNN: <built-in method relu of type object at 0x00007FFC68436F40>', 'activationOut: <built-in method softmax of type object at 0x00007FFC68436F40>', 'optimizer: Adagrad']\n",
      "['hidden_chanels: 16', 'activationGNN: <built-in method relu of type object at 0x00007FFC68436F40>', 'activationOut: <built-in method sigmoid of type object at 0x00007FFC68436F40>', 'optimizer: SGD']\n",
      "['hidden_chanels: 16', 'activationGNN: <built-in method relu of type object at 0x00007FFC68436F40>', 'activationOut: <built-in method sigmoid of type object at 0x00007FFC68436F40>', 'optimizer: Adam']\n",
      "['hidden_chanels: 16', 'activationGNN: <built-in method relu of type object at 0x00007FFC68436F40>', 'activationOut: <built-in method sigmoid of type object at 0x00007FFC68436F40>', 'optimizer: Adagrad']\n",
      "['hidden_chanels: 16', 'activationGNN: <built-in method tanh of type object at 0x00007FFC68436F40>', 'activationOut: <built-in method softmax of type object at 0x00007FFC68436F40>', 'optimizer: SGD']\n",
      "['hidden_chanels: 16', 'activationGNN: <built-in method tanh of type object at 0x00007FFC68436F40>', 'activationOut: <built-in method softmax of type object at 0x00007FFC68436F40>', 'optimizer: Adam']\n",
      "['hidden_chanels: 16', 'activationGNN: <built-in method tanh of type object at 0x00007FFC68436F40>', 'activationOut: <built-in method softmax of type object at 0x00007FFC68436F40>', 'optimizer: Adagrad']\n",
      "['hidden_chanels: 16', 'activationGNN: <built-in method tanh of type object at 0x00007FFC68436F40>', 'activationOut: <built-in method sigmoid of type object at 0x00007FFC68436F40>', 'optimizer: SGD']\n",
      "['hidden_chanels: 16', 'activationGNN: <built-in method tanh of type object at 0x00007FFC68436F40>', 'activationOut: <built-in method sigmoid of type object at 0x00007FFC68436F40>', 'optimizer: Adam']\n",
      "['hidden_chanels: 16', 'activationGNN: <built-in method tanh of type object at 0x00007FFC68436F40>', 'activationOut: <built-in method sigmoid of type object at 0x00007FFC68436F40>', 'optimizer: Adagrad']\n",
      "['hidden_chanels: 16', 'activationGNN: <function leaky_relu at 0x000001E7E4968C10>', 'activationOut: <built-in method softmax of type object at 0x00007FFC68436F40>', 'optimizer: SGD']\n",
      "['hidden_chanels: 16', 'activationGNN: <function leaky_relu at 0x000001E7E4968C10>', 'activationOut: <built-in method softmax of type object at 0x00007FFC68436F40>', 'optimizer: Adam']\n",
      "['hidden_chanels: 16', 'activationGNN: <function leaky_relu at 0x000001E7E4968C10>', 'activationOut: <built-in method softmax of type object at 0x00007FFC68436F40>', 'optimizer: Adagrad']\n",
      "['hidden_chanels: 16', 'activationGNN: <function leaky_relu at 0x000001E7E4968C10>', 'activationOut: <built-in method sigmoid of type object at 0x00007FFC68436F40>', 'optimizer: SGD']\n",
      "['hidden_chanels: 16', 'activationGNN: <function leaky_relu at 0x000001E7E4968C10>', 'activationOut: <built-in method sigmoid of type object at 0x00007FFC68436F40>', 'optimizer: Adam']\n",
      "['hidden_chanels: 16', 'activationGNN: <function leaky_relu at 0x000001E7E4968C10>', 'activationOut: <built-in method sigmoid of type object at 0x00007FFC68436F40>', 'optimizer: Adagrad']\n",
      "['hidden_chanels: 32', 'activationGNN: <built-in method relu of type object at 0x00007FFC68436F40>', 'activationOut: <built-in method softmax of type object at 0x00007FFC68436F40>', 'optimizer: SGD']\n",
      "['hidden_chanels: 32', 'activationGNN: <built-in method relu of type object at 0x00007FFC68436F40>', 'activationOut: <built-in method softmax of type object at 0x00007FFC68436F40>', 'optimizer: Adam']\n",
      "['hidden_chanels: 32', 'activationGNN: <built-in method relu of type object at 0x00007FFC68436F40>', 'activationOut: <built-in method softmax of type object at 0x00007FFC68436F40>', 'optimizer: Adagrad']\n",
      "['hidden_chanels: 32', 'activationGNN: <built-in method relu of type object at 0x00007FFC68436F40>', 'activationOut: <built-in method sigmoid of type object at 0x00007FFC68436F40>', 'optimizer: SGD']\n",
      "['hidden_chanels: 32', 'activationGNN: <built-in method relu of type object at 0x00007FFC68436F40>', 'activationOut: <built-in method sigmoid of type object at 0x00007FFC68436F40>', 'optimizer: Adam']\n",
      "['hidden_chanels: 32', 'activationGNN: <built-in method relu of type object at 0x00007FFC68436F40>', 'activationOut: <built-in method sigmoid of type object at 0x00007FFC68436F40>', 'optimizer: Adagrad']\n",
      "['hidden_chanels: 32', 'activationGNN: <built-in method tanh of type object at 0x00007FFC68436F40>', 'activationOut: <built-in method softmax of type object at 0x00007FFC68436F40>', 'optimizer: SGD']\n",
      "['hidden_chanels: 32', 'activationGNN: <built-in method tanh of type object at 0x00007FFC68436F40>', 'activationOut: <built-in method softmax of type object at 0x00007FFC68436F40>', 'optimizer: Adam']\n",
      "['hidden_chanels: 32', 'activationGNN: <built-in method tanh of type object at 0x00007FFC68436F40>', 'activationOut: <built-in method softmax of type object at 0x00007FFC68436F40>', 'optimizer: Adagrad']\n",
      "['hidden_chanels: 32', 'activationGNN: <built-in method tanh of type object at 0x00007FFC68436F40>', 'activationOut: <built-in method sigmoid of type object at 0x00007FFC68436F40>', 'optimizer: SGD']\n",
      "['hidden_chanels: 32', 'activationGNN: <built-in method tanh of type object at 0x00007FFC68436F40>', 'activationOut: <built-in method sigmoid of type object at 0x00007FFC68436F40>', 'optimizer: Adam']\n",
      "['hidden_chanels: 32', 'activationGNN: <built-in method tanh of type object at 0x00007FFC68436F40>', 'activationOut: <built-in method sigmoid of type object at 0x00007FFC68436F40>', 'optimizer: Adagrad']\n",
      "['hidden_chanels: 32', 'activationGNN: <function leaky_relu at 0x000001E7E4968C10>', 'activationOut: <built-in method softmax of type object at 0x00007FFC68436F40>', 'optimizer: SGD']\n",
      "['hidden_chanels: 32', 'activationGNN: <function leaky_relu at 0x000001E7E4968C10>', 'activationOut: <built-in method softmax of type object at 0x00007FFC68436F40>', 'optimizer: Adam']\n",
      "['hidden_chanels: 32', 'activationGNN: <function leaky_relu at 0x000001E7E4968C10>', 'activationOut: <built-in method softmax of type object at 0x00007FFC68436F40>', 'optimizer: Adagrad']\n",
      "['hidden_chanels: 32', 'activationGNN: <function leaky_relu at 0x000001E7E4968C10>', 'activationOut: <built-in method sigmoid of type object at 0x00007FFC68436F40>', 'optimizer: SGD']\n",
      "['hidden_chanels: 32', 'activationGNN: <function leaky_relu at 0x000001E7E4968C10>', 'activationOut: <built-in method sigmoid of type object at 0x00007FFC68436F40>', 'optimizer: Adam']\n",
      "['hidden_chanels: 32', 'activationGNN: <function leaky_relu at 0x000001E7E4968C10>', 'activationOut: <built-in method sigmoid of type object at 0x00007FFC68436F40>', 'optimizer: Adagrad']\n",
      "['hidden_chanels: 64', 'activationGNN: <built-in method relu of type object at 0x00007FFC68436F40>', 'activationOut: <built-in method softmax of type object at 0x00007FFC68436F40>', 'optimizer: SGD']\n",
      "['hidden_chanels: 64', 'activationGNN: <built-in method relu of type object at 0x00007FFC68436F40>', 'activationOut: <built-in method softmax of type object at 0x00007FFC68436F40>', 'optimizer: Adam']\n",
      "['hidden_chanels: 64', 'activationGNN: <built-in method relu of type object at 0x00007FFC68436F40>', 'activationOut: <built-in method softmax of type object at 0x00007FFC68436F40>', 'optimizer: Adagrad']\n",
      "['hidden_chanels: 64', 'activationGNN: <built-in method relu of type object at 0x00007FFC68436F40>', 'activationOut: <built-in method sigmoid of type object at 0x00007FFC68436F40>', 'optimizer: SGD']\n",
      "['hidden_chanels: 64', 'activationGNN: <built-in method relu of type object at 0x00007FFC68436F40>', 'activationOut: <built-in method sigmoid of type object at 0x00007FFC68436F40>', 'optimizer: Adam']\n",
      "['hidden_chanels: 64', 'activationGNN: <built-in method relu of type object at 0x00007FFC68436F40>', 'activationOut: <built-in method sigmoid of type object at 0x00007FFC68436F40>', 'optimizer: Adagrad']\n",
      "['hidden_chanels: 64', 'activationGNN: <built-in method tanh of type object at 0x00007FFC68436F40>', 'activationOut: <built-in method softmax of type object at 0x00007FFC68436F40>', 'optimizer: SGD']\n",
      "['hidden_chanels: 64', 'activationGNN: <built-in method tanh of type object at 0x00007FFC68436F40>', 'activationOut: <built-in method softmax of type object at 0x00007FFC68436F40>', 'optimizer: Adam']\n",
      "['hidden_chanels: 64', 'activationGNN: <built-in method tanh of type object at 0x00007FFC68436F40>', 'activationOut: <built-in method softmax of type object at 0x00007FFC68436F40>', 'optimizer: Adagrad']\n",
      "['hidden_chanels: 64', 'activationGNN: <built-in method tanh of type object at 0x00007FFC68436F40>', 'activationOut: <built-in method sigmoid of type object at 0x00007FFC68436F40>', 'optimizer: SGD']\n",
      "['hidden_chanels: 64', 'activationGNN: <built-in method tanh of type object at 0x00007FFC68436F40>', 'activationOut: <built-in method sigmoid of type object at 0x00007FFC68436F40>', 'optimizer: Adam']\n",
      "['hidden_chanels: 64', 'activationGNN: <built-in method tanh of type object at 0x00007FFC68436F40>', 'activationOut: <built-in method sigmoid of type object at 0x00007FFC68436F40>', 'optimizer: Adagrad']\n",
      "['hidden_chanels: 64', 'activationGNN: <function leaky_relu at 0x000001E7E4968C10>', 'activationOut: <built-in method softmax of type object at 0x00007FFC68436F40>', 'optimizer: SGD']\n",
      "['hidden_chanels: 64', 'activationGNN: <function leaky_relu at 0x000001E7E4968C10>', 'activationOut: <built-in method softmax of type object at 0x00007FFC68436F40>', 'optimizer: Adam']\n",
      "['hidden_chanels: 64', 'activationGNN: <function leaky_relu at 0x000001E7E4968C10>', 'activationOut: <built-in method softmax of type object at 0x00007FFC68436F40>', 'optimizer: Adagrad']\n",
      "['hidden_chanels: 64', 'activationGNN: <function leaky_relu at 0x000001E7E4968C10>', 'activationOut: <built-in method sigmoid of type object at 0x00007FFC68436F40>', 'optimizer: SGD']\n",
      "['hidden_chanels: 64', 'activationGNN: <function leaky_relu at 0x000001E7E4968C10>', 'activationOut: <built-in method sigmoid of type object at 0x00007FFC68436F40>', 'optimizer: Adam']\n",
      "['hidden_chanels: 64', 'activationGNN: <function leaky_relu at 0x000001E7E4968C10>', 'activationOut: <built-in method sigmoid of type object at 0x00007FFC68436F40>', 'optimizer: Adagrad']\n"
     ]
    }
   ],
   "source": [
    "print(accuracies)\n",
    "for elem in params:\n",
    "    print(elem)"
   ]
  },
  {
   "cell_type": "code",
   "execution_count": 61,
   "id": "a5bb9ed5",
   "metadata": {},
   "outputs": [
    {
     "name": "stdout",
     "output_type": "stream",
     "text": [
      "51\n"
     ]
    }
   ],
   "source": [
    "print(accuracies.index(max(accuracies)))"
   ]
  },
  {
   "cell_type": "code",
   "execution_count": 63,
   "id": "b55c8dbc",
   "metadata": {},
   "outputs": [
    {
     "name": "stdout",
     "output_type": "stream",
     "text": [
      "0.792\n"
     ]
    }
   ],
   "source": [
    "print(accuracies[51])"
   ]
  },
  {
   "cell_type": "code",
   "execution_count": 62,
   "id": "37c0a405",
   "metadata": {},
   "outputs": [
    {
     "name": "stdout",
     "output_type": "stream",
     "text": [
      "['hidden_chanels: 64', 'activationGNN: <function leaky_relu at 0x000001E7E4968C10>', 'activationOut: <built-in method softmax of type object at 0x00007FFC68436F40>', 'optimizer: Adam']\n"
     ]
    }
   ],
   "source": [
    "print(params[51])"
   ]
  },
  {
   "cell_type": "markdown",
   "id": "5f2793da",
   "metadata": {},
   "source": [
    "<font size='5'>Zatem badamy najlepszy model o parametrach: hidden_channels=64, activationGNN=leaky_realu, activationOut(linear)=softmax, optimizer=Adam </font>"
   ]
  },
  {
   "cell_type": "code",
   "execution_count": 151,
   "id": "6fbc9abd",
   "metadata": {},
   "outputs": [],
   "source": [
    "model = GCN(hidden_channels=64, activationGNN=F.leaky_relu, activationOut=torch.softmax)\n",
    "optimizer = assign_optimizer(model, 'Adam')\n",
    "losses = final_train(100)"
   ]
  },
  {
   "cell_type": "code",
   "execution_count": null,
   "id": "a1e0a7aa",
   "metadata": {},
   "outputs": [],
   "source": [
    "tmp = [float(loss.detach().numpy()) for loss in losses]\n",
    "for elem in tmp:\n",
    "    print(elem)"
   ]
  },
  {
   "cell_type": "code",
   "execution_count": 152,
   "id": "20fee878",
   "metadata": {},
   "outputs": [
    {
     "name": "stderr",
     "output_type": "stream",
     "text": [
      "C:\\Users\\MICHU13\\anaconda3\\lib\\site-packages\\seaborn\\_decorators.py:36: FutureWarning: Pass the following variables as keyword args: x, y. From version 0.12, the only valid positional argument will be `data`, and passing other arguments without an explicit keyword will result in an error or misinterpretation.\n",
      "  warnings.warn(\n"
     ]
    },
    {
     "data": {
      "image/png": "[encoded data removed]",
      "text/plain": [
       "<Figure size 432x288 with 1 Axes>"
      ]
     },
     "metadata": {
      "needs_background": "light"
     },
     "output_type": "display_data"
    }
   ],
   "source": [
    "import seaborn as sns\n",
    "losses_float = [float(loss.detach().numpy()) for loss in losses] \n",
    "loss_indices = [i for i,l in enumerate(losses_float)] \n",
    "plt = sns.lineplot(loss_indices, losses_float)"
   ]
  },
  {
   "cell_type": "code",
   "execution_count": 160,
   "id": "fe85a34f",
   "metadata": {},
   "outputs": [
    {
     "name": "stderr",
     "output_type": "stream",
     "text": [
      "C:\\Users\\MICHU13\\anaconda3\\lib\\site-packages\\seaborn\\_decorators.py:36: FutureWarning: Pass the following variables as keyword args: x, y. From version 0.12, the only valid positional argument will be `data`, and passing other arguments without an explicit keyword will result in an error or misinterpretation.\n",
      "  warnings.warn(\n"
     ]
    },
    {
     "data": {
      "image/png": "[encoded data removed]",
      "text/plain": [
       "<Figure size 432x288 with 1 Axes>"
      ]
     },
     "metadata": {
      "needs_background": "light"
     },
     "output_type": "display_data"
    }
   ],
   "source": [
    "import matplotlib.pyplot as plt\n",
    "sns.lineplot(loss_indices, losses_float)\n",
    "plt.title('Zmiana błędu')\n",
    "plt.xlabel('Liczba epok')\n",
    "plt.show()"
   ]
  },
  {
   "cell_type": "code",
   "execution_count": 123,
   "id": "aee9189f",
   "metadata": {},
   "outputs": [
    {
     "name": "stdout",
     "output_type": "stream",
     "text": [
      "0.792\n"
     ]
    }
   ],
   "source": [
    "accuracy, predictions = test()\n",
    "print(test())"
   ]
  },
  {
   "cell_type": "code",
   "execution_count": 64,
   "id": "aa789094",
   "metadata": {},
   "outputs": [],
   "source": [
    "from sklearn.metrics import accuracy_score, f1_score, precision_score, recall_score"
   ]
  },
  {
   "cell_type": "code",
   "execution_count": 68,
   "id": "0b6e09c2",
   "metadata": {},
   "outputs": [
    {
     "name": "stderr",
     "output_type": "stream",
     "text": [
      "C:\\Users\\MICHU13\\anaconda3\\lib\\site-packages\\torch_geometric\\data\\in_memory_dataset.py:157: UserWarning: It is not recommended to directly access the internal storage format `data` of an 'InMemoryDataset'. If you are absolutely certain what you are doing, access the internal storage via `InMemoryDataset._data` instead to suppress this warning. Alternatively, you can access stacked individual attributes of every graph via `dataset.{attr_name}`.\n",
      "  warnings.warn(msg)\n"
     ]
    }
   ],
   "source": [
    "y = dataset.data.y.numpy()\n",
    "test_mask = data['test_mask']\n",
    "test_indices = torch.arange(len(y))[test_mask]"
   ]
  },
  {
   "cell_type": "code",
   "execution_count": 124,
   "id": "269c44d0",
   "metadata": {},
   "outputs": [],
   "source": [
    "# model.eval()\n",
    "# out = model(data.x, data.edge_index)\n",
    "# pred = out.argmax(dim=1)\n",
    "pred = predictions[data.test_mask]\n",
    "correct = data.y[data.test_mask]\n",
    "pred = pred.numpy()\n",
    "correct = correct.numpy()"
   ]
  },
  {
   "cell_type": "code",
   "execution_count": 125,
   "id": "cf231ca9",
   "metadata": {},
   "outputs": [
    {
     "name": "stdout",
     "output_type": "stream",
     "text": [
      "[array([1, 2, 2, 2, 2, 0, 2, 2, 2, 2, 2, 2, 2, 2, 2, 2, 2, 2, 2, 2, 2, 2,\n",
      "       2, 2, 2, 1, 2, 2, 2, 2, 2, 2, 2, 0, 2, 2, 2, 2, 2, 2, 2, 2, 2, 2,\n",
      "       2, 2, 2, 2, 2, 2, 2, 2, 2, 2, 2, 2, 2, 2, 2, 1, 1, 1, 1, 1, 1, 1,\n",
      "       1, 1, 1, 1, 1, 1, 1, 1, 1, 1, 1, 4, 1, 1, 1, 1, 1, 1, 6, 4, 4, 4,\n",
      "       4, 4, 1, 3, 0, 1, 1, 6, 2, 1, 3, 3, 3, 3, 3, 3, 3, 3, 3, 3, 3, 3,\n",
      "       3, 3, 3, 3, 3, 3, 5, 5, 5, 5, 5, 5, 2, 2, 2, 2, 2, 6, 6, 3, 0, 0,\n",
      "       0, 0, 5, 0, 0, 4, 3, 0, 0, 6, 0, 6, 3, 3, 3, 3, 1, 3, 3, 3, 3, 3,\n",
      "       3, 3, 3, 3, 3, 3, 3, 3, 3, 3, 3, 3, 3, 3, 3, 3, 5, 0, 5, 5, 5, 5,\n",
      "       5, 5, 2, 2, 2, 4, 4, 4, 4, 3, 3, 2, 5, 5, 5, 5, 6, 5, 5, 5, 5, 4,\n",
      "       4, 3, 4, 3, 1, 0, 0, 0, 6, 6, 6, 6, 6, 6, 6, 0, 0, 0, 0, 0, 6, 0,\n",
      "       3, 4, 0, 3, 3, 3, 3, 3, 3, 3, 2, 3, 3, 3, 3, 3, 3, 3, 3, 3, 3, 3,\n",
      "       3, 3, 3, 5, 5, 5, 5, 5, 5, 5, 5, 5, 5, 5, 4, 4, 4, 4, 4, 4, 4, 4,\n",
      "       6, 0, 0, 6, 6, 0, 5, 5, 5, 0, 5, 4, 4, 4, 3, 3, 3, 3, 3, 1, 2, 3,\n",
      "       3, 2, 3, 3, 1, 3, 2, 4, 4, 4, 3, 3, 3, 3, 3, 3, 6, 3, 0, 0, 0, 0,\n",
      "       6, 5, 5, 5, 4, 0, 4, 6, 5, 5, 1, 3, 5, 5, 6, 6, 4, 3, 4, 3, 4, 3,\n",
      "       4, 4, 4, 3, 4, 4, 4, 1, 1, 1, 1, 0, 6, 0, 0, 0, 0, 0, 0, 0, 2, 3,\n",
      "       5, 5, 5, 3, 3, 3, 3, 3, 0, 0, 0, 0, 0, 0, 0, 3, 3, 3, 1, 1, 1, 1,\n",
      "       1, 2, 1, 1, 1, 1, 1, 1, 1, 3, 1, 1, 1, 1, 1, 0, 0, 0, 6, 6, 0, 0,\n",
      "       5, 0, 1, 1, 0, 6, 6, 6, 6, 2, 3, 3, 0, 3, 3, 4, 4, 4, 4, 4, 4, 4,\n",
      "       4, 4, 3, 4, 4, 0, 6, 0, 6, 6, 0, 0, 3, 3, 3, 3, 3, 1, 1, 1, 3, 3,\n",
      "       3, 3, 2, 6, 3, 5, 6, 6, 4, 6, 6, 6, 6, 6, 3, 3, 6, 6, 6, 2, 1, 1,\n",
      "       1, 0, 0, 6, 6, 3, 3, 3, 5, 0, 0, 0, 0, 0, 5, 5, 0, 4, 6, 6, 6, 4,\n",
      "       6, 0, 3, 0, 0, 0, 0, 0, 0, 0, 0, 0, 3, 3, 3, 3, 5, 6, 1, 0, 3, 3,\n",
      "       3, 3, 3, 6, 1, 0, 2, 2, 4, 4, 4, 4, 4, 5, 6, 3, 3, 0, 0, 0, 0, 5,\n",
      "       4, 4, 4, 4, 4, 3, 3, 3, 3, 3, 3, 3, 4, 4, 4, 1, 1, 4, 1, 0, 1, 2,\n",
      "       3, 3, 4, 4, 3, 0, 4, 4, 0, 0, 3, 5, 5, 5, 5, 5, 0, 5, 0, 0, 6, 2,\n",
      "       0, 5, 6, 3, 5, 5, 5, 5, 5, 4, 4, 3, 3, 6, 4, 0, 3, 0, 0, 4, 4, 3,\n",
      "       4, 3, 3, 3, 3, 2, 3, 3, 3, 0, 0, 1, 1, 3, 6, 3, 1, 3, 3, 0, 1, 5,\n",
      "       1, 1, 1, 1, 1, 1, 0, 1, 0, 0, 2, 4, 4, 4, 3, 3, 3, 3, 4, 3, 3, 2,\n",
      "       4, 0, 4, 4, 4, 3, 3, 3, 4, 0, 0, 0, 2, 2, 3, 3, 4, 5, 0, 2, 2, 3,\n",
      "       3, 3, 3, 3, 2, 3, 5, 5, 4, 1, 4, 4, 4, 4, 1, 4, 0, 0, 4, 4, 6, 2,\n",
      "       2, 2, 2, 4, 6, 6, 6, 0, 3, 4, 4, 4, 3, 3, 0, 5, 4, 5, 0, 0, 3, 3,\n",
      "       3, 2, 3, 2, 3, 3, 0, 0, 3, 2, 6, 0, 0, 0, 3, 5, 5, 1, 3, 4, 4, 2,\n",
      "       4, 4, 6, 0, 0, 2, 2, 2, 2, 2, 2, 2, 2, 2, 2, 0, 2, 2, 2, 0, 6, 6,\n",
      "       2, 6, 6, 2, 2, 6, 4, 4, 4, 4, 2, 5, 5, 2, 2, 3, 0, 4, 4, 3, 2, 1,\n",
      "       1, 6, 6, 5, 0, 4, 4, 6, 3, 1, 1, 5, 0, 5, 2, 3, 3, 3, 4, 5, 5, 0,\n",
      "       3, 3, 0, 2, 1, 1, 5, 2, 3, 3, 5, 0, 4, 3, 2, 2, 5, 5, 4, 3, 4, 3,\n",
      "       2, 2, 4, 2, 3, 5, 5, 5, 2, 3, 3, 0, 3, 3, 4, 5, 4, 3, 3, 3, 3, 3,\n",
      "       0, 0, 2, 4, 4, 4, 3, 3, 3, 5, 2, 3, 2, 2, 2, 3, 2, 2, 0, 4, 4, 3,\n",
      "       3, 3, 3, 2, 3, 3, 3, 3, 3, 0, 0, 3, 3, 3, 3, 2, 3, 4, 1, 2, 6, 4,\n",
      "       3, 2, 4, 1, 5, 0, 4, 3, 2, 2, 1, 3, 2, 0, 2, 2, 6, 3, 4, 2, 6, 1,\n",
      "       3, 0, 2, 3, 2, 4, 2, 5, 3, 3, 0, 5, 6, 0, 3, 3, 3, 2, 5, 3, 5, 4,\n",
      "       3, 3, 3, 3, 3, 4, 6, 2, 5, 2, 2, 2, 0, 4, 4, 4, 4, 6, 3, 2, 2, 6,\n",
      "       2, 0, 2, 2, 2, 3, 3, 4, 4, 3, 3, 3, 3, 3, 3, 0, 4, 4, 4, 4, 2, 2,\n",
      "       3, 4, 4, 4, 4, 2, 4, 0, 4, 2, 3, 3, 3, 2, 3, 2, 5, 3, 4, 4, 4, 3,\n",
      "       3, 5, 3, 3, 3, 3, 2, 5, 3, 3], dtype=int64)]\n"
     ]
    }
   ],
   "source": [
    "print([pred])"
   ]
  },
  {
   "cell_type": "code",
   "execution_count": 126,
   "id": "a4aa3ed7",
   "metadata": {},
   "outputs": [
    {
     "name": "stdout",
     "output_type": "stream",
     "text": [
      "Accuracy: 0.792\n",
      "Precision(weighted): 0.797565596394222\n",
      "Precision(macro): 0.7762636718023957\n",
      "Recall(weighted): 0.792\n",
      "Recall(macro): 0.8055667123082086\n",
      "F1(weighted): 0.7922178836736319\n",
      "F1(macro): 0.7885435013083982\n"
     ]
    }
   ],
   "source": [
    "print(\"Accuracy: \" + str(accuracy_score(correct, pred)))\n",
    "print(\"Precision(weighted): \" + str(precision_score(correct, pred, average='weighted')))\n",
    "print(\"Precision(macro): \" + str(precision_score(correct, pred, average='macro')))\n",
    "print(\"Recall(weighted): \" + str(recall_score(correct, pred, average='weighted')))\n",
    "print(\"Recall(macro): \" + str(recall_score(correct, pred, average='macro')))\n",
    "print(\"F1(weighted): \" + str(f1_score(correct, pred, average='weighted')))\n",
    "print(\"F1(macro): \" + str(f1_score(correct, pred, average='macro')))\n"
   ]
  },
  {
   "cell_type": "code",
   "execution_count": 129,
   "id": "308205d6",
   "metadata": {},
   "outputs": [],
   "source": [
    "from sklearn.metrics import confusion_matrix\n",
    "import seaborn as sns\n",
    "import matplotlib.pyplot as plt"
   ]
  },
  {
   "cell_type": "code",
   "execution_count": 130,
   "id": "06d66ef6",
   "metadata": {},
   "outputs": [
    {
     "data": {
      "image/png": "[encoded data removed]",
      "text/plain": [
       "<Figure size 720x576 with 2 Axes>"
      ]
     },
     "metadata": {
      "needs_background": "light"
     },
     "output_type": "display_data"
    }
   ],
   "source": [
    "cm = confusion_matrix(correct, pred)\n",
    "classes = ['Case Based', 'Genetic Algorithms', 'Neural Networks', 'Probabilistic Methods', 'Reinforcement Learning', 'Rule Learning', 'Theory']\n",
    "fig, ax = plt.subplots(figsize=(10, 8))\n",
    "\n",
    "sns.heatmap(cm, annot=True, cmap='Blues', fmt='d', xticklabels=classes, yticklabels=classes, ax=ax)\n",
    "\n",
    "plt.xlabel('Predicted Labels')\n",
    "plt.ylabel('True Labels')\n",
    "plt.title('Confusion Matrix')\n",
    "\n",
    "plt.show()"
   ]
  },
  {
   "cell_type": "code",
   "execution_count": null,
   "id": "58c9a3fb",
   "metadata": {},
   "outputs": [],
   "source": []
  }
 ],
 "metadata": {
  "kernelspec": {
   "display_name": "Python 3",
   "language": "python",
   "name": "python3"
  },
  "language_info": {
   "codemirror_mode": {
    "name": "ipython",
    "version": 3
   },
   "file_extension": ".py",
   "mimetype": "text/x-python",
   "name": "python",
   "nbconvert_exporter": "python",
   "pygments_lexer": "ipython3",
   "version": "3.8.8"
  }
 },
 "nbformat": 4,
 "nbformat_minor": 5
}
