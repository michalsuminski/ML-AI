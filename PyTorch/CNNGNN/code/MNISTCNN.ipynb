{
 "cells": [
  {
   "cell_type": "code",
   "execution_count": 1,
   "id": "7853eaa1",
   "metadata": {},
   "outputs": [],
   "source": [
    "import torch\n",
    "import torchvision\n",
    "from torchvision import transforms\n",
    "import torch.nn.functional as F\n",
    "from torch.nn import Conv2d, Linear"
   ]
  },
  {
   "cell_type": "code",
   "execution_count": 47,
   "id": "2b4893a0",
   "metadata": {},
   "outputs": [],
   "source": [
    "class CNN(torch.nn.Module):\n",
    "    def __init__(self, hidden_channels, activationCNN, activationOut):\n",
    "        super(CNN, self).__init__()\n",
    "        torch.manual_seed(42)\n",
    "\n",
    "        # in_channels=1 bo obraz jest jednokanałowy(greyscale)\n",
    "        self.conv1 = Conv2d(1, hidden_channels, kernel_size=3, padding=1) # kernel 3x3, padding=1 pixel czyli output ma ten sam size czyli 28x28\n",
    "        self.conv2 = Conv2d(hidden_channels, hidden_channels * 2, kernel_size=3, padding=1)\n",
    "        self.fullyConnected = Linear(hidden_channels * 2 * 7 * 7, 10) # (hidden channels * 2 * 2) to  wyjscie z warstwy 2 konwolucyjnej a 7x7 to dlatego ze poczatkowy rozmiar obrazka jest 28x28\n",
    "        # alepo każdej warstwie konwolucyjnej był pooling 2x2, który redukuje wektor wejściowy, czyli 28:(2x2) = 7\n",
    "        self.activationCNN = activationCNN\n",
    "        self.activationOut = activationOut\n",
    "\n",
    "    def forward(self, x):\n",
    "        x = self.conv1(x)\n",
    "        x = self.activationCNN(x)\n",
    "        x = F.max_pool2d(x, 2)\n",
    "\n",
    "        x = self.conv2(x)\n",
    "        x = self.activationCNN(x)\n",
    "        x = F.max_pool2d(x, 2)\n",
    "\n",
    "        x = x.view(x.size(0), -1)\n",
    "\n",
    "        if self.activationOut == torch.softmax:\n",
    "            x = self.activationOut(self.fullyConnected(x), dim=1)\n",
    "        else:\n",
    "            x = self.activationOut(self.fullyConnected(x))\n",
    "        return x"
   ]
  },
  {
   "cell_type": "code",
   "execution_count": 44,
   "id": "d5d1a27d",
   "metadata": {},
   "outputs": [],
   "source": [
    "class CNN(torch.nn.Module):\n",
    "    def __init__(self, hidden_channels, activationCNN, activationOut):\n",
    "        super(CNN, self).__init__()\n",
    "        torch.manual_seed(42)\n",
    "        \n",
    "        self.conv1 = Conv2d(in_channels=1, out_channels=hidden_channels, kernel_size=3, padding=1) # wejście ([hidden_channels, 28x28])\n",
    "        self.pool1 = torch.nn.MaxPool2d(kernel_size=2, stride=2) # po poolingu rozmiar sie zmniejsza [hidden_channels, 14x14]\n",
    "        self.conv2 = Conv2d(in_channels=hidden_channels, out_channels=hidden_channels*2, kernel_size=3, padding=1) \n",
    "        self.pool2 = torch.nn.MaxPool2d(kernel_size=2, stride=2) # po poolingu rozmiar sie zmniejsza [hidden_channels, 7x7]\n",
    "        self.conv3 = Conv2d(in_channels=hidden_channels*2, out_channels=hidden_channels*2*2, kernel_size=3, padding=1) \n",
    "        self.pool3 = torch.nn.MaxPool2d(kernel_size=2, stride=2) # po poolingu rozmiar sie zmniejsza [hidden_channels, 3x3]\n",
    "        self.conv4 = Conv2d(in_channels=hidden_channels*2*2, out_channels=hidden_channels*2*2*2, kernel_size=3, padding=1)\n",
    "        self.pool4 = torch.nn.MaxPool2d(kernel_size=2, stride=2) # po poolingu rozmiar sie zmniejsza [hidden_channels, 1x1]\n",
    "        self.fullyConnected = Linear(in_features=(hidden_channels*2*2*2), out_features=100) # tu jest tylko \n",
    "        self.fullyConnected2 = Linear(in_features=100, out_features=10) # tu mi wychodzi, że powinno być jeszcze 2*2 w input_shapie\n",
    "        \n",
    "        self.activationCNN = activationCNN\n",
    "        self.activationOut = activationOut\n",
    "\n",
    "    def forward(self, x):\n",
    "        x = self.conv1(x)\n",
    "        x = self.activationCNN(x)\n",
    "        x = self.pool1(x)\n",
    "        \n",
    "        x = self.conv2(x)\n",
    "        x = self.activationCNN(x)\n",
    "        x = self.pool2(x)\n",
    "        \n",
    "        x = self.conv3(x)\n",
    "        x = self.activationCNN(x)\n",
    "        x = self.pool3(x)\n",
    "        \n",
    "        x = self.conv4(x)\n",
    "        x = self.activationCNN(x)\n",
    "        x = self.pool4(x)\n",
    "        \n",
    "        x = x.view(x.size(0), -1)\n",
    "        if self.activationOut == torch.softmax:\n",
    "            x = self.activationOut(self.fullyConnected(x), dim=1)\n",
    "        else:\n",
    "            x = self.activationOut(self.fullyConnected(x))\n",
    "            \n",
    "        if self.activationOut == torch.softmax:\n",
    "            x = self.activationOut(self.fullyConnected2(x), dim=1)\n",
    "        else:\n",
    "            x = self.activationOut(self.fullyConnected2(x))\n",
    "        return x"
   ]
  },
  {
   "cell_type": "code",
   "execution_count": 3,
   "id": "5be7ba77",
   "metadata": {},
   "outputs": [],
   "source": [
    "criterion = torch.nn.CrossEntropyLoss()"
   ]
  },
  {
   "cell_type": "code",
   "execution_count": 4,
   "id": "36c86237",
   "metadata": {},
   "outputs": [],
   "source": [
    "train_dataset = torchvision.datasets.MNIST('./data', train=True, transform=transforms.ToTensor(), download=True)\n",
    "test_dataset = torchvision.datasets.MNIST('./data', train=False, transform=transforms.ToTensor(), download=True)\n",
    "train_loader = torch.utils.data.DataLoader(train_dataset, batch_size=64, shuffle=True)\n",
    "test_loader = torch.utils.data.DataLoader(test_dataset, batch_size=64, shuffle=True)"
   ]
  },
  {
   "cell_type": "code",
   "execution_count": 5,
   "id": "236eb46a",
   "metadata": {},
   "outputs": [],
   "source": [
    "device = torch.device(\"cuda:0\" if torch.cuda.is_available() else \"cpu\")\n",
    "model = model.to(device)"
   ]
  },
  {
   "cell_type": "code",
   "execution_count": 6,
   "id": "ad7395c6",
   "metadata": {},
   "outputs": [],
   "source": [
    "def train():\n",
    "    model.train()\n",
    "    train_loss = 0\n",
    "    for batch_idx, (data, target) in enumerate(train_loader):\n",
    "        data, target = data.to(device), target.to(device)\n",
    "        optimizer.zero_grad()\n",
    "        output = model(data)\n",
    "        loss = criterion(output, target)\n",
    "        train_loss += loss.item()\n",
    "        loss.backward()\n",
    "        optimizer.step()\n",
    "    return train_loss/len(train_loader.dataset)"
   ]
  },
  {
   "cell_type": "code",
   "execution_count": 98,
   "id": "b9413296",
   "metadata": {},
   "outputs": [],
   "source": [
    "def test():\n",
    "    model.eval()\n",
    "    correct = 0\n",
    "    predictions = []\n",
    "    targets = []\n",
    "    inputs = []\n",
    "    with torch.no_grad():\n",
    "        for data, target in test_loader:\n",
    "            data, target = data.to(device), target.to(device)\n",
    "            output = model(data)\n",
    "            pred = output.argmax(dim=1, keepdim=True)\n",
    "            predictions.append(pred)\n",
    "            targets.append(target)\n",
    "            inputs.append(data)\n",
    "            correct += pred.eq(target.view_as(pred)).sum().item()\n",
    "    print(correct)\n",
    "    print(len(test_loader.dataset))\n",
    "    accuracy = 100. * correct / len(test_loader.dataset)\n",
    "    return accuracy, predictions, targets, inputs"
   ]
  },
  {
   "cell_type": "code",
   "execution_count": 8,
   "id": "a462cf70",
   "metadata": {},
   "outputs": [],
   "source": [
    "# Tablica do przechowywania wartości accuracy z poszczególnych modeli\n",
    "accuracies = []\n",
    "# Tablica do przechowywania hiperparametrów danego modelu\n",
    "params = []"
   ]
  },
  {
   "cell_type": "code",
   "execution_count": 92,
   "id": "2b7c5ad2",
   "metadata": {},
   "outputs": [],
   "source": [
    "# Funckja do trenowania modelu przez zadaną liczbę epok\n",
    "def final_train(epochs):\n",
    "    losses = []\n",
    "    for epoch in range(0, epochs):\n",
    "        loss = train()\n",
    "        losses.append(loss)\n",
    "    return losses"
   ]
  },
  {
   "cell_type": "code",
   "execution_count": 10,
   "id": "5e0678ff",
   "metadata": {},
   "outputs": [],
   "source": [
    "# Funkcja stworzona dlatego, że optimizer trzeba stworzyć po modelu(przyjmiuje model.parameters() jako parametr) więc nie możemy zadeklarować tablicy optimizerów, dlatego stworzymy tablice, \n",
    "# która zawiera tylko nazwy, a potem po stworzeniu modelu użyjemy tej funkcji żeby stworzyć odpowiedni optimizer\n",
    "def assign_optimizer(model, optimizer_name):\n",
    "    if optimizer_name == 'Adam':\n",
    "        return torch.optim.Adam(model.parameters(), lr=0.01)\n",
    "    elif optimizer_name == 'SGD':\n",
    "        return torch.optim.SGD(model.parameters(), lr=0.01)\n",
    "    elif optimizer_name == 'Adagrad':\n",
    "        return torch.optim.Adagrad(model.parameters(), lr=0.01)\n",
    "    else:\n",
    "        return -1"
   ]
  },
  {
   "cell_type": "code",
   "execution_count": 51,
   "id": "0cbeab82",
   "metadata": {},
   "outputs": [],
   "source": [
    "# Definiujemy tablice hiperparametrów, które będziemy testować\n",
    "hidden_channels_tab = [16, 32, 64]\n",
    "activationCNN_tab = [torch.relu, torch.tanh, F.leaky_relu]\n",
    "activationOut_tab = [torch.softmax, torch.sigmoid]\n",
    "optimizers_tab = ['SGD', 'Adam', 'Adagrad']"
   ]
  },
  {
   "cell_type": "markdown",
   "id": "574547df",
   "metadata": {},
   "source": [
    "<font size='5'>Wyniki dużej sieci z 4 warstwami CNN i 2 liniowymi </font>"
   ]
  },
  {
   "cell_type": "code",
   "execution_count": 46,
   "id": "801a2339",
   "metadata": {},
   "outputs": [
    {
     "name": "stdout",
     "output_type": "stream",
     "text": [
      "1135\n",
      "10000\n",
      "11.35\n"
     ]
    }
   ],
   "source": [
    "for h_c in hidden_channels_tab:\n",
    "    for aCNN in activationCNN_tab:\n",
    "        for aOut in activationOut_tab:\n",
    "            for opt in optimizers_tab:\n",
    "                model = CNN(hidden_channels=h_c, activationCNN=aCNN, activationOut=aOut)\n",
    "                optimizer = assign_optimizer(model, opt)\n",
    "                loss = final_train(10)\n",
    "                accuracies.append(test())\n",
    "                params.append(['hidden_chanels: ' + str(h_c), 'activationGNN: ' + str(aCNN), 'activationOut: ' + str(aOut), 'optimizer: ' + opt,])\n",
    "                print(accuracies[-1])"
   ]
  },
  {
   "cell_type": "markdown",
   "id": "93443db8",
   "metadata": {},
   "source": [
    "<font size='5'>Wyniki małej sieci z 2 warstwami CNN i 1 liniowa </font>"
   ]
  },
  {
   "cell_type": "code",
   "execution_count": 49,
   "id": "01817afc",
   "metadata": {},
   "outputs": [
    {
     "name": "stdout",
     "output_type": "stream",
     "text": [
      "9629\n",
      "10000\n",
      "96.29\n"
     ]
    }
   ],
   "source": [
    "for h_c in hidden_channels_tab:\n",
    "    for aCNN in activationCNN_tab:\n",
    "        for aOut in activationOut_tab:\n",
    "            for opt in optimizers_tab:\n",
    "                model = CNN(hidden_channels=h_c, activationCNN=aCNN, activationOut=aOut)\n",
    "                optimizer = assign_optimizer(model, opt)\n",
    "                loss = final_train(10)\n",
    "                accuracies.append(test())\n",
    "                params.append(['hidden_chanels: ' + str(h_c), 'activationGNN: ' + str(aCNN), 'activationOut: ' + str(aOut), 'optimizer: ' + opt,])\n",
    "                print(accuracies[-1])"
   ]
  },
  {
   "cell_type": "code",
   "execution_count": null,
   "id": "4589d44e",
   "metadata": {},
   "outputs": [],
   "source": [
    "# Tablica do przechowywania wartości accuracy z poszczególnych modeli\n",
    "accuracies = []\n",
    "# Tablica do przechowywania hiperparametrów danego modelu\n",
    "params = []\n",
    "for h_c in hidden_channels_tab:\n",
    "    for aCNN in activationCNN_tab:\n",
    "        for aOut in activationOut_tab:\n",
    "            for opt in optimizers_tab:\n",
    "                model = CNN(hidden_channels=h_c, activationCNN=aCNN, activationOut=aOut)\n",
    "                optimizer = assign_optimizer(model, opt)\n",
    "                loss = final_train(10) # ewentualnie tu można mieć loss danego modelu, ale to chyba potrzebne tylko dla tego najlepszego modelu\n",
    "                accuracies.append(test())\n",
    "                params.append(['hidden_chanels: ' + str(h_c), 'activationGNN: ' + str(aCNN), 'activationOut: ' + str(aOut), 'optimizer: ' + opt,])"
   ]
  },
  {
   "cell_type": "code",
   "execution_count": 53,
   "id": "f4e1f2ad",
   "metadata": {},
   "outputs": [
    {
     "name": "stdout",
     "output_type": "stream",
     "text": [
      "[84.79, 96.29, 78.68, 91.79, 95.43, 97.99, 91.95, 97.47, 98.07, 89.73, 97.41, 97.75, 84.8, 96.97, 98.21, 91.81, 97.37, 98.1, 85.45, 76.8, 79.48, 92.47, 91.55, 98.51, 92.89, 66.28, 9.8, 90.93, 85.86, 98.42, 85.45, 93.97, 89.33, 92.46, 88.97, 98.61, 77.01, 57.38, 79.33, 93.09, 10.09, 89.26, 94.14, 10.1, 98.79, 92.16, 10.32, 10.32, 77.05, 45.74, 79.35, 93.1, 10.09, 98.84]\n",
      "['hidden_chanels: 16', 'activationGNN: <built-in method relu of type object at 0x00007FFC68436F40>', 'activationOut: <built-in method softmax of type object at 0x00007FFC68436F40>', 'optimizer: SGD']\n",
      "['hidden_chanels: 16', 'activationGNN: <built-in method relu of type object at 0x00007FFC68436F40>', 'activationOut: <built-in method softmax of type object at 0x00007FFC68436F40>', 'optimizer: Adam']\n",
      "['hidden_chanels: 16', 'activationGNN: <built-in method relu of type object at 0x00007FFC68436F40>', 'activationOut: <built-in method softmax of type object at 0x00007FFC68436F40>', 'optimizer: Adagrad']\n",
      "['hidden_chanels: 16', 'activationGNN: <built-in method relu of type object at 0x00007FFC68436F40>', 'activationOut: <built-in method sigmoid of type object at 0x00007FFC68436F40>', 'optimizer: SGD']\n",
      "['hidden_chanels: 16', 'activationGNN: <built-in method relu of type object at 0x00007FFC68436F40>', 'activationOut: <built-in method sigmoid of type object at 0x00007FFC68436F40>', 'optimizer: Adam']\n",
      "['hidden_chanels: 16', 'activationGNN: <built-in method relu of type object at 0x00007FFC68436F40>', 'activationOut: <built-in method sigmoid of type object at 0x00007FFC68436F40>', 'optimizer: Adagrad']\n",
      "['hidden_chanels: 16', 'activationGNN: <built-in method tanh of type object at 0x00007FFC68436F40>', 'activationOut: <built-in method softmax of type object at 0x00007FFC68436F40>', 'optimizer: SGD']\n",
      "['hidden_chanels: 16', 'activationGNN: <built-in method tanh of type object at 0x00007FFC68436F40>', 'activationOut: <built-in method softmax of type object at 0x00007FFC68436F40>', 'optimizer: Adam']\n",
      "['hidden_chanels: 16', 'activationGNN: <built-in method tanh of type object at 0x00007FFC68436F40>', 'activationOut: <built-in method softmax of type object at 0x00007FFC68436F40>', 'optimizer: Adagrad']\n",
      "['hidden_chanels: 16', 'activationGNN: <built-in method tanh of type object at 0x00007FFC68436F40>', 'activationOut: <built-in method sigmoid of type object at 0x00007FFC68436F40>', 'optimizer: SGD']\n",
      "['hidden_chanels: 16', 'activationGNN: <built-in method tanh of type object at 0x00007FFC68436F40>', 'activationOut: <built-in method sigmoid of type object at 0x00007FFC68436F40>', 'optimizer: Adam']\n",
      "['hidden_chanels: 16', 'activationGNN: <built-in method tanh of type object at 0x00007FFC68436F40>', 'activationOut: <built-in method sigmoid of type object at 0x00007FFC68436F40>', 'optimizer: Adagrad']\n",
      "['hidden_chanels: 16', 'activationGNN: <function leaky_relu at 0x0000027775B6ED30>', 'activationOut: <built-in method softmax of type object at 0x00007FFC68436F40>', 'optimizer: SGD']\n",
      "['hidden_chanels: 16', 'activationGNN: <function leaky_relu at 0x0000027775B6ED30>', 'activationOut: <built-in method softmax of type object at 0x00007FFC68436F40>', 'optimizer: Adam']\n",
      "['hidden_chanels: 16', 'activationGNN: <function leaky_relu at 0x0000027775B6ED30>', 'activationOut: <built-in method softmax of type object at 0x00007FFC68436F40>', 'optimizer: Adagrad']\n",
      "['hidden_chanels: 16', 'activationGNN: <function leaky_relu at 0x0000027775B6ED30>', 'activationOut: <built-in method sigmoid of type object at 0x00007FFC68436F40>', 'optimizer: SGD']\n",
      "['hidden_chanels: 16', 'activationGNN: <function leaky_relu at 0x0000027775B6ED30>', 'activationOut: <built-in method sigmoid of type object at 0x00007FFC68436F40>', 'optimizer: Adam']\n",
      "['hidden_chanels: 16', 'activationGNN: <function leaky_relu at 0x0000027775B6ED30>', 'activationOut: <built-in method sigmoid of type object at 0x00007FFC68436F40>', 'optimizer: Adagrad']\n",
      "['hidden_chanels: 32', 'activationGNN: <built-in method relu of type object at 0x00007FFC68436F40>', 'activationOut: <built-in method softmax of type object at 0x00007FFC68436F40>', 'optimizer: SGD']\n",
      "['hidden_chanels: 32', 'activationGNN: <built-in method relu of type object at 0x00007FFC68436F40>', 'activationOut: <built-in method softmax of type object at 0x00007FFC68436F40>', 'optimizer: Adam']\n",
      "['hidden_chanels: 32', 'activationGNN: <built-in method relu of type object at 0x00007FFC68436F40>', 'activationOut: <built-in method softmax of type object at 0x00007FFC68436F40>', 'optimizer: Adagrad']\n",
      "['hidden_chanels: 32', 'activationGNN: <built-in method relu of type object at 0x00007FFC68436F40>', 'activationOut: <built-in method sigmoid of type object at 0x00007FFC68436F40>', 'optimizer: SGD']\n",
      "['hidden_chanels: 32', 'activationGNN: <built-in method relu of type object at 0x00007FFC68436F40>', 'activationOut: <built-in method sigmoid of type object at 0x00007FFC68436F40>', 'optimizer: Adam']\n",
      "['hidden_chanels: 32', 'activationGNN: <built-in method relu of type object at 0x00007FFC68436F40>', 'activationOut: <built-in method sigmoid of type object at 0x00007FFC68436F40>', 'optimizer: Adagrad']\n",
      "['hidden_chanels: 32', 'activationGNN: <built-in method tanh of type object at 0x00007FFC68436F40>', 'activationOut: <built-in method softmax of type object at 0x00007FFC68436F40>', 'optimizer: SGD']\n",
      "['hidden_chanels: 32', 'activationGNN: <built-in method tanh of type object at 0x00007FFC68436F40>', 'activationOut: <built-in method softmax of type object at 0x00007FFC68436F40>', 'optimizer: Adam']\n",
      "['hidden_chanels: 32', 'activationGNN: <built-in method tanh of type object at 0x00007FFC68436F40>', 'activationOut: <built-in method softmax of type object at 0x00007FFC68436F40>', 'optimizer: Adagrad']\n",
      "['hidden_chanels: 32', 'activationGNN: <built-in method tanh of type object at 0x00007FFC68436F40>', 'activationOut: <built-in method sigmoid of type object at 0x00007FFC68436F40>', 'optimizer: SGD']\n",
      "['hidden_chanels: 32', 'activationGNN: <built-in method tanh of type object at 0x00007FFC68436F40>', 'activationOut: <built-in method sigmoid of type object at 0x00007FFC68436F40>', 'optimizer: Adam']\n",
      "['hidden_chanels: 32', 'activationGNN: <built-in method tanh of type object at 0x00007FFC68436F40>', 'activationOut: <built-in method sigmoid of type object at 0x00007FFC68436F40>', 'optimizer: Adagrad']\n",
      "['hidden_chanels: 32', 'activationGNN: <function leaky_relu at 0x0000027775B6ED30>', 'activationOut: <built-in method softmax of type object at 0x00007FFC68436F40>', 'optimizer: SGD']\n",
      "['hidden_chanels: 32', 'activationGNN: <function leaky_relu at 0x0000027775B6ED30>', 'activationOut: <built-in method softmax of type object at 0x00007FFC68436F40>', 'optimizer: Adam']\n",
      "['hidden_chanels: 32', 'activationGNN: <function leaky_relu at 0x0000027775B6ED30>', 'activationOut: <built-in method softmax of type object at 0x00007FFC68436F40>', 'optimizer: Adagrad']\n",
      "['hidden_chanels: 32', 'activationGNN: <function leaky_relu at 0x0000027775B6ED30>', 'activationOut: <built-in method sigmoid of type object at 0x00007FFC68436F40>', 'optimizer: SGD']\n",
      "['hidden_chanels: 32', 'activationGNN: <function leaky_relu at 0x0000027775B6ED30>', 'activationOut: <built-in method sigmoid of type object at 0x00007FFC68436F40>', 'optimizer: Adam']\n",
      "['hidden_chanels: 32', 'activationGNN: <function leaky_relu at 0x0000027775B6ED30>', 'activationOut: <built-in method sigmoid of type object at 0x00007FFC68436F40>', 'optimizer: Adagrad']\n",
      "['hidden_chanels: 64', 'activationGNN: <built-in method relu of type object at 0x00007FFC68436F40>', 'activationOut: <built-in method softmax of type object at 0x00007FFC68436F40>', 'optimizer: SGD']\n",
      "['hidden_chanels: 64', 'activationGNN: <built-in method relu of type object at 0x00007FFC68436F40>', 'activationOut: <built-in method softmax of type object at 0x00007FFC68436F40>', 'optimizer: Adam']\n",
      "['hidden_chanels: 64', 'activationGNN: <built-in method relu of type object at 0x00007FFC68436F40>', 'activationOut: <built-in method softmax of type object at 0x00007FFC68436F40>', 'optimizer: Adagrad']\n",
      "['hidden_chanels: 64', 'activationGNN: <built-in method relu of type object at 0x00007FFC68436F40>', 'activationOut: <built-in method sigmoid of type object at 0x00007FFC68436F40>', 'optimizer: SGD']\n",
      "['hidden_chanels: 64', 'activationGNN: <built-in method relu of type object at 0x00007FFC68436F40>', 'activationOut: <built-in method sigmoid of type object at 0x00007FFC68436F40>', 'optimizer: Adam']\n",
      "['hidden_chanels: 64', 'activationGNN: <built-in method relu of type object at 0x00007FFC68436F40>', 'activationOut: <built-in method sigmoid of type object at 0x00007FFC68436F40>', 'optimizer: Adagrad']\n",
      "['hidden_chanels: 64', 'activationGNN: <built-in method tanh of type object at 0x00007FFC68436F40>', 'activationOut: <built-in method softmax of type object at 0x00007FFC68436F40>', 'optimizer: SGD']\n",
      "['hidden_chanels: 64', 'activationGNN: <built-in method tanh of type object at 0x00007FFC68436F40>', 'activationOut: <built-in method softmax of type object at 0x00007FFC68436F40>', 'optimizer: Adam']\n",
      "['hidden_chanels: 64', 'activationGNN: <built-in method tanh of type object at 0x00007FFC68436F40>', 'activationOut: <built-in method softmax of type object at 0x00007FFC68436F40>', 'optimizer: Adagrad']\n",
      "['hidden_chanels: 64', 'activationGNN: <built-in method tanh of type object at 0x00007FFC68436F40>', 'activationOut: <built-in method sigmoid of type object at 0x00007FFC68436F40>', 'optimizer: SGD']\n",
      "['hidden_chanels: 64', 'activationGNN: <built-in method tanh of type object at 0x00007FFC68436F40>', 'activationOut: <built-in method sigmoid of type object at 0x00007FFC68436F40>', 'optimizer: Adam']\n",
      "['hidden_chanels: 64', 'activationGNN: <built-in method tanh of type object at 0x00007FFC68436F40>', 'activationOut: <built-in method sigmoid of type object at 0x00007FFC68436F40>', 'optimizer: Adagrad']\n",
      "['hidden_chanels: 64', 'activationGNN: <function leaky_relu at 0x0000027775B6ED30>', 'activationOut: <built-in method softmax of type object at 0x00007FFC68436F40>', 'optimizer: SGD']\n",
      "['hidden_chanels: 64', 'activationGNN: <function leaky_relu at 0x0000027775B6ED30>', 'activationOut: <built-in method softmax of type object at 0x00007FFC68436F40>', 'optimizer: Adam']\n",
      "['hidden_chanels: 64', 'activationGNN: <function leaky_relu at 0x0000027775B6ED30>', 'activationOut: <built-in method softmax of type object at 0x00007FFC68436F40>', 'optimizer: Adagrad']\n",
      "['hidden_chanels: 64', 'activationGNN: <function leaky_relu at 0x0000027775B6ED30>', 'activationOut: <built-in method sigmoid of type object at 0x00007FFC68436F40>', 'optimizer: SGD']\n",
      "['hidden_chanels: 64', 'activationGNN: <function leaky_relu at 0x0000027775B6ED30>', 'activationOut: <built-in method sigmoid of type object at 0x00007FFC68436F40>', 'optimizer: Adam']\n",
      "['hidden_chanels: 64', 'activationGNN: <function leaky_relu at 0x0000027775B6ED30>', 'activationOut: <built-in method sigmoid of type object at 0x00007FFC68436F40>', 'optimizer: Adagrad']\n"
     ]
    }
   ],
   "source": [
    "print(accuracies)\n",
    "for elem in params:\n",
    "    print(elem)"
   ]
  },
  {
   "cell_type": "code",
   "execution_count": 55,
   "id": "c2c281f6",
   "metadata": {},
   "outputs": [
    {
     "name": "stdout",
     "output_type": "stream",
     "text": [
      "53\n"
     ]
    }
   ],
   "source": [
    "print(accuracies.index(max(accuracies)))"
   ]
  },
  {
   "cell_type": "code",
   "execution_count": 57,
   "id": "eba00cf3",
   "metadata": {},
   "outputs": [
    {
     "name": "stdout",
     "output_type": "stream",
     "text": [
      "98.84\n"
     ]
    }
   ],
   "source": [
    "print(accuracies[53])"
   ]
  },
  {
   "cell_type": "code",
   "execution_count": 58,
   "id": "c781f1f1",
   "metadata": {},
   "outputs": [
    {
     "name": "stdout",
     "output_type": "stream",
     "text": [
      "['hidden_chanels: 64', 'activationGNN: <function leaky_relu at 0x0000027775B6ED30>', 'activationOut: <built-in method sigmoid of type object at 0x00007FFC68436F40>', 'optimizer: Adagrad']\n"
     ]
    }
   ],
   "source": [
    "print(params[53])"
   ]
  },
  {
   "cell_type": "code",
   "execution_count": 54,
   "id": "d2efbe5a",
   "metadata": {},
   "outputs": [],
   "source": [
    "from sklearn.metrics import accuracy_score, f1_score, precision_score, recall_score"
   ]
  },
  {
   "cell_type": "code",
   "execution_count": 93,
   "id": "51c9adf6",
   "metadata": {},
   "outputs": [],
   "source": [
    "model = CNN(hidden_channels=64, activationCNN=F.leaky_relu, activationOut=torch.sigmoid)\n",
    "optimizer = assign_optimizer(model, \"Adagrad\")\n",
    "losses = final_train(10)"
   ]
  },
  {
   "cell_type": "code",
   "execution_count": 95,
   "id": "10bf5480",
   "metadata": {},
   "outputs": [
    {
     "name": "stderr",
     "output_type": "stream",
     "text": [
      "C:\\Users\\MICHU13\\anaconda3\\lib\\site-packages\\seaborn\\_decorators.py:36: FutureWarning: Pass the following variables as keyword args: x, y. From version 0.12, the only valid positional argument will be `data`, and passing other arguments without an explicit keyword will result in an error or misinterpretation.\n",
      "  warnings.warn(\n"
     ]
    },
    {
     "data": {
      "image/png": "[encoded data removed]",
      "text/plain": [
       "<Figure size 432x288 with 1 Axes>"
      ]
     },
     "metadata": {
      "needs_background": "light"
     },
     "output_type": "display_data"
    }
   ],
   "source": [
    "import seaborn as sns\n",
    "import matplotlib.pyplot as plt\n",
    "\n",
    "losses_float = [float(loss) for loss in losses] \n",
    "loss_indices = [i for i,l in enumerate(losses_float)] \n",
    "sns.lineplot(loss_indices, losses_float)\n",
    "\n",
    "plt.title('Zmiana błędu')\n",
    "plt.xlabel('Liczba epok')\n",
    "plt.show()"
   ]
  },
  {
   "cell_type": "code",
   "execution_count": 99,
   "id": "2cd5c4c7",
   "metadata": {},
   "outputs": [
    {
     "name": "stdout",
     "output_type": "stream",
     "text": [
      "9884\n",
      "10000\n"
     ]
    }
   ],
   "source": [
    "acc, predictions, targets, inputs = test()"
   ]
  },
  {
   "cell_type": "code",
   "execution_count": 106,
   "id": "632175f0",
   "metadata": {},
   "outputs": [
    {
     "name": "stdout",
     "output_type": "stream",
     "text": [
      "157\n"
     ]
    }
   ],
   "source": [
    "print(len(inputs))"
   ]
  },
  {
   "cell_type": "code",
   "execution_count": 107,
   "id": "7fa3ed09",
   "metadata": {},
   "outputs": [],
   "source": [
    "inps = []\n",
    "for elems in inputs:\n",
    "    for batch in elems:\n",
    "        inps.append(batch[0])"
   ]
  },
  {
   "cell_type": "code",
   "execution_count": 117,
   "id": "ec63fb24",
   "metadata": {},
   "outputs": [],
   "source": [
    "# przepisanie poniewaz tu jest 2 wymiarowa lista a musi byc jedno -> bo tu jest tymi paczkami batch_size (=64) to pakowane\n",
    "targs = []\n",
    "for tensor in targets:\n",
    "    for elem in tensor:\n",
    "        targs.append(int(elem))"
   ]
  },
  {
   "cell_type": "code",
   "execution_count": 118,
   "id": "81388ea2",
   "metadata": {},
   "outputs": [],
   "source": [
    "# przepisanie poniewaz tu jest 2 wymiarowa lista a musi byc jedno -> bo tu jest tymi paczkami batch_size (=64) to pakowane\n",
    "preds = []\n",
    "for tensor in predictions:\n",
    "    for elem in tensor:\n",
    "        preds.append(int(elem))"
   ]
  },
  {
   "cell_type": "code",
   "execution_count": 89,
   "id": "e8da25b5",
   "metadata": {},
   "outputs": [
    {
     "name": "stdout",
     "output_type": "stream",
     "text": [
      "Accuracy: 0.9884\n",
      "Precision(weighted): 0.9884213668466405\n",
      "Precision(macro): 0.9884067097749245\n",
      "Recall(weighted): 0.9884\n",
      "Recall(macro): 0.98827972453744\n",
      "F1(weighted): 0.9883989815901612\n",
      "F1(macro): 0.9883313821651754\n"
     ]
    }
   ],
   "source": [
    "print(\"Accuracy: \" + str(accuracy_score(targs, preds)))\n",
    "print(\"Precision(weighted): \" + str(precision_score(targs, preds, average='weighted')))\n",
    "print(\"Precision(macro): \" + str(precision_score(targs, preds, average='macro')))\n",
    "print(\"Recall(weighted): \" + str(recall_score(targs, preds, average='weighted')))\n",
    "print(\"Recall(macro): \" + str(recall_score(targs, preds, average='macro')))\n",
    "print(\"F1(weighted): \" + str(f1_score(targs, preds, average='weighted')))\n",
    "print(\"F1(macro): \" + str(f1_score(targs, preds, average='macro')))"
   ]
  },
  {
   "cell_type": "code",
   "execution_count": 72,
   "id": "887304b5",
   "metadata": {},
   "outputs": [],
   "source": [
    "from sklearn.metrics import confusion_matrix\n",
    "import seaborn as sns\n",
    "import matplotlib.pyplot as plt"
   ]
  },
  {
   "cell_type": "code",
   "execution_count": 91,
   "id": "fbcc83ab",
   "metadata": {},
   "outputs": [
    {
     "data": {
      "image/png": "[encoded data removed]",
      "text/plain": [
       "<Figure size 720x576 with 2 Axes>"
      ]
     },
     "metadata": {
      "needs_background": "light"
     },
     "output_type": "display_data"
    }
   ],
   "source": [
    "cm = confusion_matrix(targs, preds)\n",
    "\n",
    "classes = ['Class 0', 'Class 1', 'Class 2', 'Class 3', 'Class 4', 'Class 5', 'Class 6', 'Class 7', 'Class 8', 'Class 9']\n",
    "\n",
    "fig, ax = plt.subplots(figsize=(10, 8))\n",
    "\n",
    "sns.heatmap(cm, annot=True, cmap='Blues', fmt='d', xticklabels=classes, yticklabels=classes, ax=ax)\n",
    "\n",
    "plt.xlabel('Predicted Labels')\n",
    "plt.ylabel('True Labels')\n",
    "plt.title('Confusion Matrix')\n",
    "\n",
    "plt.show()"
   ]
  },
  {
   "cell_type": "code",
   "execution_count": 119,
   "id": "a6812a6e",
   "metadata": {},
   "outputs": [],
   "source": [
    "indexes = []\n",
    "for i in range(len(preds)):\n",
    "    if targs[i] != preds[i]:\n",
    "        indexes.append(i)\n",
    "        break\n",
    "for i in range(len(preds)):\n",
    "    if targs[-i] != preds[-i]:\n",
    "        indexes.append(-i)\n",
    "        break"
   ]
  },
  {
   "cell_type": "code",
   "execution_count": 120,
   "id": "88f6c945",
   "metadata": {},
   "outputs": [
    {
     "data": {
      "image/png": "[encoded data removed]",
      "text/plain": [
       "<Figure size 432x288 with 1 Axes>"
      ]
     },
     "metadata": {
      "needs_background": "light"
     },
     "output_type": "display_data"
    }
   ],
   "source": [
    "plt.imshow(inps[indexes[0]], cmap='gray')\n",
    "plt.show()"
   ]
  },
  {
   "cell_type": "code",
   "execution_count": 121,
   "id": "9418d065",
   "metadata": {},
   "outputs": [
    {
     "name": "stdout",
     "output_type": "stream",
     "text": [
      "2\n"
     ]
    }
   ],
   "source": [
    "print(targs[indexes[0]])"
   ]
  },
  {
   "cell_type": "code",
   "execution_count": 122,
   "id": "d82d0899",
   "metadata": {},
   "outputs": [
    {
     "name": "stdout",
     "output_type": "stream",
     "text": [
      "8\n"
     ]
    }
   ],
   "source": [
    "print(preds[indexes[0]])"
   ]
  },
  {
   "cell_type": "code",
   "execution_count": 123,
   "id": "fad3892d",
   "metadata": {},
   "outputs": [
    {
     "data": {
      "image/png": "[encoded data removed]",
      "text/plain": [
       "<Figure size 432x288 with 1 Axes>"
      ]
     },
     "metadata": {
      "needs_background": "light"
     },
     "output_type": "display_data"
    }
   ],
   "source": [
    "plt.imshow(inps[indexes[1]], cmap='gray')\n",
    "plt.show()"
   ]
  },
  {
   "cell_type": "code",
   "execution_count": 124,
   "id": "bc5f8fb1",
   "metadata": {},
   "outputs": [
    {
     "name": "stdout",
     "output_type": "stream",
     "text": [
      "8\n"
     ]
    }
   ],
   "source": [
    "print(targs[indexes[1]])"
   ]
  },
  {
   "cell_type": "code",
   "execution_count": 125,
   "id": "de7679aa",
   "metadata": {},
   "outputs": [
    {
     "name": "stdout",
     "output_type": "stream",
     "text": [
      "2\n"
     ]
    }
   ],
   "source": [
    "print(preds[indexes[1]])"
   ]
  },
  {
   "cell_type": "code",
   "execution_count": 132,
   "id": "b6eb014a",
   "metadata": {},
   "outputs": [],
   "source": [
    "from torchsummary import summary"
   ]
  },
  {
   "cell_type": "code",
   "execution_count": 134,
   "id": "1fe590f0",
   "metadata": {},
   "outputs": [
    {
     "name": "stdout",
     "output_type": "stream",
     "text": [
      "----------------------------------------------------------------\n",
      "        Layer (type)               Output Shape         Param #\n",
      "================================================================\n",
      "            Conv2d-1           [-1, 64, 28, 28]             640\n",
      "            Conv2d-2          [-1, 128, 14, 14]          73,856\n",
      "            Linear-3                   [-1, 10]          62,730\n",
      "================================================================\n",
      "Total params: 137,226\n",
      "Trainable params: 137,226\n",
      "Non-trainable params: 0\n",
      "----------------------------------------------------------------\n",
      "Input size (MB): 0.00\n",
      "Forward/backward pass size (MB): 0.57\n",
      "Params size (MB): 0.52\n",
      "Estimated Total Size (MB): 1.10\n",
      "----------------------------------------------------------------\n"
     ]
    }
   ],
   "source": [
    "summary(model, (1, 28, 28))"
   ]
  }
 ],
 "metadata": {
  "kernelspec": {
   "display_name": "Python 3",
   "language": "python",
   "name": "python3"
  },
  "language_info": {
   "codemirror_mode": {
    "name": "ipython",
    "version": 3
   },
   "file_extension": ".py",
   "mimetype": "text/x-python",
   "name": "python",
   "nbconvert_exporter": "python",
   "pygments_lexer": "ipython3",
   "version": "3.8.8"
  }
 },
 "nbformat": 4,
 "nbformat_minor": 5
}
