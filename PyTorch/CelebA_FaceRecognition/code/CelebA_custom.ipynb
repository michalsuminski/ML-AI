{
 "cells": [
  {
   "cell_type": "code",
   "execution_count": 1,
   "id": "c86b0246",
   "metadata": {},
   "outputs": [],
   "source": [
    "import torch\n",
    "from torch import nn, optim\n",
    "import torchvision.transforms as transforms\n",
    "from torchvision.datasets import CelebA\n",
    "from torch.utils.data import DataLoader\n",
    "from torch.nn import Conv2d, Linear\n",
    "import pandas as pd"
   ]
  },
  {
   "cell_type": "code",
   "execution_count": 2,
   "id": "8c340711",
   "metadata": {},
   "outputs": [],
   "source": [
    "# Define the transformation to be applied to the images\n",
    "transform = transforms.Compose([\n",
    "    # transforms.CenterCrop(178),  # Crop the center of the image\n",
    "    transforms.Resize((64, 64)),  # Resize the image to (64, 64)\n",
    "    transforms.ToTensor(),  # Convert the image to a PyTorch tensor\n",
    "])"
   ]
  },
  {
   "cell_type": "code",
   "execution_count": 3,
   "id": "df9de61f",
   "metadata": {},
   "outputs": [],
   "source": [
    "class MyCelebA(CelebA):\n",
    "    def _check_integrity(self) -> bool:\n",
    "        return True\n"
   ]
  },
  {
   "cell_type": "code",
   "execution_count": 4,
   "id": "2e9b93ac",
   "metadata": {},
   "outputs": [],
   "source": [
    "\n",
    "# Download CelebA dataset\n",
    "celeba_train = MyCelebA(root='.', split='train', transform=transform, download=False)\n",
    "celeba_test = MyCelebA(root='.', split='test', transform=transform, download=False)\n",
    "celeba_valid = MyCelebA(root='.', split='valid', transform=transform, download=False)"
   ]
  },
  {
   "cell_type": "code",
   "execution_count": 5,
   "id": "dd6e0a05",
   "metadata": {},
   "outputs": [],
   "source": [
    "device = (\"cuda\" if torch.cuda.is_available() else \"cpu\") # Use GPU or CPU for training"
   ]
  },
  {
   "cell_type": "code",
   "execution_count": 6,
   "id": "4d7315b0",
   "metadata": {},
   "outputs": [
    {
     "data": {
      "text/plain": [
       "'cuda'"
      ]
     },
     "execution_count": 6,
     "metadata": {},
     "output_type": "execute_result"
    }
   ],
   "source": [
    "device"
   ]
  },
  {
   "cell_type": "code",
   "execution_count": 7,
   "id": "77120575",
   "metadata": {},
   "outputs": [],
   "source": [
    "class CNN(torch.nn.Module):\n",
    "    def __init__(self):\n",
    "        super(CNN, self).__init__()\n",
    "        torch.manual_seed(42)\n",
    "       \n",
    "        self.convolutional = nn.Sequential(\n",
    "            nn.Conv2d(3, 64, kernel_size=5, stride=4, padding=2),\n",
    "            nn.ReLU(inplace=True),\n",
    "            nn.MaxPool2d(kernel_size=3, stride=2),\n",
    "            nn.Conv2d(64, 256, kernel_size=5, padding=2),\n",
    "            nn.ReLU(inplace=True),\n",
    "            nn.MaxPool2d(kernel_size=3, stride=2),\n",
    "            nn.Conv2d(256, 512, kernel_size=3, padding=1),\n",
    "            nn.ReLU(inplace=True),\n",
    "            nn.MaxPool2d(kernel_size=3, stride=2),\n",
    "        )\n",
    " \n",
    "        self.linear = nn.Sequential(\n",
    "            nn.Dropout(),\n",
    "            nn.Linear(512, 64),\n",
    "            nn.ReLU(inplace=True),\n",
    "            nn.Linear(64, 2)\n",
    "        )\n",
    " \n",
    "    def forward(self, x: torch.Tensor) -> torch.Tensor:\n",
    " \n",
    "        x = self.convolutional(x)\n",
    "        x = torch.flatten(x, 1)\n",
    "        return self.linear(x)"
   ]
  },
  {
   "cell_type": "code",
   "execution_count": 8,
   "id": "59165d22",
   "metadata": {},
   "outputs": [
    {
     "data": {
      "text/plain": [
       "(tensor([[[0.9922, 0.9922, 0.9922,  ..., 0.7412, 0.9490, 0.9922],\n",
       "          [0.9922, 0.9922, 0.9922,  ..., 0.7961, 0.9686, 0.9882],\n",
       "          [0.9922, 0.9922, 0.9922,  ..., 0.8588, 0.9804, 0.9843],\n",
       "          ...,\n",
       "          [0.7804, 0.7216, 0.5333,  ..., 0.4510, 0.4902, 0.5255],\n",
       "          [0.6784, 0.6000, 0.5098,  ..., 0.4039, 0.3922, 0.3882],\n",
       "          [0.6196, 0.7176, 0.5529,  ..., 0.4706, 0.4588, 0.4549]],\n",
       " \n",
       "         [[0.9059, 0.9059, 0.9059,  ..., 0.6235, 0.8784, 0.9255],\n",
       "          [0.9059, 0.9059, 0.9059,  ..., 0.6863, 0.9059, 0.9294],\n",
       "          [0.9059, 0.9059, 0.9059,  ..., 0.7608, 0.9294, 0.9333],\n",
       "          ...,\n",
       "          [0.5216, 0.4588, 0.2745,  ..., 0.2235, 0.2667, 0.3098],\n",
       "          [0.4196, 0.3373, 0.2431,  ..., 0.1529, 0.1490, 0.1490],\n",
       "          [0.3569, 0.4471, 0.2824,  ..., 0.2000, 0.1922, 0.1922]],\n",
       " \n",
       "         [[0.7608, 0.7608, 0.7608,  ..., 0.4392, 0.7490, 0.8667],\n",
       "          [0.7608, 0.7608, 0.7608,  ..., 0.5176, 0.7961, 0.8667],\n",
       "          [0.7608, 0.7608, 0.7608,  ..., 0.6196, 0.8431, 0.8667],\n",
       "          ...,\n",
       "          [0.3373, 0.2941, 0.1451,  ..., 0.1529, 0.2000, 0.2392],\n",
       "          [0.2314, 0.1804, 0.1216,  ..., 0.0588, 0.0549, 0.0588],\n",
       "          [0.1725, 0.2863, 0.1569,  ..., 0.0902, 0.0863, 0.0863]]]),\n",
       " tensor([0, 1, 1, 0, 0, 0, 0, 0, 0, 0, 0, 1, 0, 0, 0, 0, 0, 0, 1, 1, 0, 1, 0, 0,\n",
       "         1, 0, 0, 1, 0, 0, 0, 1, 1, 0, 1, 0, 1, 0, 0, 1]))"
      ]
     },
     "execution_count": 8,
     "metadata": {},
     "output_type": "execute_result"
    }
   ],
   "source": [
    "celeba_train[0]"
   ]
  },
  {
   "cell_type": "markdown",
   "id": "c522d2cd",
   "metadata": {},
   "source": [
    "<font size=\"5\">Po wartościach widać, że zbiór jest znormalizowany do 0-1.</font>"
   ]
  },
  {
   "cell_type": "code",
   "execution_count": 9,
   "id": "1e1df45b",
   "metadata": {},
   "outputs": [],
   "source": [
    "attributes = pd.read_csv(\"celeba/list_attr_celeba.csv\")"
   ]
  },
  {
   "cell_type": "code",
   "execution_count": 10,
   "id": "8c2bfd89",
   "metadata": {},
   "outputs": [
    {
     "data": {
      "text/html": [
       "<style type=\"text/css\">\n",
       "</style>\n",
       "<table id=\"T_d042e\">\n",
       "  <thead>\n",
       "    <tr>\n",
       "      <th class=\"blank level0\" >&nbsp;</th>\n",
       "      <th id=\"T_d042e_level0_col0\" class=\"col_heading level0 col0\" >File_name</th>\n",
       "      <th id=\"T_d042e_level0_col1\" class=\"col_heading level0 col1\" >5_o_Clock_Shadow</th>\n",
       "      <th id=\"T_d042e_level0_col2\" class=\"col_heading level0 col2\" >Arched_Eyebrows</th>\n",
       "      <th id=\"T_d042e_level0_col3\" class=\"col_heading level0 col3\" >Attractive</th>\n",
       "      <th id=\"T_d042e_level0_col4\" class=\"col_heading level0 col4\" >Bags_Under_Eyes</th>\n",
       "      <th id=\"T_d042e_level0_col5\" class=\"col_heading level0 col5\" >Bald</th>\n",
       "      <th id=\"T_d042e_level0_col6\" class=\"col_heading level0 col6\" >Bangs</th>\n",
       "      <th id=\"T_d042e_level0_col7\" class=\"col_heading level0 col7\" >Big_Lips</th>\n",
       "      <th id=\"T_d042e_level0_col8\" class=\"col_heading level0 col8\" >Big_Nose</th>\n",
       "      <th id=\"T_d042e_level0_col9\" class=\"col_heading level0 col9\" >Black_Hair</th>\n",
       "      <th id=\"T_d042e_level0_col10\" class=\"col_heading level0 col10\" >Blond_Hair</th>\n",
       "      <th id=\"T_d042e_level0_col11\" class=\"col_heading level0 col11\" >Blurry</th>\n",
       "      <th id=\"T_d042e_level0_col12\" class=\"col_heading level0 col12\" >Brown_Hair</th>\n",
       "      <th id=\"T_d042e_level0_col13\" class=\"col_heading level0 col13\" >Bushy_Eyebrows</th>\n",
       "      <th id=\"T_d042e_level0_col14\" class=\"col_heading level0 col14\" >Chubby</th>\n",
       "      <th id=\"T_d042e_level0_col15\" class=\"col_heading level0 col15\" >Double_Chin</th>\n",
       "      <th id=\"T_d042e_level0_col16\" class=\"col_heading level0 col16\" >Eyeglasses</th>\n",
       "      <th id=\"T_d042e_level0_col17\" class=\"col_heading level0 col17\" >Goatee</th>\n",
       "      <th id=\"T_d042e_level0_col18\" class=\"col_heading level0 col18\" >Gray_Hair</th>\n",
       "      <th id=\"T_d042e_level0_col19\" class=\"col_heading level0 col19\" >Heavy_Makeup</th>\n",
       "      <th id=\"T_d042e_level0_col20\" class=\"col_heading level0 col20\" >High_Cheekbones</th>\n",
       "      <th id=\"T_d042e_level0_col21\" class=\"col_heading level0 col21\" >Male</th>\n",
       "      <th id=\"T_d042e_level0_col22\" class=\"col_heading level0 col22\" >Mouth_Slightly_Open</th>\n",
       "      <th id=\"T_d042e_level0_col23\" class=\"col_heading level0 col23\" >Mustache</th>\n",
       "      <th id=\"T_d042e_level0_col24\" class=\"col_heading level0 col24\" >Narrow_Eyes</th>\n",
       "      <th id=\"T_d042e_level0_col25\" class=\"col_heading level0 col25\" >No_Beard</th>\n",
       "      <th id=\"T_d042e_level0_col26\" class=\"col_heading level0 col26\" >Oval_Face</th>\n",
       "      <th id=\"T_d042e_level0_col27\" class=\"col_heading level0 col27\" >Pale_Skin</th>\n",
       "      <th id=\"T_d042e_level0_col28\" class=\"col_heading level0 col28\" >Pointy_Nose</th>\n",
       "      <th id=\"T_d042e_level0_col29\" class=\"col_heading level0 col29\" >Receding_Hairline</th>\n",
       "      <th id=\"T_d042e_level0_col30\" class=\"col_heading level0 col30\" >Rosy_Cheeks</th>\n",
       "      <th id=\"T_d042e_level0_col31\" class=\"col_heading level0 col31\" >Sideburns</th>\n",
       "      <th id=\"T_d042e_level0_col32\" class=\"col_heading level0 col32\" >Smiling</th>\n",
       "      <th id=\"T_d042e_level0_col33\" class=\"col_heading level0 col33\" >Straight_Hair</th>\n",
       "      <th id=\"T_d042e_level0_col34\" class=\"col_heading level0 col34\" >Wavy_Hair</th>\n",
       "      <th id=\"T_d042e_level0_col35\" class=\"col_heading level0 col35\" >Wearing_Earrings</th>\n",
       "      <th id=\"T_d042e_level0_col36\" class=\"col_heading level0 col36\" >Wearing_Hat</th>\n",
       "      <th id=\"T_d042e_level0_col37\" class=\"col_heading level0 col37\" >Wearing_Lipstick</th>\n",
       "      <th id=\"T_d042e_level0_col38\" class=\"col_heading level0 col38\" >Wearing_Necklace</th>\n",
       "      <th id=\"T_d042e_level0_col39\" class=\"col_heading level0 col39\" >Wearing_Necktie</th>\n",
       "      <th id=\"T_d042e_level0_col40\" class=\"col_heading level0 col40\" >Young</th>\n",
       "    </tr>\n",
       "  </thead>\n",
       "  <tbody>\n",
       "    <tr>\n",
       "      <th id=\"T_d042e_level0_row0\" class=\"row_heading level0 row0\" >0</th>\n",
       "      <td id=\"T_d042e_row0_col0\" class=\"data row0 col0\" >000001.jpg</td>\n",
       "      <td id=\"T_d042e_row0_col1\" class=\"data row0 col1\" >-1</td>\n",
       "      <td id=\"T_d042e_row0_col2\" class=\"data row0 col2\" >1</td>\n",
       "      <td id=\"T_d042e_row0_col3\" class=\"data row0 col3\" >1</td>\n",
       "      <td id=\"T_d042e_row0_col4\" class=\"data row0 col4\" >-1</td>\n",
       "      <td id=\"T_d042e_row0_col5\" class=\"data row0 col5\" >-1</td>\n",
       "      <td id=\"T_d042e_row0_col6\" class=\"data row0 col6\" >-1</td>\n",
       "      <td id=\"T_d042e_row0_col7\" class=\"data row0 col7\" >-1</td>\n",
       "      <td id=\"T_d042e_row0_col8\" class=\"data row0 col8\" >-1</td>\n",
       "      <td id=\"T_d042e_row0_col9\" class=\"data row0 col9\" >-1</td>\n",
       "      <td id=\"T_d042e_row0_col10\" class=\"data row0 col10\" >-1</td>\n",
       "      <td id=\"T_d042e_row0_col11\" class=\"data row0 col11\" >-1</td>\n",
       "      <td id=\"T_d042e_row0_col12\" class=\"data row0 col12\" >1</td>\n",
       "      <td id=\"T_d042e_row0_col13\" class=\"data row0 col13\" >-1</td>\n",
       "      <td id=\"T_d042e_row0_col14\" class=\"data row0 col14\" >-1</td>\n",
       "      <td id=\"T_d042e_row0_col15\" class=\"data row0 col15\" >-1</td>\n",
       "      <td id=\"T_d042e_row0_col16\" class=\"data row0 col16\" >-1</td>\n",
       "      <td id=\"T_d042e_row0_col17\" class=\"data row0 col17\" >-1</td>\n",
       "      <td id=\"T_d042e_row0_col18\" class=\"data row0 col18\" >-1</td>\n",
       "      <td id=\"T_d042e_row0_col19\" class=\"data row0 col19\" >1</td>\n",
       "      <td id=\"T_d042e_row0_col20\" class=\"data row0 col20\" >1</td>\n",
       "      <td id=\"T_d042e_row0_col21\" class=\"data row0 col21\" >-1</td>\n",
       "      <td id=\"T_d042e_row0_col22\" class=\"data row0 col22\" >1</td>\n",
       "      <td id=\"T_d042e_row0_col23\" class=\"data row0 col23\" >-1</td>\n",
       "      <td id=\"T_d042e_row0_col24\" class=\"data row0 col24\" >-1</td>\n",
       "      <td id=\"T_d042e_row0_col25\" class=\"data row0 col25\" >1</td>\n",
       "      <td id=\"T_d042e_row0_col26\" class=\"data row0 col26\" >-1</td>\n",
       "      <td id=\"T_d042e_row0_col27\" class=\"data row0 col27\" >-1</td>\n",
       "      <td id=\"T_d042e_row0_col28\" class=\"data row0 col28\" >1</td>\n",
       "      <td id=\"T_d042e_row0_col29\" class=\"data row0 col29\" >-1</td>\n",
       "      <td id=\"T_d042e_row0_col30\" class=\"data row0 col30\" >-1</td>\n",
       "      <td id=\"T_d042e_row0_col31\" class=\"data row0 col31\" >-1</td>\n",
       "      <td id=\"T_d042e_row0_col32\" class=\"data row0 col32\" >1</td>\n",
       "      <td id=\"T_d042e_row0_col33\" class=\"data row0 col33\" >1</td>\n",
       "      <td id=\"T_d042e_row0_col34\" class=\"data row0 col34\" >-1</td>\n",
       "      <td id=\"T_d042e_row0_col35\" class=\"data row0 col35\" >1</td>\n",
       "      <td id=\"T_d042e_row0_col36\" class=\"data row0 col36\" >-1</td>\n",
       "      <td id=\"T_d042e_row0_col37\" class=\"data row0 col37\" >1</td>\n",
       "      <td id=\"T_d042e_row0_col38\" class=\"data row0 col38\" >-1</td>\n",
       "      <td id=\"T_d042e_row0_col39\" class=\"data row0 col39\" >-1</td>\n",
       "      <td id=\"T_d042e_row0_col40\" class=\"data row0 col40\" >1</td>\n",
       "    </tr>\n",
       "    <tr>\n",
       "      <th id=\"T_d042e_level0_row1\" class=\"row_heading level0 row1\" >1</th>\n",
       "      <td id=\"T_d042e_row1_col0\" class=\"data row1 col0\" >000002.jpg</td>\n",
       "      <td id=\"T_d042e_row1_col1\" class=\"data row1 col1\" >-1</td>\n",
       "      <td id=\"T_d042e_row1_col2\" class=\"data row1 col2\" >-1</td>\n",
       "      <td id=\"T_d042e_row1_col3\" class=\"data row1 col3\" >-1</td>\n",
       "      <td id=\"T_d042e_row1_col4\" class=\"data row1 col4\" >1</td>\n",
       "      <td id=\"T_d042e_row1_col5\" class=\"data row1 col5\" >-1</td>\n",
       "      <td id=\"T_d042e_row1_col6\" class=\"data row1 col6\" >-1</td>\n",
       "      <td id=\"T_d042e_row1_col7\" class=\"data row1 col7\" >-1</td>\n",
       "      <td id=\"T_d042e_row1_col8\" class=\"data row1 col8\" >1</td>\n",
       "      <td id=\"T_d042e_row1_col9\" class=\"data row1 col9\" >-1</td>\n",
       "      <td id=\"T_d042e_row1_col10\" class=\"data row1 col10\" >-1</td>\n",
       "      <td id=\"T_d042e_row1_col11\" class=\"data row1 col11\" >-1</td>\n",
       "      <td id=\"T_d042e_row1_col12\" class=\"data row1 col12\" >1</td>\n",
       "      <td id=\"T_d042e_row1_col13\" class=\"data row1 col13\" >-1</td>\n",
       "      <td id=\"T_d042e_row1_col14\" class=\"data row1 col14\" >-1</td>\n",
       "      <td id=\"T_d042e_row1_col15\" class=\"data row1 col15\" >-1</td>\n",
       "      <td id=\"T_d042e_row1_col16\" class=\"data row1 col16\" >-1</td>\n",
       "      <td id=\"T_d042e_row1_col17\" class=\"data row1 col17\" >-1</td>\n",
       "      <td id=\"T_d042e_row1_col18\" class=\"data row1 col18\" >-1</td>\n",
       "      <td id=\"T_d042e_row1_col19\" class=\"data row1 col19\" >-1</td>\n",
       "      <td id=\"T_d042e_row1_col20\" class=\"data row1 col20\" >1</td>\n",
       "      <td id=\"T_d042e_row1_col21\" class=\"data row1 col21\" >-1</td>\n",
       "      <td id=\"T_d042e_row1_col22\" class=\"data row1 col22\" >1</td>\n",
       "      <td id=\"T_d042e_row1_col23\" class=\"data row1 col23\" >-1</td>\n",
       "      <td id=\"T_d042e_row1_col24\" class=\"data row1 col24\" >-1</td>\n",
       "      <td id=\"T_d042e_row1_col25\" class=\"data row1 col25\" >1</td>\n",
       "      <td id=\"T_d042e_row1_col26\" class=\"data row1 col26\" >-1</td>\n",
       "      <td id=\"T_d042e_row1_col27\" class=\"data row1 col27\" >-1</td>\n",
       "      <td id=\"T_d042e_row1_col28\" class=\"data row1 col28\" >-1</td>\n",
       "      <td id=\"T_d042e_row1_col29\" class=\"data row1 col29\" >-1</td>\n",
       "      <td id=\"T_d042e_row1_col30\" class=\"data row1 col30\" >-1</td>\n",
       "      <td id=\"T_d042e_row1_col31\" class=\"data row1 col31\" >-1</td>\n",
       "      <td id=\"T_d042e_row1_col32\" class=\"data row1 col32\" >1</td>\n",
       "      <td id=\"T_d042e_row1_col33\" class=\"data row1 col33\" >-1</td>\n",
       "      <td id=\"T_d042e_row1_col34\" class=\"data row1 col34\" >-1</td>\n",
       "      <td id=\"T_d042e_row1_col35\" class=\"data row1 col35\" >-1</td>\n",
       "      <td id=\"T_d042e_row1_col36\" class=\"data row1 col36\" >-1</td>\n",
       "      <td id=\"T_d042e_row1_col37\" class=\"data row1 col37\" >-1</td>\n",
       "      <td id=\"T_d042e_row1_col38\" class=\"data row1 col38\" >-1</td>\n",
       "      <td id=\"T_d042e_row1_col39\" class=\"data row1 col39\" >-1</td>\n",
       "      <td id=\"T_d042e_row1_col40\" class=\"data row1 col40\" >1</td>\n",
       "    </tr>\n",
       "    <tr>\n",
       "      <th id=\"T_d042e_level0_row2\" class=\"row_heading level0 row2\" >2</th>\n",
       "      <td id=\"T_d042e_row2_col0\" class=\"data row2 col0\" >000003.jpg</td>\n",
       "      <td id=\"T_d042e_row2_col1\" class=\"data row2 col1\" >-1</td>\n",
       "      <td id=\"T_d042e_row2_col2\" class=\"data row2 col2\" >-1</td>\n",
       "      <td id=\"T_d042e_row2_col3\" class=\"data row2 col3\" >-1</td>\n",
       "      <td id=\"T_d042e_row2_col4\" class=\"data row2 col4\" >-1</td>\n",
       "      <td id=\"T_d042e_row2_col5\" class=\"data row2 col5\" >-1</td>\n",
       "      <td id=\"T_d042e_row2_col6\" class=\"data row2 col6\" >-1</td>\n",
       "      <td id=\"T_d042e_row2_col7\" class=\"data row2 col7\" >1</td>\n",
       "      <td id=\"T_d042e_row2_col8\" class=\"data row2 col8\" >-1</td>\n",
       "      <td id=\"T_d042e_row2_col9\" class=\"data row2 col9\" >-1</td>\n",
       "      <td id=\"T_d042e_row2_col10\" class=\"data row2 col10\" >-1</td>\n",
       "      <td id=\"T_d042e_row2_col11\" class=\"data row2 col11\" >1</td>\n",
       "      <td id=\"T_d042e_row2_col12\" class=\"data row2 col12\" >-1</td>\n",
       "      <td id=\"T_d042e_row2_col13\" class=\"data row2 col13\" >-1</td>\n",
       "      <td id=\"T_d042e_row2_col14\" class=\"data row2 col14\" >-1</td>\n",
       "      <td id=\"T_d042e_row2_col15\" class=\"data row2 col15\" >-1</td>\n",
       "      <td id=\"T_d042e_row2_col16\" class=\"data row2 col16\" >-1</td>\n",
       "      <td id=\"T_d042e_row2_col17\" class=\"data row2 col17\" >-1</td>\n",
       "      <td id=\"T_d042e_row2_col18\" class=\"data row2 col18\" >-1</td>\n",
       "      <td id=\"T_d042e_row2_col19\" class=\"data row2 col19\" >-1</td>\n",
       "      <td id=\"T_d042e_row2_col20\" class=\"data row2 col20\" >-1</td>\n",
       "      <td id=\"T_d042e_row2_col21\" class=\"data row2 col21\" >1</td>\n",
       "      <td id=\"T_d042e_row2_col22\" class=\"data row2 col22\" >-1</td>\n",
       "      <td id=\"T_d042e_row2_col23\" class=\"data row2 col23\" >-1</td>\n",
       "      <td id=\"T_d042e_row2_col24\" class=\"data row2 col24\" >1</td>\n",
       "      <td id=\"T_d042e_row2_col25\" class=\"data row2 col25\" >1</td>\n",
       "      <td id=\"T_d042e_row2_col26\" class=\"data row2 col26\" >-1</td>\n",
       "      <td id=\"T_d042e_row2_col27\" class=\"data row2 col27\" >-1</td>\n",
       "      <td id=\"T_d042e_row2_col28\" class=\"data row2 col28\" >1</td>\n",
       "      <td id=\"T_d042e_row2_col29\" class=\"data row2 col29\" >-1</td>\n",
       "      <td id=\"T_d042e_row2_col30\" class=\"data row2 col30\" >-1</td>\n",
       "      <td id=\"T_d042e_row2_col31\" class=\"data row2 col31\" >-1</td>\n",
       "      <td id=\"T_d042e_row2_col32\" class=\"data row2 col32\" >-1</td>\n",
       "      <td id=\"T_d042e_row2_col33\" class=\"data row2 col33\" >-1</td>\n",
       "      <td id=\"T_d042e_row2_col34\" class=\"data row2 col34\" >1</td>\n",
       "      <td id=\"T_d042e_row2_col35\" class=\"data row2 col35\" >-1</td>\n",
       "      <td id=\"T_d042e_row2_col36\" class=\"data row2 col36\" >-1</td>\n",
       "      <td id=\"T_d042e_row2_col37\" class=\"data row2 col37\" >-1</td>\n",
       "      <td id=\"T_d042e_row2_col38\" class=\"data row2 col38\" >-1</td>\n",
       "      <td id=\"T_d042e_row2_col39\" class=\"data row2 col39\" >-1</td>\n",
       "      <td id=\"T_d042e_row2_col40\" class=\"data row2 col40\" >1</td>\n",
       "    </tr>\n",
       "    <tr>\n",
       "      <th id=\"T_d042e_level0_row3\" class=\"row_heading level0 row3\" >3</th>\n",
       "      <td id=\"T_d042e_row3_col0\" class=\"data row3 col0\" >000004.jpg</td>\n",
       "      <td id=\"T_d042e_row3_col1\" class=\"data row3 col1\" >-1</td>\n",
       "      <td id=\"T_d042e_row3_col2\" class=\"data row3 col2\" >-1</td>\n",
       "      <td id=\"T_d042e_row3_col3\" class=\"data row3 col3\" >1</td>\n",
       "      <td id=\"T_d042e_row3_col4\" class=\"data row3 col4\" >-1</td>\n",
       "      <td id=\"T_d042e_row3_col5\" class=\"data row3 col5\" >-1</td>\n",
       "      <td id=\"T_d042e_row3_col6\" class=\"data row3 col6\" >-1</td>\n",
       "      <td id=\"T_d042e_row3_col7\" class=\"data row3 col7\" >-1</td>\n",
       "      <td id=\"T_d042e_row3_col8\" class=\"data row3 col8\" >-1</td>\n",
       "      <td id=\"T_d042e_row3_col9\" class=\"data row3 col9\" >-1</td>\n",
       "      <td id=\"T_d042e_row3_col10\" class=\"data row3 col10\" >-1</td>\n",
       "      <td id=\"T_d042e_row3_col11\" class=\"data row3 col11\" >-1</td>\n",
       "      <td id=\"T_d042e_row3_col12\" class=\"data row3 col12\" >-1</td>\n",
       "      <td id=\"T_d042e_row3_col13\" class=\"data row3 col13\" >-1</td>\n",
       "      <td id=\"T_d042e_row3_col14\" class=\"data row3 col14\" >-1</td>\n",
       "      <td id=\"T_d042e_row3_col15\" class=\"data row3 col15\" >-1</td>\n",
       "      <td id=\"T_d042e_row3_col16\" class=\"data row3 col16\" >-1</td>\n",
       "      <td id=\"T_d042e_row3_col17\" class=\"data row3 col17\" >-1</td>\n",
       "      <td id=\"T_d042e_row3_col18\" class=\"data row3 col18\" >-1</td>\n",
       "      <td id=\"T_d042e_row3_col19\" class=\"data row3 col19\" >-1</td>\n",
       "      <td id=\"T_d042e_row3_col20\" class=\"data row3 col20\" >-1</td>\n",
       "      <td id=\"T_d042e_row3_col21\" class=\"data row3 col21\" >-1</td>\n",
       "      <td id=\"T_d042e_row3_col22\" class=\"data row3 col22\" >-1</td>\n",
       "      <td id=\"T_d042e_row3_col23\" class=\"data row3 col23\" >-1</td>\n",
       "      <td id=\"T_d042e_row3_col24\" class=\"data row3 col24\" >-1</td>\n",
       "      <td id=\"T_d042e_row3_col25\" class=\"data row3 col25\" >1</td>\n",
       "      <td id=\"T_d042e_row3_col26\" class=\"data row3 col26\" >-1</td>\n",
       "      <td id=\"T_d042e_row3_col27\" class=\"data row3 col27\" >-1</td>\n",
       "      <td id=\"T_d042e_row3_col28\" class=\"data row3 col28\" >1</td>\n",
       "      <td id=\"T_d042e_row3_col29\" class=\"data row3 col29\" >-1</td>\n",
       "      <td id=\"T_d042e_row3_col30\" class=\"data row3 col30\" >-1</td>\n",
       "      <td id=\"T_d042e_row3_col31\" class=\"data row3 col31\" >-1</td>\n",
       "      <td id=\"T_d042e_row3_col32\" class=\"data row3 col32\" >-1</td>\n",
       "      <td id=\"T_d042e_row3_col33\" class=\"data row3 col33\" >1</td>\n",
       "      <td id=\"T_d042e_row3_col34\" class=\"data row3 col34\" >-1</td>\n",
       "      <td id=\"T_d042e_row3_col35\" class=\"data row3 col35\" >1</td>\n",
       "      <td id=\"T_d042e_row3_col36\" class=\"data row3 col36\" >-1</td>\n",
       "      <td id=\"T_d042e_row3_col37\" class=\"data row3 col37\" >1</td>\n",
       "      <td id=\"T_d042e_row3_col38\" class=\"data row3 col38\" >1</td>\n",
       "      <td id=\"T_d042e_row3_col39\" class=\"data row3 col39\" >-1</td>\n",
       "      <td id=\"T_d042e_row3_col40\" class=\"data row3 col40\" >1</td>\n",
       "    </tr>\n",
       "    <tr>\n",
       "      <th id=\"T_d042e_level0_row4\" class=\"row_heading level0 row4\" >4</th>\n",
       "      <td id=\"T_d042e_row4_col0\" class=\"data row4 col0\" >000005.jpg</td>\n",
       "      <td id=\"T_d042e_row4_col1\" class=\"data row4 col1\" >-1</td>\n",
       "      <td id=\"T_d042e_row4_col2\" class=\"data row4 col2\" >1</td>\n",
       "      <td id=\"T_d042e_row4_col3\" class=\"data row4 col3\" >1</td>\n",
       "      <td id=\"T_d042e_row4_col4\" class=\"data row4 col4\" >-1</td>\n",
       "      <td id=\"T_d042e_row4_col5\" class=\"data row4 col5\" >-1</td>\n",
       "      <td id=\"T_d042e_row4_col6\" class=\"data row4 col6\" >-1</td>\n",
       "      <td id=\"T_d042e_row4_col7\" class=\"data row4 col7\" >1</td>\n",
       "      <td id=\"T_d042e_row4_col8\" class=\"data row4 col8\" >-1</td>\n",
       "      <td id=\"T_d042e_row4_col9\" class=\"data row4 col9\" >-1</td>\n",
       "      <td id=\"T_d042e_row4_col10\" class=\"data row4 col10\" >-1</td>\n",
       "      <td id=\"T_d042e_row4_col11\" class=\"data row4 col11\" >-1</td>\n",
       "      <td id=\"T_d042e_row4_col12\" class=\"data row4 col12\" >-1</td>\n",
       "      <td id=\"T_d042e_row4_col13\" class=\"data row4 col13\" >-1</td>\n",
       "      <td id=\"T_d042e_row4_col14\" class=\"data row4 col14\" >-1</td>\n",
       "      <td id=\"T_d042e_row4_col15\" class=\"data row4 col15\" >-1</td>\n",
       "      <td id=\"T_d042e_row4_col16\" class=\"data row4 col16\" >-1</td>\n",
       "      <td id=\"T_d042e_row4_col17\" class=\"data row4 col17\" >-1</td>\n",
       "      <td id=\"T_d042e_row4_col18\" class=\"data row4 col18\" >-1</td>\n",
       "      <td id=\"T_d042e_row4_col19\" class=\"data row4 col19\" >1</td>\n",
       "      <td id=\"T_d042e_row4_col20\" class=\"data row4 col20\" >-1</td>\n",
       "      <td id=\"T_d042e_row4_col21\" class=\"data row4 col21\" >-1</td>\n",
       "      <td id=\"T_d042e_row4_col22\" class=\"data row4 col22\" >-1</td>\n",
       "      <td id=\"T_d042e_row4_col23\" class=\"data row4 col23\" >-1</td>\n",
       "      <td id=\"T_d042e_row4_col24\" class=\"data row4 col24\" >1</td>\n",
       "      <td id=\"T_d042e_row4_col25\" class=\"data row4 col25\" >1</td>\n",
       "      <td id=\"T_d042e_row4_col26\" class=\"data row4 col26\" >-1</td>\n",
       "      <td id=\"T_d042e_row4_col27\" class=\"data row4 col27\" >-1</td>\n",
       "      <td id=\"T_d042e_row4_col28\" class=\"data row4 col28\" >1</td>\n",
       "      <td id=\"T_d042e_row4_col29\" class=\"data row4 col29\" >-1</td>\n",
       "      <td id=\"T_d042e_row4_col30\" class=\"data row4 col30\" >-1</td>\n",
       "      <td id=\"T_d042e_row4_col31\" class=\"data row4 col31\" >-1</td>\n",
       "      <td id=\"T_d042e_row4_col32\" class=\"data row4 col32\" >-1</td>\n",
       "      <td id=\"T_d042e_row4_col33\" class=\"data row4 col33\" >-1</td>\n",
       "      <td id=\"T_d042e_row4_col34\" class=\"data row4 col34\" >-1</td>\n",
       "      <td id=\"T_d042e_row4_col35\" class=\"data row4 col35\" >-1</td>\n",
       "      <td id=\"T_d042e_row4_col36\" class=\"data row4 col36\" >-1</td>\n",
       "      <td id=\"T_d042e_row4_col37\" class=\"data row4 col37\" >1</td>\n",
       "      <td id=\"T_d042e_row4_col38\" class=\"data row4 col38\" >-1</td>\n",
       "      <td id=\"T_d042e_row4_col39\" class=\"data row4 col39\" >-1</td>\n",
       "      <td id=\"T_d042e_row4_col40\" class=\"data row4 col40\" >1</td>\n",
       "    </tr>\n",
       "  </tbody>\n",
       "</table>\n"
      ],
      "text/plain": [
       "<pandas.io.formats.style.Styler at 0x7f43c7fd4e20>"
      ]
     },
     "execution_count": 10,
     "metadata": {},
     "output_type": "execute_result"
    }
   ],
   "source": [
    "attributes.head().style"
   ]
  },
  {
   "cell_type": "markdown",
   "id": "069deae7",
   "metadata": {},
   "source": [
    "<font size=\"5\">Wybrane cechy: płeć i okulary. <br> Najpierw płeć, więc interesuje nas atrybut o nr.21 (w tablicy indeksowane od 0 więc nr.20) 'Male'.</font>"
   ]
  },
  {
   "cell_type": "code",
   "execution_count": 16,
   "id": "1812d1d2",
   "metadata": {},
   "outputs": [
    {
     "data": {
      "text/plain": [
       "tensor([0, 1, 1, 0, 0, 0, 0, 0, 0, 0, 0, 1, 0, 0, 0, 0, 0, 0, 1, 1, 0, 1, 0, 0,\n",
       "        1, 0, 0, 1, 0, 0, 0, 1, 1, 0, 1, 0, 1, 0, 0, 1])"
      ]
     },
     "execution_count": 16,
     "metadata": {},
     "output_type": "execute_result"
    }
   ],
   "source": [
    "celeba_train[0][1]"
   ]
  },
  {
   "cell_type": "code",
   "execution_count": 17,
   "id": "07c2400b",
   "metadata": {},
   "outputs": [
    {
     "data": {
      "text/plain": [
       "tensor(0)"
      ]
     },
     "execution_count": 17,
     "metadata": {},
     "output_type": "execute_result"
    }
   ],
   "source": [
    "celeba_train[0][1][20]"
   ]
  },
  {
   "cell_type": "code",
   "execution_count": 11,
   "id": "fa246b07",
   "metadata": {},
   "outputs": [],
   "source": [
    "celeba_train = list(celeba_train)"
   ]
  },
  {
   "cell_type": "code",
   "execution_count": 12,
   "id": "3b96a1be",
   "metadata": {},
   "outputs": [],
   "source": [
    "for i in range(len(celeba_train)):\n",
    "    elem = list(celeba_train[i])\n",
    "    elem[1] = elem[1][20]\n",
    "    celeba_train[i] = tuple(elem)"
   ]
  },
  {
   "cell_type": "code",
   "execution_count": 13,
   "id": "464353dd",
   "metadata": {},
   "outputs": [
    {
     "name": "stdout",
     "output_type": "stream",
     "text": [
      "Statistics train dataset eyeglasses to all:  68261 / 162770\n"
     ]
    }
   ],
   "source": [
    "count_eyeglasses_train = sum(tensor[1].eq(1).sum().item() for tensor in celeba_train)\n",
    "print(\"Statistics train dataset eyeglasses to all: \", count_eyeglasses_train, \"/\",len(celeba_train))"
   ]
  },
  {
   "cell_type": "code",
   "execution_count": 14,
   "id": "90f331c1",
   "metadata": {},
   "outputs": [],
   "source": [
    "celeba_test = list(celeba_test)"
   ]
  },
  {
   "cell_type": "code",
   "execution_count": 15,
   "id": "0924db52",
   "metadata": {},
   "outputs": [],
   "source": [
    "for i in range(len(celeba_test)):\n",
    "    elem = list(celeba_test[i])\n",
    "    elem[1] = elem[1][20]\n",
    "    celeba_test[i] = tuple(elem)"
   ]
  },
  {
   "cell_type": "code",
   "execution_count": 16,
   "id": "34e4caf6",
   "metadata": {},
   "outputs": [],
   "source": [
    "celeba_valid = list(celeba_valid)"
   ]
  },
  {
   "cell_type": "code",
   "execution_count": 17,
   "id": "f071adbd",
   "metadata": {},
   "outputs": [],
   "source": [
    "for i in range(len(celeba_valid)):\n",
    "    elem = list(celeba_valid[i])\n",
    "    elem[1] = elem[1][20]\n",
    "    celeba_valid[i] = tuple(elem)"
   ]
  },
  {
   "cell_type": "code",
   "execution_count": 18,
   "id": "83026f01",
   "metadata": {},
   "outputs": [],
   "source": [
    "# Function to train the model\n",
    "def train_model(model, train_loader, criterion, optimizer, device):\n",
    "    model.train()\n",
    "    running_loss = 0.0\n",
    "    correct_predictions = 0\n",
    "\n",
    "    for inputs, labels in train_loader:\n",
    "        inputs, labels = inputs.to(device), labels.to(device)\n",
    "\n",
    "        optimizer.zero_grad()\n",
    "\n",
    "        outputs = model(inputs)\n",
    "        loss = criterion(outputs, labels)\n",
    "        loss.backward()\n",
    "        optimizer.step()\n",
    "\n",
    "        running_loss += loss.item()\n",
    "        _, preds = torch.max(outputs, 1)\n",
    "\n",
    "        correct_predictions += torch.sum(preds == labels.data)\n",
    "\n",
    "    return running_loss / len(train_loader.dataset), correct_predictions.double() / len(train_loader.dataset)\n"
   ]
  },
  {
   "cell_type": "code",
   "execution_count": 19,
   "id": "de4e8cf5",
   "metadata": {},
   "outputs": [],
   "source": [
    "# Function to evaluate the model on the validation set\n",
    "def validate_model(model, val_loader, criterion, device):\n",
    "    model.eval()\n",
    "    running_loss = 0.0\n",
    "    correct_predictions = 0\n",
    "\n",
    "    with torch.no_grad():\n",
    "        for inputs, labels in val_loader:\n",
    "            inputs, labels = inputs.to(device), labels.to(device)\n",
    "\n",
    "            outputs = model(inputs)\n",
    "            loss = criterion(outputs, labels)\n",
    "\n",
    "            running_loss += loss.item()\n",
    "            _, preds = torch.max(outputs, 1)\n",
    "            correct_predictions += torch.sum(preds == labels.data)\n",
    "\n",
    "    return running_loss / len(val_loader.dataset), correct_predictions.double() / len(val_loader.dataset)\n"
   ]
  },
  {
   "cell_type": "code",
   "execution_count": 20,
   "id": "7727bc79",
   "metadata": {},
   "outputs": [],
   "source": [
    "\n",
    "# Function to train the model with early stopping\n",
    "def train_with_early_stopping(model, train_loader, val_loader, criterion, optimizer, device, num_epochs=50, patience=5):\n",
    "    train_losses, val_losses, train_accuracies, val_accuracies = [], [], [], []\n",
    "    best_val_loss = 0.0\n",
    "    epochs_without_improvement = 0\n",
    "\n",
    "    for epoch in range(num_epochs):\n",
    "        train_loss, train_accuracy = train_model(model, train_loader, criterion, optimizer, device)\n",
    "        val_loss, val_accuracy = validate_model(model, val_loader, criterion, device)\n",
    "\n",
    "        train_losses.append(train_loss)\n",
    "        val_losses.append(val_loss)\n",
    "        train_accuracies.append(train_accuracy.item())\n",
    "        val_accuracies.append(val_accuracy.item())\n",
    "\n",
    "        print(f'Epoch {epoch + 1}/{num_epochs}, Train Loss: {train_loss:.4f}, Train Acc: {train_accuracy:.4f}, Val Loss: {val_loss:.4f}, Val Acc: {val_accuracy:.4f}')\n",
    "\n",
    "        # Check for early stopping\n",
    "        if val_loss < best_val_loss:\n",
    "            best_val_loss = val_loss\n",
    "            epochs_without_improvement = 0\n",
    "        else:\n",
    "            epochs_without_improvement += 1\n",
    "\n",
    "        if epochs_without_improvement >= patience:\n",
    "            print(f'Early stopping after {epoch + 1} epochs without improvement.')\n",
    "            break\n",
    "\n",
    "    # Plotting the training and validation accuracy\n",
    "    plt.figure(figsize=(10, 5))\n",
    "    plt.plot(range(1, len(train_accuracies) + 1), train_accuracies, label='Train Accuracy', marker='o')\n",
    "    plt.plot(range(1, len(val_accuracies) + 1), val_accuracies, label='Validation Accuracy', marker='o')\n",
    "    plt.title('Train and Validation Accuracy Over Epochs')\n",
    "    plt.xlabel('Epoch')\n",
    "    plt.ylabel('Accuracy')\n",
    "    plt.legend()\n",
    "    plt.grid(True)\n",
    "    plt.show()\n",
    "    \n",
    "    #Plotting the training and validation losses\n",
    "    plt.figure(figsize=(10, 5))\n",
    "    plt.plot(range(1, len(train_losses) + 1), train_losses, label='Train Loss', marker='o')\n",
    "    plt.plot(range(1, len(val_losses) + 1), val_losses, label='Validation Loss', marker='o')\n",
    "    plt.title('Train and Validation Loss Over Epochs')\n",
    "    plt.xlabel('Epoch')\n",
    "    plt.ylabel('Accuracy')\n",
    "    plt.legend()\n",
    "    plt.grid(True)\n",
    "    plt.show()"
   ]
  },
  {
   "cell_type": "code",
   "execution_count": 21,
   "id": "672a16ee",
   "metadata": {},
   "outputs": [],
   "source": [
    "import numpy as np\n",
    "\n",
    "# Set a random seed for reproducibility\n",
    "np.random.seed(42)"
   ]
  },
  {
   "cell_type": "code",
   "execution_count": 22,
   "id": "6ee5ec98",
   "metadata": {},
   "outputs": [],
   "source": [
    "train_loader = torch.utils.data.DataLoader(celeba_train, batch_size=64, shuffle=True)\n",
    "test_loader = torch.utils.data.DataLoader(celeba_test, batch_size=64, shuffle=True)\n",
    "val_loader = torch.utils.data.DataLoader(celeba_valid, batch_size=64, shuffle=True)"
   ]
  },
  {
   "cell_type": "code",
   "execution_count": 23,
   "id": "0c10147a",
   "metadata": {},
   "outputs": [
    {
     "name": "stdout",
     "output_type": "stream",
     "text": [
      "0.8611349183675628\n",
      "1.1922620530024466\n"
     ]
    }
   ],
   "source": [
    "count_no_eyeglasses = len(celeba_train) - count_eyeglasses_train\n",
    "\n",
    "weight_for_no_eyeglasses = len(celeba_train) / (2 * count_no_eyeglasses)\n",
    "print(weight_for_no_eyeglasses)\n",
    "weight_for_eyeglasses = len(celeba_train) / (2 * count_eyeglasses_train)\n",
    "print(weight_for_eyeglasses)"
   ]
  },
  {
   "cell_type": "code",
   "execution_count": 28,
   "id": "287b1c0f",
   "metadata": {},
   "outputs": [],
   "source": [
    "model = CNN()\n",
    "\n",
    "\n",
    "if torch.cuda.is_available():\n",
    "    model.cuda()\n",
    "    \n",
    "optimizer = torch.optim.Adam(model.parameters(), lr=0.0001)\n",
    "class_weights = torch.tensor([weight_for_no_eyeglasses, weight_for_eyeglasses]).to(device)\n",
    "\n",
    "criterion = torch.nn.CrossEntropyLoss(weight=class_weights)"
   ]
  },
  {
   "cell_type": "code",
   "execution_count": 29,
   "id": "09ebd2af",
   "metadata": {},
   "outputs": [
    {
     "name": "stdout",
     "output_type": "stream",
     "text": [
      "Epoch 1/15, Train Loss: 0.0040, Train Acc: 0.8847, Val Loss: 0.0022, Val Acc: 0.9482\n",
      "Epoch 2/15, Train Loss: 0.0023, Train Acc: 0.9413, Val Loss: 0.0020, Val Acc: 0.9444\n",
      "Epoch 3/15, Train Loss: 0.0020, Train Acc: 0.9499, Val Loss: 0.0017, Val Acc: 0.9555\n",
      "Epoch 4/15, Train Loss: 0.0018, Train Acc: 0.9561, Val Loss: 0.0016, Val Acc: 0.9623\n",
      "Epoch 5/15, Train Loss: 0.0016, Train Acc: 0.9610, Val Loss: 0.0015, Val Acc: 0.9635\n",
      "Epoch 6/15, Train Loss: 0.0014, Train Acc: 0.9651, Val Loss: 0.0016, Val Acc: 0.9627\n",
      "Epoch 7/15, Train Loss: 0.0013, Train Acc: 0.9681, Val Loss: 0.0015, Val Acc: 0.9653\n",
      "Epoch 8/15, Train Loss: 0.0012, Train Acc: 0.9721, Val Loss: 0.0016, Val Acc: 0.9633\n",
      "Epoch 9/15, Train Loss: 0.0010, Train Acc: 0.9753, Val Loss: 0.0015, Val Acc: 0.9616\n",
      "Epoch 10/15, Train Loss: 0.0009, Train Acc: 0.9783, Val Loss: 0.0016, Val Acc: 0.9654\n",
      "Early stopping after 10 epochs without improvement.\n"
     ]
    },
    {
     "data": {
      "image/png": "[encoded data removed]",
      "text/plain": [
       "<Figure size 1000x500 with 1 Axes>"
      ]
     },
     "metadata": {},
     "output_type": "display_data"
    },
    {
     "data": {
      "image/png": "[encoded data removed]",
      "text/plain": [
       "<Figure size 1000x500 with 1 Axes>"
      ]
     },
     "metadata": {},
     "output_type": "display_data"
    }
   ],
   "source": [
    "import matplotlib.pyplot as plt\n",
    "train_with_early_stopping(model, train_loader, val_loader, criterion, optimizer, device, 15, 10)"
   ]
  },
  {
   "cell_type": "code",
   "execution_count": 41,
   "id": "d079de2c",
   "metadata": {},
   "outputs": [],
   "source": [
    "# Specify the file path to save the model\n",
    "save_path = 'model_checkpoint_celeba_5_custom_new_male.pth'\n",
    "\n",
    "# Save the entire model (including architecture, parameters, and optimizer state)\n",
    "torch.save(model, save_path)"
   ]
  },
  {
   "cell_type": "code",
   "execution_count": 28,
   "id": "eeeeb819",
   "metadata": {},
   "outputs": [
    {
     "data": {
      "text/plain": [
       "CNN(\n",
       "  (convolutional): Sequential(\n",
       "    (0): Conv2d(3, 64, kernel_size=(5, 5), stride=(4, 4), padding=(2, 2))\n",
       "    (1): ReLU(inplace=True)\n",
       "    (2): MaxPool2d(kernel_size=3, stride=2, padding=0, dilation=1, ceil_mode=False)\n",
       "    (3): Conv2d(64, 256, kernel_size=(5, 5), stride=(1, 1), padding=(2, 2))\n",
       "    (4): ReLU(inplace=True)\n",
       "    (5): MaxPool2d(kernel_size=3, stride=2, padding=0, dilation=1, ceil_mode=False)\n",
       "    (6): Conv2d(256, 512, kernel_size=(3, 3), stride=(1, 1), padding=(1, 1))\n",
       "    (7): ReLU(inplace=True)\n",
       "    (8): MaxPool2d(kernel_size=3, stride=2, padding=0, dilation=1, ceil_mode=False)\n",
       "  )\n",
       "  (linear): Sequential(\n",
       "    (0): Dropout(p=0.5, inplace=False)\n",
       "    (1): Linear(in_features=512, out_features=64, bias=True)\n",
       "    (2): ReLU(inplace=True)\n",
       "    (3): Linear(in_features=64, out_features=2, bias=True)\n",
       "  )\n",
       ")"
      ]
     },
     "execution_count": 28,
     "metadata": {},
     "output_type": "execute_result"
    }
   ],
   "source": [
    "model"
   ]
  },
  {
   "cell_type": "code",
   "execution_count": 27,
   "id": "6ee989d2",
   "metadata": {},
   "outputs": [],
   "source": [
    "loaded_model = torch.load('model_checkpoint_celeba_5_custom_new_male.pth')"
   ]
  },
  {
   "cell_type": "code",
   "execution_count": 28,
   "id": "d2c12b96",
   "metadata": {},
   "outputs": [
    {
     "data": {
      "text/plain": [
       "CNN(\n",
       "  (convolutional): Sequential(\n",
       "    (0): Conv2d(3, 64, kernel_size=(5, 5), stride=(4, 4), padding=(2, 2))\n",
       "    (1): ReLU(inplace=True)\n",
       "    (2): MaxPool2d(kernel_size=3, stride=2, padding=0, dilation=1, ceil_mode=False)\n",
       "    (3): Conv2d(64, 256, kernel_size=(5, 5), stride=(1, 1), padding=(2, 2))\n",
       "    (4): ReLU(inplace=True)\n",
       "    (5): MaxPool2d(kernel_size=3, stride=2, padding=0, dilation=1, ceil_mode=False)\n",
       "    (6): Conv2d(256, 512, kernel_size=(3, 3), stride=(1, 1), padding=(1, 1))\n",
       "    (7): ReLU(inplace=True)\n",
       "    (8): MaxPool2d(kernel_size=3, stride=2, padding=0, dilation=1, ceil_mode=False)\n",
       "  )\n",
       "  (linear): Sequential(\n",
       "    (0): Dropout(p=0.5, inplace=False)\n",
       "    (1): Linear(in_features=512, out_features=64, bias=True)\n",
       "    (2): ReLU(inplace=True)\n",
       "    (3): Linear(in_features=64, out_features=2, bias=True)\n",
       "  )\n",
       ")"
      ]
     },
     "execution_count": 28,
     "metadata": {},
     "output_type": "execute_result"
    }
   ],
   "source": [
    "loaded_model"
   ]
  },
  {
   "cell_type": "code",
   "execution_count": 26,
   "id": "b62e73f6",
   "metadata": {},
   "outputs": [],
   "source": [
    "import torch\n",
    "import torch.nn as nn\n",
    "from sklearn.metrics import confusion_matrix\n",
    "import seaborn as sns\n",
    "import matplotlib.pyplot as plt\n",
    "from sklearn.metrics import accuracy_score, precision_recall_fscore_support, confusion_matrix\n",
    "\n",
    "def evaluate_model(model, data_loader, print_confusion_matrix=True):\n",
    "    model.eval()\n",
    "    correct = 0\n",
    "    total = 0\n",
    "    all_labels = []\n",
    "    all_predictions = []\n",
    "\n",
    "    with torch.no_grad():\n",
    "        for images, labels in data_loader:\n",
    "            images, labels = images.to(device), labels.to(device)\n",
    "            outputs = model(images)\n",
    "            _, predicted = torch.max(outputs, 1)\n",
    "\n",
    "            total += labels.size(0)\n",
    "            correct += (predicted == labels).sum().item()\n",
    "\n",
    "            all_labels.extend(labels.cpu().numpy())\n",
    "            all_predictions.extend(predicted.cpu().numpy())\n",
    "\n",
    "    accuracy = accuracy_score(all_labels, all_predictions)\n",
    "    print(f'Accuracy: {accuracy:.4f}')\n",
    "\n",
    "    precision, recall, f1, _ = precision_recall_fscore_support(all_labels, all_predictions, average='weighted')\n",
    "    print(f'Weighted Precision: {precision:.4f}')\n",
    "    print(f'Weighted Recall: {recall:.4f}')\n",
    "    print(f'Weighted F1 Score: {f1:.4f}')\n",
    "\n",
    "    precision_macro, recall_macro, f1_macro, _ = precision_recall_fscore_support(all_labels, all_predictions, average='macro')\n",
    "    print(f'Macro Precision: {precision_macro:.4f}')\n",
    "    print(f'Macro Recall: {recall_macro:.4f}')\n",
    "    print(f'Macro F1 Score: {f1_macro:.4f}')\n",
    "\n",
    "    \n",
    "    if print_confusion_matrix:\n",
    "        # Create confusion matrix\n",
    "        cm = confusion_matrix(all_labels, all_predictions)\n",
    "\n",
    "        # Plot confusion matrix\n",
    "        plt.figure(figsize=(8, 6))\n",
    "        sns.heatmap(cm, annot=True, fmt=\"d\", cmap=\"Blues\",\n",
    "                    xticklabels=[\"Not Male\", \"Male\"], yticklabels=[\"Not Male\", \"Male\"])\n",
    "        plt.xlabel('Predicted')\n",
    "        plt.ylabel('True')\n",
    "        plt.title('Confusion Matrix')\n",
    "        plt.show()"
   ]
  },
  {
   "cell_type": "code",
   "execution_count": 27,
   "id": "7e0c962f",
   "metadata": {
    "scrolled": true
   },
   "outputs": [
    {
     "name": "stdout",
     "output_type": "stream",
     "text": [
      "Accuracy: 0.9544\n",
      "Weighted Precision: 0.9553\n",
      "Weighted Recall: 0.9544\n",
      "Weighted F1 Score: 0.9546\n",
      "Macro Precision: 0.9493\n",
      "Macro Recall: 0.9560\n",
      "Macro F1 Score: 0.9523\n"
     ]
    },
    {
     "data": {
      "image/png": "[encoded data removed]",
      "text/plain": [
       "<Figure size 800x600 with 2 Axes>"
      ]
     },
     "metadata": {},
     "output_type": "display_data"
    }
   ],
   "source": [
    "evaluate_model(model, test_loader)"
   ]
  },
  {
   "cell_type": "code",
   "execution_count": 67,
   "id": "3b9cd6ad",
   "metadata": {},
   "outputs": [
    {
     "data": {
      "text/plain": [
       "312"
      ]
     },
     "execution_count": 67,
     "metadata": {},
     "output_type": "execute_result"
    }
   ],
   "source": [
    "iter"
   ]
  },
  {
   "cell_type": "code",
   "execution_count": null,
   "id": "4cf618c3",
   "metadata": {},
   "outputs": [],
   "source": [
    "correct_pred.item()"
   ]
  },
  {
   "cell_type": "code",
   "execution_count": 58,
   "id": "ef489f32",
   "metadata": {},
   "outputs": [
    {
     "data": {
      "text/plain": [
       "19962"
      ]
     },
     "execution_count": 58,
     "metadata": {},
     "output_type": "execute_result"
    }
   ],
   "source": [
    "dataset_size"
   ]
  },
  {
   "cell_type": "code",
   "execution_count": 59,
   "id": "f36fb354",
   "metadata": {},
   "outputs": [
    {
     "data": {
      "text/plain": [
       "0.6112613966536419"
      ]
     },
     "execution_count": 59,
     "metadata": {},
     "output_type": "execute_result"
    }
   ],
   "source": [
    "correct_pred.item() / dataset_size"
   ]
  },
  {
   "cell_type": "code",
   "execution_count": null,
   "id": "9c0b393e",
   "metadata": {},
   "outputs": [],
   "source": []
  }
 ],
 "metadata": {
  "kernelspec": {
   "display_name": "Python 3 (ipykernel)",
   "language": "python",
   "name": "python3"
  },
  "language_info": {
   "codemirror_mode": {
    "name": "ipython",
    "version": 3
   },
   "file_extension": ".py",
   "mimetype": "text/x-python",
   "name": "python",
   "nbconvert_exporter": "python",
   "pygments_lexer": "ipython3",
   "version": "3.10.12"
  }
 },
 "nbformat": 4,
 "nbformat_minor": 5
}
