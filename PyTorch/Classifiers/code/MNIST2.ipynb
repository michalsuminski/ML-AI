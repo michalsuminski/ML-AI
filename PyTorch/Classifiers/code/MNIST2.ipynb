{
 "cells": [
  {
   "cell_type": "code",
   "execution_count": 1,
   "id": "7b0f1533",
   "metadata": {},
   "outputs": [],
   "source": [
    "import torch\n",
    "import torchvision\n",
    "from sklearn.model_selection import train_test_split\n",
    "\n",
    "# Download MNIST dataset\n",
    "train_dataset = torchvision.datasets.MNIST(root='./data', train=True, transform=None, target_transform=None, download=True)\n",
    "test_dataset = torchvision.datasets.MNIST(root='./data', train=False, transform=None, target_transform=None, download=True)"
   ]
  },
  {
   "cell_type": "code",
   "execution_count": 2,
   "id": "9b5c9e95",
   "metadata": {},
   "outputs": [],
   "source": [
    "# Convert PyTorch tensors to numpy arrays\n",
    "X_train = train_dataset.data.numpy()\n",
    "y_train = train_dataset.targets.numpy()\n",
    "X_test = test_dataset.data.numpy()\n",
    "y_test = test_dataset.targets.numpy()\n",
    "\n",
    "# Reshape the images to 28x28 format\n",
    "X_train = X_train.reshape(-1, 28, 28)\n",
    "X_test = X_test.reshape(-1, 28, 28)\n",
    "\n",
    "# Split the data into training and testing sets\n",
    "X_train, X_val, y_train, y_val = train_test_split(X_train, y_train, test_size=10000, random_state=42)"
   ]
  },
  {
   "cell_type": "markdown",
   "id": "a4cd031e",
   "metadata": {},
   "source": [
    "<font size='10'>Second feature selection method based on selecting edges of digits (their number and positions)</font>"
   ]
  },
  {
   "cell_type": "code",
   "execution_count": 3,
   "id": "eb208548",
   "metadata": {},
   "outputs": [],
   "source": [
    "# function which tranform vector with values from range(0,255) to vector with values 0,1\n",
    "def thresholdPixels(elem):\n",
    "    arr = []\n",
    "    for i in range(28):\n",
    "        for j in range(28):\n",
    "            if elem[i][j] > 50:\n",
    "                arr.append(1)\n",
    "            else:\n",
    "                arr.append(0)\n",
    "    # coonvert to numpy array for future processing\n",
    "    res = np.array(arr)\n",
    "    return res"
   ]
  },
  {
   "cell_type": "code",
   "execution_count": 96,
   "id": "3648768a",
   "metadata": {},
   "outputs": [],
   "source": [
    "import numpy as np\n",
    "import matplotlib.pyplot as plt"
   ]
  },
  {
   "cell_type": "code",
   "execution_count": 5,
   "id": "19eadc00",
   "metadata": {},
   "outputs": [],
   "source": [
    "X_trainTresholded = list(range(len(X_train)))\n",
    "X_testTresholded = list(range(len(X_test)))\n",
    "\n",
    "for index, value in enumerate(X_train):\n",
    "    X_trainTresholded[index] = thresholdPixels(value)\n",
    "    \n",
    "for index, value in enumerate(X_test):\n",
    "    X_testTresholded[index] = thresholdPixels(value)"
   ]
  },
  {
   "cell_type": "code",
   "execution_count": 30,
   "id": "842e6241",
   "metadata": {},
   "outputs": [
    {
     "data": {
      "text/plain": [
       "50000"
      ]
     },
     "execution_count": 30,
     "metadata": {},
     "output_type": "execute_result"
    }
   ],
   "source": [
    "len(X_trainTresholded)"
   ]
  },
  {
   "cell_type": "code",
   "execution_count": 31,
   "id": "5eec1cf6",
   "metadata": {},
   "outputs": [
    {
     "data": {
      "text/plain": [
       "28"
      ]
     },
     "execution_count": 31,
     "metadata": {},
     "output_type": "execute_result"
    }
   ],
   "source": [
    "len(X_trainTresholded[0])"
   ]
  },
  {
   "cell_type": "code",
   "execution_count": 32,
   "id": "0430f644",
   "metadata": {},
   "outputs": [
    {
     "data": {
      "text/plain": [
       "28"
      ]
     },
     "execution_count": 32,
     "metadata": {},
     "output_type": "execute_result"
    }
   ],
   "source": [
    "len(X_trainTresholded[0][0])"
   ]
  },
  {
   "cell_type": "code",
   "execution_count": 6,
   "id": "34b0f2ba",
   "metadata": {},
   "outputs": [
    {
     "data": {
      "image/png": "[encoded data removed]",
      "text/plain": [
       "<Figure size 432x288 with 1 Axes>"
      ]
     },
     "metadata": {
      "needs_background": "light"
     },
     "output_type": "display_data"
    }
   ],
   "source": [
    "plt.imshow(X_train[0], cmap='gray')\n",
    "plt.show()"
   ]
  },
  {
   "cell_type": "code",
   "execution_count": 7,
   "id": "601904c8",
   "metadata": {},
   "outputs": [
    {
     "data": {
      "image/png": "[encoded data removed]",
      "text/plain": [
       "<Figure size 432x288 with 1 Axes>"
      ]
     },
     "metadata": {
      "needs_background": "light"
     },
     "output_type": "display_data"
    }
   ],
   "source": [
    "tmp2 = np.array(X_trainTresholded)\n",
    "tmp = tmp2.reshape(-1, 28, 28)\n",
    "plt.imshow(tmp[0], cmap='gray')\n",
    "plt.show()"
   ]
  },
  {
   "cell_type": "code",
   "execution_count": 39,
   "id": "0cca617d",
   "metadata": {},
   "outputs": [],
   "source": [
    "# we are taking one pixel and check if number of his neighbours with value 1 is <= 4\n",
    "def getEdges(Matrix):\n",
    "    arr = []\n",
    "    for i in range(28):\n",
    "        for j in range(28):\n",
    "            numOf1s = 0\n",
    "            if i==0 or j==0 or i==27 or j==27:\n",
    "                arr.append(0)\n",
    "                continue\n",
    "            else:\n",
    "                # top-left\n",
    "                if Matrix[i-1][j-1]==1:\n",
    "                    numOf1s+=1\n",
    "                # top\n",
    "                if Matrix[i-1][j]==1:\n",
    "                    numOf1s+=1\n",
    "                # top-right\n",
    "                if Matrix[i-1][j+1]==1:\n",
    "                    numOf1s+=1\n",
    "                # right\n",
    "                if Matrix[i][j+1]==1:\n",
    "                    numOf1s+=1\n",
    "                # bottom-right\n",
    "                if Matrix[i+1][j+1]==1:\n",
    "                    numOf1s+=1\n",
    "                # bottom\n",
    "                if Matrix[i+1][j]==1:\n",
    "                    numOf1s+=1\n",
    "                # bottom-left\n",
    "                if Matrix[i+1][j-1]==1:\n",
    "                    numOf1s+=1\n",
    "                # left\n",
    "                if Matrix[i][j-1]==1:\n",
    "                    numOf1s+=1\n",
    "                # check how many 1s occured\n",
    "            if numOf1s < 4:\n",
    "                arr.append(1)\n",
    "            else:\n",
    "                arr.append(0)\n",
    "    return arr"
   ]
  },
  {
   "cell_type": "code",
   "execution_count": 51,
   "id": "16398906",
   "metadata": {},
   "outputs": [],
   "source": [
    "X_trainTresholded = np.array(X_trainTresholded)\n",
    "X_testTresholded = np.array(X_testTresholded)\n",
    "\n",
    "X_trainTresholded = X_trainTresholded.reshape(-1, 28, 28)\n",
    "X_testTresholded = X_testTresholded.reshape(-1, 28, 28)\n",
    "\n",
    "X_trainEdges = list(range(len(X_train)))\n",
    "X_testEdges = list(range(len(X_test)))\n",
    "\n",
    "for index, value in enumerate(X_trainTresholded):\n",
    "    X_trainEdges[index] = getEdges(value)\n",
    "    \n",
    "for index, value in enumerate(X_testTresholded):\n",
    "    X_testEdges[index] = getEdges(value)"
   ]
  },
  {
   "cell_type": "code",
   "execution_count": 50,
   "id": "cb157259",
   "metadata": {},
   "outputs": [
    {
     "data": {
      "text/plain": [
       "392000"
      ]
     },
     "execution_count": 50,
     "metadata": {},
     "output_type": "execute_result"
    }
   ],
   "source": [
    "len(X_trainEdges)"
   ]
  },
  {
   "cell_type": "code",
   "execution_count": 42,
   "id": "7ebccfcd",
   "metadata": {},
   "outputs": [
    {
     "data": {
      "text/plain": [
       "784"
      ]
     },
     "execution_count": 42,
     "metadata": {},
     "output_type": "execute_result"
    }
   ],
   "source": [
    "len(X_trainEdges[0])"
   ]
  },
  {
   "cell_type": "code",
   "execution_count": 52,
   "id": "f6655cf7",
   "metadata": {},
   "outputs": [],
   "source": [
    "X_trainEdges = np.array(X_trainEdges)\n",
    "X_testEdges = np.array(X_testEdges)"
   ]
  },
  {
   "cell_type": "code",
   "execution_count": 53,
   "id": "4345054a",
   "metadata": {},
   "outputs": [],
   "source": [
    "X_trainEdges = X_trainEdges.reshape(-1, 784)\n",
    "X_testEdges = X_testEdges.reshape(-1, 784)"
   ]
  },
  {
   "cell_type": "code",
   "execution_count": 54,
   "id": "328d2ce2",
   "metadata": {},
   "outputs": [],
   "source": [
    "from sklearn.neighbors import KNeighborsClassifier"
   ]
  },
  {
   "cell_type": "code",
   "execution_count": 62,
   "id": "5344e649",
   "metadata": {},
   "outputs": [],
   "source": [
    "from sklearn.model_selection import GridSearchCV"
   ]
  },
  {
   "cell_type": "code",
   "execution_count": 83,
   "id": "b62d67d2",
   "metadata": {},
   "outputs": [],
   "source": [
    "knn = KNeighborsClassifier()\n",
    "\n",
    "param_grid = {\n",
    "    'n_neighbors': [1, 5, 25, 50],\n",
    "    'weights': ['uniform', 'distance'],\n",
    "}\n",
    "\n",
    "gridKnn = GridSearchCV(knn, param_grid, scoring='accuracy', cv=5)"
   ]
  },
  {
   "cell_type": "code",
   "execution_count": 84,
   "id": "425084c2",
   "metadata": {},
   "outputs": [
    {
     "data": {
      "text/html": [
       "<style>#sk-container-id-6 {color: black;background-color: white;}#sk-container-id-6 pre{padding: 0;}#sk-container-id-6 div.sk-toggleable {background-color: white;}#sk-container-id-6 label.sk-toggleable__label {cursor: pointer;display: block;width: 100%;margin-bottom: 0;padding: 0.3em;box-sizing: border-box;text-align: center;}#sk-container-id-6 label.sk-toggleable__label-arrow:before {content: \"▸\";float: left;margin-right: 0.25em;color: #696969;}#sk-container-id-6 label.sk-toggleable__label-arrow:hover:before {color: black;}#sk-container-id-6 div.sk-estimator:hover label.sk-toggleable__label-arrow:before {color: black;}#sk-container-id-6 div.sk-toggleable__content {max-height: 0;max-width: 0;overflow: hidden;text-align: left;background-color: #f0f8ff;}#sk-container-id-6 div.sk-toggleable__content pre {margin: 0.2em;color: black;border-radius: 0.25em;background-color: #f0f8ff;}#sk-container-id-6 input.sk-toggleable__control:checked~div.sk-toggleable__content {max-height: 200px;max-width: 100%;overflow: auto;}#sk-container-id-6 input.sk-toggleable__control:checked~label.sk-toggleable__label-arrow:before {content: \"▾\";}#sk-container-id-6 div.sk-estimator input.sk-toggleable__control:checked~label.sk-toggleable__label {background-color: #d4ebff;}#sk-container-id-6 div.sk-label input.sk-toggleable__control:checked~label.sk-toggleable__label {background-color: #d4ebff;}#sk-container-id-6 input.sk-hidden--visually {border: 0;clip: rect(1px 1px 1px 1px);clip: rect(1px, 1px, 1px, 1px);height: 1px;margin: -1px;overflow: hidden;padding: 0;position: absolute;width: 1px;}#sk-container-id-6 div.sk-estimator {font-family: monospace;background-color: #f0f8ff;border: 1px dotted black;border-radius: 0.25em;box-sizing: border-box;margin-bottom: 0.5em;}#sk-container-id-6 div.sk-estimator:hover {background-color: #d4ebff;}#sk-container-id-6 div.sk-parallel-item::after {content: \"\";width: 100%;border-bottom: 1px solid gray;flex-grow: 1;}#sk-container-id-6 div.sk-label:hover label.sk-toggleable__label {background-color: #d4ebff;}#sk-container-id-6 div.sk-serial::before {content: \"\";position: absolute;border-left: 1px solid gray;box-sizing: border-box;top: 0;bottom: 0;left: 50%;z-index: 0;}#sk-container-id-6 div.sk-serial {display: flex;flex-direction: column;align-items: center;background-color: white;padding-right: 0.2em;padding-left: 0.2em;position: relative;}#sk-container-id-6 div.sk-item {position: relative;z-index: 1;}#sk-container-id-6 div.sk-parallel {display: flex;align-items: stretch;justify-content: center;background-color: white;position: relative;}#sk-container-id-6 div.sk-item::before, #sk-container-id-6 div.sk-parallel-item::before {content: \"\";position: absolute;border-left: 1px solid gray;box-sizing: border-box;top: 0;bottom: 0;left: 50%;z-index: -1;}#sk-container-id-6 div.sk-parallel-item {display: flex;flex-direction: column;z-index: 1;position: relative;background-color: white;}#sk-container-id-6 div.sk-parallel-item:first-child::after {align-self: flex-end;width: 50%;}#sk-container-id-6 div.sk-parallel-item:last-child::after {align-self: flex-start;width: 50%;}#sk-container-id-6 div.sk-parallel-item:only-child::after {width: 0;}#sk-container-id-6 div.sk-dashed-wrapped {border: 1px dashed gray;margin: 0 0.4em 0.5em 0.4em;box-sizing: border-box;padding-bottom: 0.4em;background-color: white;}#sk-container-id-6 div.sk-label label {font-family: monospace;font-weight: bold;display: inline-block;line-height: 1.2em;}#sk-container-id-6 div.sk-label-container {text-align: center;}#sk-container-id-6 div.sk-container {/* jupyter's `normalize.less` sets `[hidden] { display: none; }` but bootstrap.min.css set `[hidden] { display: none !important; }` so we also need the `!important` here to be able to override the default hidden behavior on the sphinx rendered scikit-learn.org. See: https://github.com/scikit-learn/scikit-learn/issues/21755 */display: inline-block !important;position: relative;}#sk-container-id-6 div.sk-text-repr-fallback {display: none;}</style><div id=\"sk-container-id-6\" class=\"sk-top-container\"><div class=\"sk-text-repr-fallback\"><pre>GridSearchCV(cv=5, estimator=KNeighborsClassifier(),\n",
       "             param_grid={&#x27;n_neighbors&#x27;: [1, 5, 25, 50],\n",
       "                         &#x27;weights&#x27;: [&#x27;uniform&#x27;, &#x27;distance&#x27;]},\n",
       "             scoring=&#x27;accuracy&#x27;)</pre><b>In a Jupyter environment, please rerun this cell to show the HTML representation or trust the notebook. <br />On GitHub, the HTML representation is unable to render, please try loading this page with nbviewer.org.</b></div><div class=\"sk-container\" hidden><div class=\"sk-item sk-dashed-wrapped\"><div class=\"sk-label-container\"><div class=\"sk-label sk-toggleable\"><input class=\"sk-toggleable__control sk-hidden--visually\" id=\"sk-estimator-id-14\" type=\"checkbox\" ><label for=\"sk-estimator-id-14\" class=\"sk-toggleable__label sk-toggleable__label-arrow\">GridSearchCV</label><div class=\"sk-toggleable__content\"><pre>GridSearchCV(cv=5, estimator=KNeighborsClassifier(),\n",
       "             param_grid={&#x27;n_neighbors&#x27;: [1, 5, 25, 50],\n",
       "                         &#x27;weights&#x27;: [&#x27;uniform&#x27;, &#x27;distance&#x27;]},\n",
       "             scoring=&#x27;accuracy&#x27;)</pre></div></div></div><div class=\"sk-parallel\"><div class=\"sk-parallel-item\"><div class=\"sk-item\"><div class=\"sk-label-container\"><div class=\"sk-label sk-toggleable\"><input class=\"sk-toggleable__control sk-hidden--visually\" id=\"sk-estimator-id-15\" type=\"checkbox\" ><label for=\"sk-estimator-id-15\" class=\"sk-toggleable__label sk-toggleable__label-arrow\">estimator: KNeighborsClassifier</label><div class=\"sk-toggleable__content\"><pre>KNeighborsClassifier()</pre></div></div></div><div class=\"sk-serial\"><div class=\"sk-item\"><div class=\"sk-estimator sk-toggleable\"><input class=\"sk-toggleable__control sk-hidden--visually\" id=\"sk-estimator-id-16\" type=\"checkbox\" ><label for=\"sk-estimator-id-16\" class=\"sk-toggleable__label sk-toggleable__label-arrow\">KNeighborsClassifier</label><div class=\"sk-toggleable__content\"><pre>KNeighborsClassifier()</pre></div></div></div></div></div></div></div></div></div></div>"
      ],
      "text/plain": [
       "GridSearchCV(cv=5, estimator=KNeighborsClassifier(),\n",
       "             param_grid={'n_neighbors': [1, 5, 25, 50],\n",
       "                         'weights': ['uniform', 'distance']},\n",
       "             scoring='accuracy')"
      ]
     },
     "execution_count": 84,
     "metadata": {},
     "output_type": "execute_result"
    }
   ],
   "source": [
    "gridKnn.fit(X_trainEdges, y_train)"
   ]
  },
  {
   "cell_type": "code",
   "execution_count": 85,
   "id": "58fe1c45",
   "metadata": {},
   "outputs": [
    {
     "name": "stdout",
     "output_type": "stream",
     "text": [
      "Best parameters:  {'n_neighbors': 5, 'weights': 'distance'}\n",
      "Best accuracy score:  0.96404\n"
     ]
    }
   ],
   "source": [
    "# Print the best hyperparameters and score\n",
    "print(\"Best parameters: \", gridKnn.best_params_)\n",
    "print(\"Best accuracy score: \", gridKnn.best_score_)"
   ]
  },
  {
   "cell_type": "code",
   "execution_count": 86,
   "id": "7df0f1d3",
   "metadata": {},
   "outputs": [
    {
     "name": "stdout",
     "output_type": "stream",
     "text": [
      "                                       params  mean_test_score  std_test_score\n",
      "0    {'n_neighbors': 1, 'weights': 'uniform'}          0.96056        0.001198\n",
      "1   {'n_neighbors': 1, 'weights': 'distance'}          0.96056        0.001198\n",
      "2    {'n_neighbors': 5, 'weights': 'uniform'}          0.96306        0.001617\n",
      "3   {'n_neighbors': 5, 'weights': 'distance'}          0.96404        0.001667\n",
      "4   {'n_neighbors': 25, 'weights': 'uniform'}          0.95144        0.001513\n",
      "5  {'n_neighbors': 25, 'weights': 'distance'}          0.95238        0.001493\n",
      "6   {'n_neighbors': 50, 'weights': 'uniform'}          0.94314        0.002002\n",
      "7  {'n_neighbors': 50, 'weights': 'distance'}          0.94388        0.001812\n"
     ]
    }
   ],
   "source": [
    "import pandas as pd\n",
    "\n",
    "cv_results = pd.DataFrame(gridKnn.cv_results_)\n",
    "print(cv_results[['params', 'mean_test_score', 'std_test_score']])"
   ]
  },
  {
   "cell_type": "code",
   "execution_count": 87,
   "id": "83038659",
   "metadata": {},
   "outputs": [],
   "source": [
    "knnPredictions = gridKnn.best_estimator_.predict(X_testEdges)"
   ]
  },
  {
   "cell_type": "code",
   "execution_count": 88,
   "id": "3b30de13",
   "metadata": {},
   "outputs": [],
   "source": [
    "from sklearn.metrics import accuracy_score, f1_score, precision_score, recall_score"
   ]
  },
  {
   "cell_type": "code",
   "execution_count": 93,
   "id": "965a5b49",
   "metadata": {},
   "outputs": [
    {
     "name": "stdout",
     "output_type": "stream",
     "text": [
      "Accuracy: 0.9631\n",
      "Precision(weighted): 0.9634585719932119\n",
      "Precision(macro): 0.9638159742925219\n",
      "Recall(weighted): 0.9631\n",
      "Recall(macro): 0.9624702673560204\n",
      "F1(weighted): 0.9630557149953205\n",
      "F1(macro): 0.9629213152850973\n"
     ]
    }
   ],
   "source": [
    "print(\"Accuracy: \" + str(accuracy_score(y_test, knnPredictions)))\n",
    "print(\"Precision(weighted): \" + str(precision_score(y_test, knnPredictions, average='weighted')))\n",
    "print(\"Precision(macro): \" + str(precision_score(y_test, knnPredictions, average='macro')))\n",
    "print(\"Recall(weighted): \" + str(recall_score(y_test, knnPredictions, average='weighted')))\n",
    "print(\"Recall(macro): \" + str(recall_score(y_test, knnPredictions, average='macro')))\n",
    "print(\"F1(weighted): \" + str(f1_score(y_test, knnPredictions, average='weighted')))\n",
    "print(\"F1(macro): \" + str(f1_score(y_test, knnPredictions, average='macro')))"
   ]
  },
  {
   "cell_type": "code",
   "execution_count": 103,
   "id": "9605bcce",
   "metadata": {},
   "outputs": [],
   "source": [
    "indexes = []\n",
    "for i in range(len(y_test)):\n",
    "    if y_test[i] != knnPredictions[i]:\n",
    "        indexes.append(i)\n",
    "        break\n",
    "for i in range(len(y_test)):\n",
    "    if y_test[-i] != knnPredictions[-i]:\n",
    "        indexes.append(-i)\n",
    "        break"
   ]
  },
  {
   "cell_type": "code",
   "execution_count": 97,
   "id": "3aca8cab",
   "metadata": {},
   "outputs": [
    {
     "data": {
      "image/png": "[encoded data removed]",
      "text/plain": [
       "<Figure size 432x288 with 1 Axes>"
      ]
     },
     "metadata": {
      "needs_background": "light"
     },
     "output_type": "display_data"
    }
   ],
   "source": [
    "plt.imshow(X_test[indexes[0]], cmap='gray')\n",
    "plt.show()"
   ]
  },
  {
   "cell_type": "code",
   "execution_count": 98,
   "id": "0bcd23a0",
   "metadata": {},
   "outputs": [
    {
     "name": "stdout",
     "output_type": "stream",
     "text": [
      "8\n"
     ]
    }
   ],
   "source": [
    "print(knnPredictions[indexes[0]])"
   ]
  },
  {
   "cell_type": "code",
   "execution_count": 104,
   "id": "e81fa61f",
   "metadata": {},
   "outputs": [
    {
     "data": {
      "image/png": "[encoded data removed]",
      "text/plain": [
       "<Figure size 432x288 with 1 Axes>"
      ]
     },
     "metadata": {
      "needs_background": "light"
     },
     "output_type": "display_data"
    }
   ],
   "source": [
    "plt.imshow(X_test[indexes[1]], cmap='gray')\n",
    "plt.show()"
   ]
  },
  {
   "cell_type": "code",
   "execution_count": 107,
   "id": "0177afec",
   "metadata": {},
   "outputs": [
    {
     "name": "stdout",
     "output_type": "stream",
     "text": [
      "5\n"
     ]
    }
   ],
   "source": [
    "print(y_test[indexes[1]])"
   ]
  },
  {
   "cell_type": "code",
   "execution_count": 105,
   "id": "4f0d6d0c",
   "metadata": {},
   "outputs": [
    {
     "name": "stdout",
     "output_type": "stream",
     "text": [
      "6\n"
     ]
    }
   ],
   "source": [
    "print(knnPredictions[indexes[1]])"
   ]
  },
  {
   "cell_type": "code",
   "execution_count": 113,
   "id": "15975908",
   "metadata": {},
   "outputs": [
    {
     "data": {
      "image/png": "[encoded data removed]",
      "text/plain": [
       "<Figure size 720x576 with 2 Axes>"
      ]
     },
     "metadata": {
      "needs_background": "light"
     },
     "output_type": "display_data"
    }
   ],
   "source": [
    "cm = confusion_matrix(y_test, knnPredictions)\n",
    "# Define class labels\n",
    "classes = ['Class 0', 'Class 1', 'Class 2', 'Class 3', 'Class 4', 'Class 5', 'Class 6', 'Class 7', 'Class 8', 'Class 9']\n",
    "# Set the size of the figure\n",
    "fig, ax = plt.subplots(figsize=(10, 8))\n",
    "\n",
    "# Create heatmap using seaborn\n",
    "sns.heatmap(cm, annot=True, cmap='Blues', fmt='d', xticklabels=classes, yticklabels=classes, ax=ax)\n",
    "# Add labels and title to plot\n",
    "plt.xlabel('Predicted Labels')\n",
    "plt.ylabel('True Labels')\n",
    "plt.title('Confusion Matrix')\n",
    "\n",
    "# Display plot\n",
    "plt.show()"
   ]
  },
  {
   "cell_type": "code",
   "execution_count": 92,
   "id": "5962796a",
   "metadata": {},
   "outputs": [],
   "source": [
    "from sklearn.neural_network import MLPClassifier"
   ]
  },
  {
   "cell_type": "code",
   "execution_count": 74,
   "id": "81398284",
   "metadata": {},
   "outputs": [],
   "source": [
    "# Create an instance of the MLPClassifier\n",
    "mlp = MLPClassifier(max_iter=1000)\n",
    "\n",
    "param_grid = {\n",
    "    'hidden_layer_sizes': [(10,), (50,), (100,)],\n",
    "    'activation': ['relu', 'logistic', 'tanh'],\n",
    "    'solver': ['sgd', 'adam'],\n",
    "}\n",
    "\n",
    "grid = GridSearchCV(mlp, param_grid, scoring='accuracy', cv=5)"
   ]
  },
  {
   "cell_type": "code",
   "execution_count": 75,
   "id": "93a37891",
   "metadata": {},
   "outputs": [
    {
     "name": "stderr",
     "output_type": "stream",
     "text": [
      "C:\\Users\\MICHU13\\anaconda3\\lib\\site-packages\\sklearn\\neural_network\\_multilayer_perceptron.py:702: ConvergenceWarning: Stochastic Optimizer: Maximum iterations (1000) reached and the optimization hasn't converged yet.\n",
      "  warnings.warn(\n",
      "C:\\Users\\MICHU13\\anaconda3\\lib\\site-packages\\sklearn\\neural_network\\_multilayer_perceptron.py:702: ConvergenceWarning: Stochastic Optimizer: Maximum iterations (1000) reached and the optimization hasn't converged yet.\n",
      "  warnings.warn(\n",
      "C:\\Users\\MICHU13\\anaconda3\\lib\\site-packages\\sklearn\\neural_network\\_multilayer_perceptron.py:702: ConvergenceWarning: Stochastic Optimizer: Maximum iterations (1000) reached and the optimization hasn't converged yet.\n",
      "  warnings.warn(\n",
      "C:\\Users\\MICHU13\\anaconda3\\lib\\site-packages\\sklearn\\neural_network\\_multilayer_perceptron.py:702: ConvergenceWarning: Stochastic Optimizer: Maximum iterations (1000) reached and the optimization hasn't converged yet.\n",
      "  warnings.warn(\n",
      "C:\\Users\\MICHU13\\anaconda3\\lib\\site-packages\\sklearn\\neural_network\\_multilayer_perceptron.py:702: ConvergenceWarning: Stochastic Optimizer: Maximum iterations (1000) reached and the optimization hasn't converged yet.\n",
      "  warnings.warn(\n",
      "C:\\Users\\MICHU13\\anaconda3\\lib\\site-packages\\sklearn\\neural_network\\_multilayer_perceptron.py:702: ConvergenceWarning: Stochastic Optimizer: Maximum iterations (1000) reached and the optimization hasn't converged yet.\n",
      "  warnings.warn(\n",
      "C:\\Users\\MICHU13\\anaconda3\\lib\\site-packages\\sklearn\\neural_network\\_multilayer_perceptron.py:702: ConvergenceWarning: Stochastic Optimizer: Maximum iterations (1000) reached and the optimization hasn't converged yet.\n",
      "  warnings.warn(\n",
      "C:\\Users\\MICHU13\\anaconda3\\lib\\site-packages\\sklearn\\neural_network\\_multilayer_perceptron.py:702: ConvergenceWarning: Stochastic Optimizer: Maximum iterations (1000) reached and the optimization hasn't converged yet.\n",
      "  warnings.warn(\n",
      "C:\\Users\\MICHU13\\anaconda3\\lib\\site-packages\\sklearn\\neural_network\\_multilayer_perceptron.py:702: ConvergenceWarning: Stochastic Optimizer: Maximum iterations (1000) reached and the optimization hasn't converged yet.\n",
      "  warnings.warn(\n",
      "C:\\Users\\MICHU13\\anaconda3\\lib\\site-packages\\sklearn\\neural_network\\_multilayer_perceptron.py:702: ConvergenceWarning: Stochastic Optimizer: Maximum iterations (1000) reached and the optimization hasn't converged yet.\n",
      "  warnings.warn(\n",
      "C:\\Users\\MICHU13\\anaconda3\\lib\\site-packages\\sklearn\\neural_network\\_multilayer_perceptron.py:702: ConvergenceWarning: Stochastic Optimizer: Maximum iterations (1000) reached and the optimization hasn't converged yet.\n",
      "  warnings.warn(\n",
      "C:\\Users\\MICHU13\\anaconda3\\lib\\site-packages\\sklearn\\neural_network\\_multilayer_perceptron.py:702: ConvergenceWarning: Stochastic Optimizer: Maximum iterations (1000) reached and the optimization hasn't converged yet.\n",
      "  warnings.warn(\n",
      "C:\\Users\\MICHU13\\anaconda3\\lib\\site-packages\\sklearn\\neural_network\\_multilayer_perceptron.py:702: ConvergenceWarning: Stochastic Optimizer: Maximum iterations (1000) reached and the optimization hasn't converged yet.\n",
      "  warnings.warn(\n",
      "C:\\Users\\MICHU13\\anaconda3\\lib\\site-packages\\sklearn\\neural_network\\_multilayer_perceptron.py:702: ConvergenceWarning: Stochastic Optimizer: Maximum iterations (1000) reached and the optimization hasn't converged yet.\n",
      "  warnings.warn(\n",
      "C:\\Users\\MICHU13\\anaconda3\\lib\\site-packages\\sklearn\\neural_network\\_multilayer_perceptron.py:702: ConvergenceWarning: Stochastic Optimizer: Maximum iterations (1000) reached and the optimization hasn't converged yet.\n",
      "  warnings.warn(\n",
      "C:\\Users\\MICHU13\\anaconda3\\lib\\site-packages\\sklearn\\neural_network\\_multilayer_perceptron.py:702: ConvergenceWarning: Stochastic Optimizer: Maximum iterations (1000) reached and the optimization hasn't converged yet.\n",
      "  warnings.warn(\n",
      "C:\\Users\\MICHU13\\anaconda3\\lib\\site-packages\\sklearn\\neural_network\\_multilayer_perceptron.py:702: ConvergenceWarning: Stochastic Optimizer: Maximum iterations (1000) reached and the optimization hasn't converged yet.\n",
      "  warnings.warn(\n",
      "C:\\Users\\MICHU13\\anaconda3\\lib\\site-packages\\sklearn\\neural_network\\_multilayer_perceptron.py:702: ConvergenceWarning: Stochastic Optimizer: Maximum iterations (1000) reached and the optimization hasn't converged yet.\n",
      "  warnings.warn(\n"
     ]
    },
    {
     "data": {
      "text/html": [
       "<style>#sk-container-id-4 {color: black;background-color: white;}#sk-container-id-4 pre{padding: 0;}#sk-container-id-4 div.sk-toggleable {background-color: white;}#sk-container-id-4 label.sk-toggleable__label {cursor: pointer;display: block;width: 100%;margin-bottom: 0;padding: 0.3em;box-sizing: border-box;text-align: center;}#sk-container-id-4 label.sk-toggleable__label-arrow:before {content: \"▸\";float: left;margin-right: 0.25em;color: #696969;}#sk-container-id-4 label.sk-toggleable__label-arrow:hover:before {color: black;}#sk-container-id-4 div.sk-estimator:hover label.sk-toggleable__label-arrow:before {color: black;}#sk-container-id-4 div.sk-toggleable__content {max-height: 0;max-width: 0;overflow: hidden;text-align: left;background-color: #f0f8ff;}#sk-container-id-4 div.sk-toggleable__content pre {margin: 0.2em;color: black;border-radius: 0.25em;background-color: #f0f8ff;}#sk-container-id-4 input.sk-toggleable__control:checked~div.sk-toggleable__content {max-height: 200px;max-width: 100%;overflow: auto;}#sk-container-id-4 input.sk-toggleable__control:checked~label.sk-toggleable__label-arrow:before {content: \"▾\";}#sk-container-id-4 div.sk-estimator input.sk-toggleable__control:checked~label.sk-toggleable__label {background-color: #d4ebff;}#sk-container-id-4 div.sk-label input.sk-toggleable__control:checked~label.sk-toggleable__label {background-color: #d4ebff;}#sk-container-id-4 input.sk-hidden--visually {border: 0;clip: rect(1px 1px 1px 1px);clip: rect(1px, 1px, 1px, 1px);height: 1px;margin: -1px;overflow: hidden;padding: 0;position: absolute;width: 1px;}#sk-container-id-4 div.sk-estimator {font-family: monospace;background-color: #f0f8ff;border: 1px dotted black;border-radius: 0.25em;box-sizing: border-box;margin-bottom: 0.5em;}#sk-container-id-4 div.sk-estimator:hover {background-color: #d4ebff;}#sk-container-id-4 div.sk-parallel-item::after {content: \"\";width: 100%;border-bottom: 1px solid gray;flex-grow: 1;}#sk-container-id-4 div.sk-label:hover label.sk-toggleable__label {background-color: #d4ebff;}#sk-container-id-4 div.sk-serial::before {content: \"\";position: absolute;border-left: 1px solid gray;box-sizing: border-box;top: 0;bottom: 0;left: 50%;z-index: 0;}#sk-container-id-4 div.sk-serial {display: flex;flex-direction: column;align-items: center;background-color: white;padding-right: 0.2em;padding-left: 0.2em;position: relative;}#sk-container-id-4 div.sk-item {position: relative;z-index: 1;}#sk-container-id-4 div.sk-parallel {display: flex;align-items: stretch;justify-content: center;background-color: white;position: relative;}#sk-container-id-4 div.sk-item::before, #sk-container-id-4 div.sk-parallel-item::before {content: \"\";position: absolute;border-left: 1px solid gray;box-sizing: border-box;top: 0;bottom: 0;left: 50%;z-index: -1;}#sk-container-id-4 div.sk-parallel-item {display: flex;flex-direction: column;z-index: 1;position: relative;background-color: white;}#sk-container-id-4 div.sk-parallel-item:first-child::after {align-self: flex-end;width: 50%;}#sk-container-id-4 div.sk-parallel-item:last-child::after {align-self: flex-start;width: 50%;}#sk-container-id-4 div.sk-parallel-item:only-child::after {width: 0;}#sk-container-id-4 div.sk-dashed-wrapped {border: 1px dashed gray;margin: 0 0.4em 0.5em 0.4em;box-sizing: border-box;padding-bottom: 0.4em;background-color: white;}#sk-container-id-4 div.sk-label label {font-family: monospace;font-weight: bold;display: inline-block;line-height: 1.2em;}#sk-container-id-4 div.sk-label-container {text-align: center;}#sk-container-id-4 div.sk-container {/* jupyter's `normalize.less` sets `[hidden] { display: none; }` but bootstrap.min.css set `[hidden] { display: none !important; }` so we also need the `!important` here to be able to override the default hidden behavior on the sphinx rendered scikit-learn.org. See: https://github.com/scikit-learn/scikit-learn/issues/21755 */display: inline-block !important;position: relative;}#sk-container-id-4 div.sk-text-repr-fallback {display: none;}</style><div id=\"sk-container-id-4\" class=\"sk-top-container\"><div class=\"sk-text-repr-fallback\"><pre>GridSearchCV(cv=5, estimator=MLPClassifier(max_iter=1000),\n",
       "             param_grid={&#x27;activation&#x27;: [&#x27;relu&#x27;, &#x27;logistic&#x27;, &#x27;tanh&#x27;],\n",
       "                         &#x27;hidden_layer_sizes&#x27;: [(10,), (50,), (100,)],\n",
       "                         &#x27;solver&#x27;: [&#x27;sgd&#x27;, &#x27;adam&#x27;]},\n",
       "             scoring=&#x27;accuracy&#x27;)</pre><b>In a Jupyter environment, please rerun this cell to show the HTML representation or trust the notebook. <br />On GitHub, the HTML representation is unable to render, please try loading this page with nbviewer.org.</b></div><div class=\"sk-container\" hidden><div class=\"sk-item sk-dashed-wrapped\"><div class=\"sk-label-container\"><div class=\"sk-label sk-toggleable\"><input class=\"sk-toggleable__control sk-hidden--visually\" id=\"sk-estimator-id-8\" type=\"checkbox\" ><label for=\"sk-estimator-id-8\" class=\"sk-toggleable__label sk-toggleable__label-arrow\">GridSearchCV</label><div class=\"sk-toggleable__content\"><pre>GridSearchCV(cv=5, estimator=MLPClassifier(max_iter=1000),\n",
       "             param_grid={&#x27;activation&#x27;: [&#x27;relu&#x27;, &#x27;logistic&#x27;, &#x27;tanh&#x27;],\n",
       "                         &#x27;hidden_layer_sizes&#x27;: [(10,), (50,), (100,)],\n",
       "                         &#x27;solver&#x27;: [&#x27;sgd&#x27;, &#x27;adam&#x27;]},\n",
       "             scoring=&#x27;accuracy&#x27;)</pre></div></div></div><div class=\"sk-parallel\"><div class=\"sk-parallel-item\"><div class=\"sk-item\"><div class=\"sk-label-container\"><div class=\"sk-label sk-toggleable\"><input class=\"sk-toggleable__control sk-hidden--visually\" id=\"sk-estimator-id-9\" type=\"checkbox\" ><label for=\"sk-estimator-id-9\" class=\"sk-toggleable__label sk-toggleable__label-arrow\">estimator: MLPClassifier</label><div class=\"sk-toggleable__content\"><pre>MLPClassifier(max_iter=1000)</pre></div></div></div><div class=\"sk-serial\"><div class=\"sk-item\"><div class=\"sk-estimator sk-toggleable\"><input class=\"sk-toggleable__control sk-hidden--visually\" id=\"sk-estimator-id-10\" type=\"checkbox\" ><label for=\"sk-estimator-id-10\" class=\"sk-toggleable__label sk-toggleable__label-arrow\">MLPClassifier</label><div class=\"sk-toggleable__content\"><pre>MLPClassifier(max_iter=1000)</pre></div></div></div></div></div></div></div></div></div></div>"
      ],
      "text/plain": [
       "GridSearchCV(cv=5, estimator=MLPClassifier(max_iter=1000),\n",
       "             param_grid={'activation': ['relu', 'logistic', 'tanh'],\n",
       "                         'hidden_layer_sizes': [(10,), (50,), (100,)],\n",
       "                         'solver': ['sgd', 'adam']},\n",
       "             scoring='accuracy')"
      ]
     },
     "execution_count": 75,
     "metadata": {},
     "output_type": "execute_result"
    }
   ],
   "source": [
    "grid.fit(X_trainEdges, y_train)"
   ]
  },
  {
   "cell_type": "code",
   "execution_count": 76,
   "id": "0539a92a",
   "metadata": {},
   "outputs": [
    {
     "name": "stdout",
     "output_type": "stream",
     "text": [
      "Best parameters:  {'activation': 'tanh', 'hidden_layer_sizes': (100,), 'solver': 'sgd'}\n",
      "Best accuracy score:  0.9643599999999999\n"
     ]
    }
   ],
   "source": [
    "# Print the best hyperparameters and score\n",
    "print(\"Best parameters: \", grid.best_params_)\n",
    "print(\"Best accuracy score: \", grid.best_score_)"
   ]
  },
  {
   "cell_type": "code",
   "execution_count": 109,
   "id": "0edf6ccc",
   "metadata": {},
   "outputs": [
    {
     "name": "stdout",
     "output_type": "stream",
     "text": [
      "                                               params  mean_test_score\n",
      "0   {'activation': 'relu', 'hidden_layer_sizes': (...          0.89690\n",
      "1   {'activation': 'relu', 'hidden_layer_sizes': (...          0.86556\n",
      "2   {'activation': 'relu', 'hidden_layer_sizes': (...          0.95504\n",
      "3   {'activation': 'relu', 'hidden_layer_sizes': (...          0.94498\n",
      "4   {'activation': 'relu', 'hidden_layer_sizes': (...          0.96142\n",
      "5   {'activation': 'relu', 'hidden_layer_sizes': (...          0.95728\n",
      "6   {'activation': 'logistic', 'hidden_layer_sizes...          0.91816\n",
      "7   {'activation': 'logistic', 'hidden_layer_sizes...          0.91640\n",
      "8   {'activation': 'logistic', 'hidden_layer_sizes...          0.95350\n",
      "9   {'activation': 'logistic', 'hidden_layer_sizes...          0.95318\n",
      "10  {'activation': 'logistic', 'hidden_layer_sizes...          0.95716\n",
      "11  {'activation': 'logistic', 'hidden_layer_sizes...          0.96350\n",
      "12  {'activation': 'tanh', 'hidden_layer_sizes': (...          0.91678\n",
      "13  {'activation': 'tanh', 'hidden_layer_sizes': (...          0.91268\n",
      "14  {'activation': 'tanh', 'hidden_layer_sizes': (...          0.95796\n",
      "15  {'activation': 'tanh', 'hidden_layer_sizes': (...          0.94926\n",
      "16  {'activation': 'tanh', 'hidden_layer_sizes': (...          0.96436\n",
      "17  {'activation': 'tanh', 'hidden_layer_sizes': (...          0.96044\n"
     ]
    }
   ],
   "source": [
    "cv_results = pd.DataFrame(grid.cv_results_)\n",
    "print(cv_results[['params', 'mean_test_score']])"
   ]
  },
  {
   "cell_type": "code",
   "execution_count": 110,
   "id": "60dcb968",
   "metadata": {},
   "outputs": [],
   "source": [
    "cv_results.to_csv('MLP.txt', sep='\\t', index=False)"
   ]
  },
  {
   "cell_type": "code",
   "execution_count": 111,
   "id": "d14f06c7",
   "metadata": {},
   "outputs": [],
   "source": [
    "mlpPredictions = grid.best_estimator_.predict(X_testEdges)"
   ]
  },
  {
   "cell_type": "code",
   "execution_count": 112,
   "id": "672fc0cb",
   "metadata": {},
   "outputs": [
    {
     "name": "stdout",
     "output_type": "stream",
     "text": [
      "Accuracy: 0.9686\n",
      "Precision(weighted): 0.9686775351523311\n",
      "Precision(macro): 0.9686001507868459\n",
      "Recall(weighted): 0.9686\n",
      "Recall(macro): 0.9681688521629461\n",
      "F1(weighted): 0.9685759936759607\n",
      "F1(macro): 0.9683207450941019\n"
     ]
    }
   ],
   "source": [
    "print(\"Accuracy: \" + str(accuracy_score(y_test, mlpPredictions)))\n",
    "print(\"Precision(weighted): \" + str(precision_score(y_test, mlpPredictions, average='weighted')))\n",
    "print(\"Precision(macro): \" + str(precision_score(y_test, mlpPredictions, average='macro')))\n",
    "print(\"Recall(weighted): \" + str(recall_score(y_test, mlpPredictions, average='weighted')))\n",
    "print(\"Recall(macro): \" + str(recall_score(y_test, mlpPredictions, average='macro')))\n",
    "print(\"F1(weighted): \" + str(f1_score(y_test, mlpPredictions, average='weighted')))\n",
    "print(\"F1(macro): \" + str(f1_score(y_test, mlpPredictions, average='macro')))"
   ]
  },
  {
   "cell_type": "code",
   "execution_count": 114,
   "id": "fdbc381e",
   "metadata": {},
   "outputs": [
    {
     "data": {
      "image/png": "[encoded data removed]",
      "text/plain": [
       "<Figure size 720x576 with 2 Axes>"
      ]
     },
     "metadata": {
      "needs_background": "light"
     },
     "output_type": "display_data"
    }
   ],
   "source": [
    "cm = confusion_matrix(y_test, mlpPredictions)\n",
    "# Define class labels\n",
    "classes = ['Class 0', 'Class 1', 'Class 2', 'Class 3', 'Class 4', 'Class 5', 'Class 6', 'Class 7', 'Class 8', 'Class 9']\n",
    "# Set the size of the figure\n",
    "fig, ax = plt.subplots(figsize=(10, 8))\n",
    "\n",
    "# Create heatmap using seaborn\n",
    "sns.heatmap(cm, annot=True, cmap='Blues', fmt='d', xticklabels=classes, yticklabels=classes, ax=ax)\n",
    "# Add labels and title to plot\n",
    "plt.xlabel('Predicted Labels')\n",
    "plt.ylabel('True Labels')\n",
    "plt.title('Confusion Matrix')\n",
    "\n",
    "# Display plot\n",
    "plt.show()"
   ]
  },
  {
   "cell_type": "code",
   "execution_count": 115,
   "id": "bf601c1a",
   "metadata": {},
   "outputs": [],
   "source": [
    "indexes = []\n",
    "for i in range(len(y_test)):\n",
    "    if y_test[i] != mlpPredictions[i]:\n",
    "        indexes.append(i)\n",
    "        break\n",
    "for i in range(len(y_test)):\n",
    "    if y_test[-i] != mlpPredictions[-i]:\n",
    "        indexes.append(-i)\n",
    "        break"
   ]
  },
  {
   "cell_type": "code",
   "execution_count": 116,
   "id": "15e0e435",
   "metadata": {},
   "outputs": [
    {
     "data": {
      "image/png": "[encoded data removed]",
      "text/plain": [
       "<Figure size 432x288 with 1 Axes>"
      ]
     },
     "metadata": {
      "needs_background": "light"
     },
     "output_type": "display_data"
    }
   ],
   "source": [
    "plt.imshow(X_test[indexes[0]], cmap='gray')\n",
    "plt.show()"
   ]
  },
  {
   "cell_type": "code",
   "execution_count": 117,
   "id": "943ca8a4",
   "metadata": {},
   "outputs": [
    {
     "name": "stdout",
     "output_type": "stream",
     "text": [
      "5\n"
     ]
    }
   ],
   "source": [
    "print(y_test[indexes[0]])"
   ]
  },
  {
   "cell_type": "code",
   "execution_count": 118,
   "id": "24c59bdb",
   "metadata": {},
   "outputs": [
    {
     "name": "stdout",
     "output_type": "stream",
     "text": [
      "6\n"
     ]
    }
   ],
   "source": [
    "print(mlpPredictions[indexes[0]])"
   ]
  },
  {
   "cell_type": "code",
   "execution_count": 119,
   "id": "248dadcc",
   "metadata": {},
   "outputs": [
    {
     "data": {
      "image/png": "[encoded data removed]",
      "text/plain": [
       "<Figure size 432x288 with 1 Axes>"
      ]
     },
     "metadata": {
      "needs_background": "light"
     },
     "output_type": "display_data"
    }
   ],
   "source": [
    "plt.imshow(X_test[indexes[1]], cmap='gray')\n",
    "plt.show()"
   ]
  },
  {
   "cell_type": "code",
   "execution_count": 120,
   "id": "b8a86f26",
   "metadata": {},
   "outputs": [
    {
     "name": "stdout",
     "output_type": "stream",
     "text": [
      "3\n"
     ]
    }
   ],
   "source": [
    "print(y_test[indexes[1]])"
   ]
  },
  {
   "cell_type": "code",
   "execution_count": 121,
   "id": "b2664b37",
   "metadata": {},
   "outputs": [
    {
     "name": "stdout",
     "output_type": "stream",
     "text": [
      "8\n"
     ]
    }
   ],
   "source": [
    "print(mlpPredictions[indexes[1]])"
   ]
  },
  {
   "cell_type": "code",
   "execution_count": 78,
   "id": "2eb0f334",
   "metadata": {},
   "outputs": [],
   "source": [
    "from sklearn.svm import SVC"
   ]
  },
  {
   "cell_type": "code",
   "execution_count": 79,
   "id": "529437ed",
   "metadata": {},
   "outputs": [],
   "source": [
    "# Create an instance of the MLPClassifier\n",
    "svc = SVC()\n",
    "\n",
    "param_grid = {\n",
    "    'C': [1, 10, 50, 100],\n",
    "    'kernel': ['linear', 'poly', 'rbf', 'sigmoid'],\n",
    "}\n",
    "\n",
    "gridSVC = GridSearchCV(svc, param_grid, scoring='accuracy', cv=5)"
   ]
  },
  {
   "cell_type": "code",
   "execution_count": 80,
   "id": "971c6799",
   "metadata": {},
   "outputs": [
    {
     "data": {
      "text/html": [
       "<style>#sk-container-id-5 {color: black;background-color: white;}#sk-container-id-5 pre{padding: 0;}#sk-container-id-5 div.sk-toggleable {background-color: white;}#sk-container-id-5 label.sk-toggleable__label {cursor: pointer;display: block;width: 100%;margin-bottom: 0;padding: 0.3em;box-sizing: border-box;text-align: center;}#sk-container-id-5 label.sk-toggleable__label-arrow:before {content: \"▸\";float: left;margin-right: 0.25em;color: #696969;}#sk-container-id-5 label.sk-toggleable__label-arrow:hover:before {color: black;}#sk-container-id-5 div.sk-estimator:hover label.sk-toggleable__label-arrow:before {color: black;}#sk-container-id-5 div.sk-toggleable__content {max-height: 0;max-width: 0;overflow: hidden;text-align: left;background-color: #f0f8ff;}#sk-container-id-5 div.sk-toggleable__content pre {margin: 0.2em;color: black;border-radius: 0.25em;background-color: #f0f8ff;}#sk-container-id-5 input.sk-toggleable__control:checked~div.sk-toggleable__content {max-height: 200px;max-width: 100%;overflow: auto;}#sk-container-id-5 input.sk-toggleable__control:checked~label.sk-toggleable__label-arrow:before {content: \"▾\";}#sk-container-id-5 div.sk-estimator input.sk-toggleable__control:checked~label.sk-toggleable__label {background-color: #d4ebff;}#sk-container-id-5 div.sk-label input.sk-toggleable__control:checked~label.sk-toggleable__label {background-color: #d4ebff;}#sk-container-id-5 input.sk-hidden--visually {border: 0;clip: rect(1px 1px 1px 1px);clip: rect(1px, 1px, 1px, 1px);height: 1px;margin: -1px;overflow: hidden;padding: 0;position: absolute;width: 1px;}#sk-container-id-5 div.sk-estimator {font-family: monospace;background-color: #f0f8ff;border: 1px dotted black;border-radius: 0.25em;box-sizing: border-box;margin-bottom: 0.5em;}#sk-container-id-5 div.sk-estimator:hover {background-color: #d4ebff;}#sk-container-id-5 div.sk-parallel-item::after {content: \"\";width: 100%;border-bottom: 1px solid gray;flex-grow: 1;}#sk-container-id-5 div.sk-label:hover label.sk-toggleable__label {background-color: #d4ebff;}#sk-container-id-5 div.sk-serial::before {content: \"\";position: absolute;border-left: 1px solid gray;box-sizing: border-box;top: 0;bottom: 0;left: 50%;z-index: 0;}#sk-container-id-5 div.sk-serial {display: flex;flex-direction: column;align-items: center;background-color: white;padding-right: 0.2em;padding-left: 0.2em;position: relative;}#sk-container-id-5 div.sk-item {position: relative;z-index: 1;}#sk-container-id-5 div.sk-parallel {display: flex;align-items: stretch;justify-content: center;background-color: white;position: relative;}#sk-container-id-5 div.sk-item::before, #sk-container-id-5 div.sk-parallel-item::before {content: \"\";position: absolute;border-left: 1px solid gray;box-sizing: border-box;top: 0;bottom: 0;left: 50%;z-index: -1;}#sk-container-id-5 div.sk-parallel-item {display: flex;flex-direction: column;z-index: 1;position: relative;background-color: white;}#sk-container-id-5 div.sk-parallel-item:first-child::after {align-self: flex-end;width: 50%;}#sk-container-id-5 div.sk-parallel-item:last-child::after {align-self: flex-start;width: 50%;}#sk-container-id-5 div.sk-parallel-item:only-child::after {width: 0;}#sk-container-id-5 div.sk-dashed-wrapped {border: 1px dashed gray;margin: 0 0.4em 0.5em 0.4em;box-sizing: border-box;padding-bottom: 0.4em;background-color: white;}#sk-container-id-5 div.sk-label label {font-family: monospace;font-weight: bold;display: inline-block;line-height: 1.2em;}#sk-container-id-5 div.sk-label-container {text-align: center;}#sk-container-id-5 div.sk-container {/* jupyter's `normalize.less` sets `[hidden] { display: none; }` but bootstrap.min.css set `[hidden] { display: none !important; }` so we also need the `!important` here to be able to override the default hidden behavior on the sphinx rendered scikit-learn.org. See: https://github.com/scikit-learn/scikit-learn/issues/21755 */display: inline-block !important;position: relative;}#sk-container-id-5 div.sk-text-repr-fallback {display: none;}</style><div id=\"sk-container-id-5\" class=\"sk-top-container\"><div class=\"sk-text-repr-fallback\"><pre>GridSearchCV(cv=5, estimator=SVC(),\n",
       "             param_grid={&#x27;C&#x27;: [1, 10, 50, 100],\n",
       "                         &#x27;kernel&#x27;: [&#x27;linear&#x27;, &#x27;poly&#x27;, &#x27;rbf&#x27;, &#x27;sigmoid&#x27;]},\n",
       "             scoring=&#x27;accuracy&#x27;)</pre><b>In a Jupyter environment, please rerun this cell to show the HTML representation or trust the notebook. <br />On GitHub, the HTML representation is unable to render, please try loading this page with nbviewer.org.</b></div><div class=\"sk-container\" hidden><div class=\"sk-item sk-dashed-wrapped\"><div class=\"sk-label-container\"><div class=\"sk-label sk-toggleable\"><input class=\"sk-toggleable__control sk-hidden--visually\" id=\"sk-estimator-id-11\" type=\"checkbox\" ><label for=\"sk-estimator-id-11\" class=\"sk-toggleable__label sk-toggleable__label-arrow\">GridSearchCV</label><div class=\"sk-toggleable__content\"><pre>GridSearchCV(cv=5, estimator=SVC(),\n",
       "             param_grid={&#x27;C&#x27;: [1, 10, 50, 100],\n",
       "                         &#x27;kernel&#x27;: [&#x27;linear&#x27;, &#x27;poly&#x27;, &#x27;rbf&#x27;, &#x27;sigmoid&#x27;]},\n",
       "             scoring=&#x27;accuracy&#x27;)</pre></div></div></div><div class=\"sk-parallel\"><div class=\"sk-parallel-item\"><div class=\"sk-item\"><div class=\"sk-label-container\"><div class=\"sk-label sk-toggleable\"><input class=\"sk-toggleable__control sk-hidden--visually\" id=\"sk-estimator-id-12\" type=\"checkbox\" ><label for=\"sk-estimator-id-12\" class=\"sk-toggleable__label sk-toggleable__label-arrow\">estimator: SVC</label><div class=\"sk-toggleable__content\"><pre>SVC()</pre></div></div></div><div class=\"sk-serial\"><div class=\"sk-item\"><div class=\"sk-estimator sk-toggleable\"><input class=\"sk-toggleable__control sk-hidden--visually\" id=\"sk-estimator-id-13\" type=\"checkbox\" ><label for=\"sk-estimator-id-13\" class=\"sk-toggleable__label sk-toggleable__label-arrow\">SVC</label><div class=\"sk-toggleable__content\"><pre>SVC()</pre></div></div></div></div></div></div></div></div></div></div>"
      ],
      "text/plain": [
       "GridSearchCV(cv=5, estimator=SVC(),\n",
       "             param_grid={'C': [1, 10, 50, 100],\n",
       "                         'kernel': ['linear', 'poly', 'rbf', 'sigmoid']},\n",
       "             scoring='accuracy')"
      ]
     },
     "execution_count": 80,
     "metadata": {},
     "output_type": "execute_result"
    }
   ],
   "source": [
    "gridSVC.fit(X_trainEdges, y_train)"
   ]
  },
  {
   "cell_type": "code",
   "execution_count": 81,
   "id": "a553c762",
   "metadata": {},
   "outputs": [
    {
     "name": "stdout",
     "output_type": "stream",
     "text": [
      "Best parameters:  {'C': 10, 'kernel': 'rbf'}\n",
      "Best accuracy score:  0.9718\n"
     ]
    }
   ],
   "source": [
    "# Print the best hyperparameters and score\n",
    "print(\"Best parameters: \", gridSVC.best_params_)\n",
    "print(\"Best accuracy score: \", gridSVC.best_score_)"
   ]
  },
  {
   "cell_type": "code",
   "execution_count": 82,
   "id": "5470a97a",
   "metadata": {},
   "outputs": [
    {
     "name": "stdout",
     "output_type": "stream",
     "text": [
      "                             params  mean_test_score  std_test_score\n",
      "0      {'C': 1, 'kernel': 'linear'}          0.91506        0.001488\n",
      "1        {'C': 1, 'kernel': 'poly'}          0.96518        0.000954\n",
      "2         {'C': 1, 'kernel': 'rbf'}          0.96444        0.001348\n",
      "3     {'C': 1, 'kernel': 'sigmoid'}          0.61012        0.003055\n",
      "4     {'C': 10, 'kernel': 'linear'}          0.90428        0.001076\n",
      "5       {'C': 10, 'kernel': 'poly'}          0.96334        0.000794\n",
      "6        {'C': 10, 'kernel': 'rbf'}          0.97180        0.000938\n",
      "7    {'C': 10, 'kernel': 'sigmoid'}          0.48322        0.004337\n",
      "8     {'C': 50, 'kernel': 'linear'}          0.90148        0.001434\n",
      "9       {'C': 50, 'kernel': 'poly'}          0.96326        0.000828\n",
      "10       {'C': 50, 'kernel': 'rbf'}          0.97110        0.000876\n",
      "11   {'C': 50, 'kernel': 'sigmoid'}          0.52598        0.027396\n",
      "12   {'C': 100, 'kernel': 'linear'}          0.90036        0.001164\n",
      "13     {'C': 100, 'kernel': 'poly'}          0.96326        0.000828\n",
      "14      {'C': 100, 'kernel': 'rbf'}          0.97114        0.000900\n",
      "15  {'C': 100, 'kernel': 'sigmoid'}          0.55898        0.005889\n"
     ]
    }
   ],
   "source": [
    "cv_results = pd.DataFrame(gridSVC.cv_results_)\n",
    "print(cv_results[['params', 'mean_test_score', 'std_test_score']])"
   ]
  },
  {
   "cell_type": "code",
   "execution_count": 122,
   "id": "54d4f0e0",
   "metadata": {},
   "outputs": [],
   "source": [
    "svcPredictions = gridSVC.best_estimator_.predict(X_testEdges)"
   ]
  },
  {
   "cell_type": "code",
   "execution_count": 123,
   "id": "149d1463",
   "metadata": {},
   "outputs": [
    {
     "name": "stdout",
     "output_type": "stream",
     "text": [
      "Accuracy: 0.9746\n",
      "Precision(weighted): 0.9746338938996453\n",
      "Precision(macro): 0.9746850269064437\n",
      "Recall(weighted): 0.9746\n",
      "Recall(macro): 0.974209137511556\n",
      "F1(weighted): 0.9745731117374252\n",
      "F1(macro): 0.974402771103434\n"
     ]
    }
   ],
   "source": [
    "print(\"Accuracy: \" + str(accuracy_score(y_test, svcPredictions)))\n",
    "print(\"Precision(weighted): \" + str(precision_score(y_test, svcPredictions, average='weighted')))\n",
    "print(\"Precision(macro): \" + str(precision_score(y_test, svcPredictions, average='macro')))\n",
    "print(\"Recall(weighted): \" + str(recall_score(y_test, svcPredictions, average='weighted')))\n",
    "print(\"Recall(macro): \" + str(recall_score(y_test, svcPredictions, average='macro')))\n",
    "print(\"F1(weighted): \" + str(f1_score(y_test, svcPredictions, average='weighted')))\n",
    "print(\"F1(macro): \" + str(f1_score(y_test, svcPredictions, average='macro')))"
   ]
  },
  {
   "cell_type": "code",
   "execution_count": 125,
   "id": "ba79ad8f",
   "metadata": {},
   "outputs": [
    {
     "data": {
      "image/png": "[encoded data removed]",
      "text/plain": [
       "<Figure size 720x576 with 2 Axes>"
      ]
     },
     "metadata": {
      "needs_background": "light"
     },
     "output_type": "display_data"
    }
   ],
   "source": [
    "cm = confusion_matrix(y_test, svcPredictions)\n",
    "# Define class labels\n",
    "classes = ['Class 0', 'Class 1', 'Class 2', 'Class 3', 'Class 4', 'Class 5', 'Class 6', 'Class 7', 'Class 8', 'Class 9']\n",
    "# Set the size of the figure\n",
    "fig, ax = plt.subplots(figsize=(10, 8))\n",
    "\n",
    "# Create heatmap using seaborn\n",
    "sns.heatmap(cm, annot=True, cmap='Blues', fmt='d', xticklabels=classes, yticklabels=classes, ax=ax)\n",
    "# Add labels and title to plot\n",
    "plt.xlabel('Predicted Labels')\n",
    "plt.ylabel('True Labels')\n",
    "plt.title('Confusion Matrix')\n",
    "\n",
    "# Display plot\n",
    "plt.show()"
   ]
  },
  {
   "cell_type": "code",
   "execution_count": 126,
   "id": "be280b79",
   "metadata": {},
   "outputs": [],
   "source": [
    "indexes = []\n",
    "for i in range(len(y_test)):\n",
    "    if y_test[i] != svcPredictions[i]:\n",
    "        indexes.append(i)\n",
    "        break\n",
    "for i in range(len(y_test)):\n",
    "    if y_test[-i] != svcPredictions[-i]:\n",
    "        indexes.append(-i)\n",
    "        break"
   ]
  },
  {
   "cell_type": "code",
   "execution_count": 127,
   "id": "bb66684b",
   "metadata": {},
   "outputs": [
    {
     "data": {
      "image/png": "[encoded data removed]",
      "text/plain": [
       "<Figure size 432x288 with 1 Axes>"
      ]
     },
     "metadata": {
      "needs_background": "light"
     },
     "output_type": "display_data"
    }
   ],
   "source": [
    "plt.imshow(X_test[indexes[0]], cmap='gray')\n",
    "plt.show()"
   ]
  },
  {
   "cell_type": "code",
   "execution_count": 128,
   "id": "57411854",
   "metadata": {},
   "outputs": [
    {
     "name": "stdout",
     "output_type": "stream",
     "text": [
      "4\n"
     ]
    }
   ],
   "source": [
    "print(y_test[indexes[0]])"
   ]
  },
  {
   "cell_type": "code",
   "execution_count": 129,
   "id": "db3300f0",
   "metadata": {},
   "outputs": [
    {
     "name": "stdout",
     "output_type": "stream",
     "text": [
      "0\n"
     ]
    }
   ],
   "source": [
    "print(svcPredictions[indexes[0]])"
   ]
  },
  {
   "cell_type": "code",
   "execution_count": 130,
   "id": "ea916ca4",
   "metadata": {},
   "outputs": [
    {
     "data": {
      "image/png": "[encoded data removed]",
      "text/plain": [
       "<Figure size 432x288 with 1 Axes>"
      ]
     },
     "metadata": {
      "needs_background": "light"
     },
     "output_type": "display_data"
    }
   ],
   "source": [
    "plt.imshow(X_test[indexes[1]], cmap='gray')\n",
    "plt.show()"
   ]
  },
  {
   "cell_type": "code",
   "execution_count": 131,
   "id": "e2a50fbc",
   "metadata": {},
   "outputs": [
    {
     "name": "stdout",
     "output_type": "stream",
     "text": [
      "3\n"
     ]
    }
   ],
   "source": [
    "print(y_test[indexes[1]])"
   ]
  },
  {
   "cell_type": "code",
   "execution_count": 132,
   "id": "b7d43b10",
   "metadata": {},
   "outputs": [
    {
     "name": "stdout",
     "output_type": "stream",
     "text": [
      "8\n"
     ]
    }
   ],
   "source": [
    "print(svcPredictions[indexes[1]])"
   ]
  }
 ],
 "metadata": {
  "kernelspec": {
   "display_name": "Python 3",
   "language": "python",
   "name": "python3"
  },
  "language_info": {
   "codemirror_mode": {
    "name": "ipython",
    "version": 3
   },
   "file_extension": ".py",
   "mimetype": "text/x-python",
   "name": "python",
   "nbconvert_exporter": "python",
   "pygments_lexer": "ipython3",
   "version": "3.8.8"
  }
 },
 "nbformat": 4,
 "nbformat_minor": 5
}
